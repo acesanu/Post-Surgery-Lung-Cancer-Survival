{
 "cells": [
  {
   "cell_type": "markdown",
   "metadata": {
    "id": "8G3Z9mi11sOM"
   },
   "source": [
    "## Post Surgery Lung Cancer Survival"
   ]
  },
  {
   "cell_type": "markdown",
   "metadata": {
    "id": "wxzHZCNC1zTA"
   },
   "source": [
    "<a id = Section1></a>\n",
    "\n",
    "---\n",
    "# **1. Introduction**\n",
    "---\n",
    "**<h3>Lung Cancer:</h3>**\n",
    "\n",
    "- It refers to an **uncontrolled growth** of **abnormal cells** in **one or both lungs**, **usually** in the **cells lining air passages**. \n",
    "\n",
    "- These **abnormal cells do not grow into healthy lung tissue**, **but divide rapidly** to **form tumours** that **interfere** with **lung function**.\n",
    "\n",
    "**<h3>Treatment(Thoracic Surgery):</h3>**\n",
    "\n",
    "- This surgery **refers** to an **operation on organs in the chest, including the heart, lungs and esophagus**.\n",
    "\n",
    "- **Examples** of thoracic surgery include **coronary artery bypass surgery, heart transplant, lung transplant** and **removal of parts of the lung affected by cancer**.\n",
    "\n",
    "- Thoracic surgery, **also known as chest surgery**, may be **used to diagnose or repair lungs affected by cancer, trauma or pulmonary disease**. \n",
    "\n",
    "- Thoracic **surgery** procedures may be **performed with either minimally invasive techniques** or an **open surgical procedure** called a **thoracotomy**.\n",
    "\n",
    "- **Surgeon** may **opt** for a **thoracotomy when it is necessary** to see large portions of the lung or inner chest cavity. The procedure may be **performed to remove the entire lung or a portion of the lung**.\n",
    "\n",
    "\n",
    "\n",
    "**<h3>Symptoms:</h3>**\n",
    "\n",
    "- It includes a **cough** (often with blood), **chest pain**, **wheezing and weight loss**.\n",
    "\n",
    "- It **requries** a **medical diagnosis** and **symptoms often don't appear until the cancer is advanced**.\n",
    "\n",
    "**<h3>Quick Facts:</h3>**\n",
    "\n",
    "- According to <a href = \"https://www.who.int/news-room/fact-sheets/detail/cancer\">**World Health Orgainization (WHO)**</a>, **cancer** is the **second leading cause of death globally**, and is responsible for an **estimated 9.6 million deaths in 2018**. Globally, about 1 in 6 deaths is due to cancer.\n",
    "\n",
    "- According to <a href = \"https://www.wcrf.org/dietandcancer/cancer-trends/lung-cancer-statistics\">**World Cancer Researh Fund**</a>, an American Institute For Cancer Research, **Lung Cancer** is the **most commonly occurring cancer** in men and the third most commonly occurring cancer in women. **There were 2 million new cases in 2018**.\n",
    "\n",
    "- To know more about facts related to cancer, click on the links that are available above."
   ]
  },
  {
   "cell_type": "markdown",
   "metadata": {
    "id": "s9DWfoNV10D4"
   },
   "source": [
    "<a id = Section2></a>\n",
    "\n",
    "---\n",
    "# **2. Problem Statement**\n",
    "---\n",
    "\n",
    "- As we already know, **in some scenarios(rare)**, it is **not entirely possible** for **patients** to **survive even after surgery**. There may be **several factors related** to the patients, **example, their health history**.\n",
    "\n",
    "- These **patients requires intensive care** even on **post operation** and **sometimes** it is **entirely upto the luck of the patients** that they will get cured completely or not.\n",
    "\n",
    "- Our **problem here is to classify the life expectancy of patients on post operation of lung cancer**.\n",
    "\n",
    "<center><img src = \"https://albertahealthservices.ca/img-post-surgery-eating.jpg\"></center>\n",
    "\n",
    "**<h3>Scenario:</h3>**\n",
    "\n",
    "- **Grand Oak**, is an **american hospital specialized** in **identification and treatment** of **cancer related diseases**.\n",
    "\n",
    "- **Over time** hospital has **accumulated data** of patients, and **experts have provided pattern over accumulated data** to **ensure** that **patient will survive if certain criteria met**.\n",
    "\n",
    "- There are **5 teams** of **experts** who can **perform approx 300 operations per day in total**, **after receiving** the **health reports** of patients.\n",
    "\n",
    "- These **teams have experience** of **patient's survial after post operation** **reason being** their **knowledge over past years of study and operations** they have performed.\n",
    "\n",
    "- As they perform **more operations** their **knowledge may get refined** over time but **pace in improving refinement is slow**.\n",
    "\n",
    "- **If** somehow we could **use** their **knowledge into machines**, it can **provide very precise results**.\n",
    "\n",
    "- So they **hired** a **team of data scientists** to **find pattern** out of the data which could **help in identification** of **survial of patients** **based on accumulated knowledge by expertise**.\n",
    "\n",
    "| Target Feature | Potential Values |\n",
    "| :-- | :-- |\n",
    "| Risk(1yr) | False: Patient won't die |\n",
    "| | True: Patient dies |"
   ]
  },
  {
   "cell_type": "markdown",
   "metadata": {
    "id": "J-UWmxV112__"
   },
   "source": [
    "<a id = Section3></a>\n",
    "\n",
    "---\n",
    "# **3. Installing & Importing Libraries**\n",
    "---"
   ]
  },
  {
   "cell_type": "markdown",
   "metadata": {
    "id": "lV4BfldA15Yo"
   },
   "source": [
    "<a id = Section31></a>\n",
    "### **3.1 Installing Libraries**"
   ]
  },
  {
   "cell_type": "code",
   "execution_count": null,
   "metadata": {
    "colab": {
     "base_uri": "https://localhost:8080/"
    },
    "executionInfo": {
     "elapsed": 13103,
     "status": "ok",
     "timestamp": 1668604055451,
     "user": {
      "displayName": "Yash Chauhan",
      "userId": "03194567605433747724"
     },
     "user_tz": -330
    },
    "id": "f3KyCBNUaY-c",
    "outputId": "7f36d620-27c3-41c3-99be-7e8a828b84d0"
   },
   "outputs": [
    {
     "name": "stdout",
     "output_type": "stream",
     "text": [
      "\u001b[?25l\r",
      "\u001b[K     |▏                               | 10 kB 36.2 MB/s eta 0:00:01\r",
      "\u001b[K     |▍                               | 20 kB 47.2 MB/s eta 0:00:01\r",
      "\u001b[K     |▋                               | 30 kB 58.2 MB/s eta 0:00:01\r",
      "\u001b[K     |▉                               | 40 kB 24.8 MB/s eta 0:00:01\r",
      "\u001b[K     |█                               | 51 kB 28.1 MB/s eta 0:00:01\r",
      "\u001b[K     |█▎                              | 61 kB 31.8 MB/s eta 0:00:01\r",
      "\u001b[K     |█▌                              | 71 kB 32.8 MB/s eta 0:00:01\r",
      "\u001b[K     |█▊                              | 81 kB 35.4 MB/s eta 0:00:01\r",
      "\u001b[K     |█▉                              | 92 kB 38.1 MB/s eta 0:00:01\r",
      "\u001b[K     |██                              | 102 kB 35.2 MB/s eta 0:00:01\r",
      "\u001b[K     |██▎                             | 112 kB 35.2 MB/s eta 0:00:01\r",
      "\u001b[K     |██▌                             | 122 kB 35.2 MB/s eta 0:00:01\r",
      "\u001b[K     |██▊                             | 133 kB 35.2 MB/s eta 0:00:01\r",
      "\u001b[K     |███                             | 143 kB 35.2 MB/s eta 0:00:01\r",
      "\u001b[K     |███▏                            | 153 kB 35.2 MB/s eta 0:00:01\r",
      "\u001b[K     |███▍                            | 163 kB 35.2 MB/s eta 0:00:01\r",
      "\u001b[K     |███▌                            | 174 kB 35.2 MB/s eta 0:00:01\r",
      "\u001b[K     |███▊                            | 184 kB 35.2 MB/s eta 0:00:01\r",
      "\u001b[K     |████                            | 194 kB 35.2 MB/s eta 0:00:01\r",
      "\u001b[K     |████▏                           | 204 kB 35.2 MB/s eta 0:00:01\r",
      "\u001b[K     |████▍                           | 215 kB 35.2 MB/s eta 0:00:01\r",
      "\u001b[K     |████▋                           | 225 kB 35.2 MB/s eta 0:00:01\r",
      "\u001b[K     |████▉                           | 235 kB 35.2 MB/s eta 0:00:01\r",
      "\u001b[K     |█████                           | 245 kB 35.2 MB/s eta 0:00:01\r",
      "\u001b[K     |█████▎                          | 256 kB 35.2 MB/s eta 0:00:01\r",
      "\u001b[K     |█████▍                          | 266 kB 35.2 MB/s eta 0:00:01\r",
      "\u001b[K     |█████▋                          | 276 kB 35.2 MB/s eta 0:00:01\r",
      "\u001b[K     |█████▉                          | 286 kB 35.2 MB/s eta 0:00:01\r",
      "\u001b[K     |██████                          | 296 kB 35.2 MB/s eta 0:00:01\r",
      "\u001b[K     |██████▎                         | 307 kB 35.2 MB/s eta 0:00:01\r",
      "\u001b[K     |██████▌                         | 317 kB 35.2 MB/s eta 0:00:01\r",
      "\u001b[K     |██████▊                         | 327 kB 35.2 MB/s eta 0:00:01\r",
      "\u001b[K     |███████                         | 337 kB 35.2 MB/s eta 0:00:01\r",
      "\u001b[K     |███████                         | 348 kB 35.2 MB/s eta 0:00:01\r",
      "\u001b[K     |███████▎                        | 358 kB 35.2 MB/s eta 0:00:01\r",
      "\u001b[K     |███████▌                        | 368 kB 35.2 MB/s eta 0:00:01\r",
      "\u001b[K     |███████▊                        | 378 kB 35.2 MB/s eta 0:00:01\r",
      "\u001b[K     |████████                        | 389 kB 35.2 MB/s eta 0:00:01\r",
      "\u001b[K     |████████▏                       | 399 kB 35.2 MB/s eta 0:00:01\r",
      "\u001b[K     |████████▍                       | 409 kB 35.2 MB/s eta 0:00:01\r",
      "\u001b[K     |████████▋                       | 419 kB 35.2 MB/s eta 0:00:01\r",
      "\u001b[K     |████████▉                       | 430 kB 35.2 MB/s eta 0:00:01\r",
      "\u001b[K     |█████████                       | 440 kB 35.2 MB/s eta 0:00:01\r",
      "\u001b[K     |█████████▏                      | 450 kB 35.2 MB/s eta 0:00:01\r",
      "\u001b[K     |█████████▍                      | 460 kB 35.2 MB/s eta 0:00:01\r",
      "\u001b[K     |█████████▋                      | 471 kB 35.2 MB/s eta 0:00:01\r",
      "\u001b[K     |█████████▉                      | 481 kB 35.2 MB/s eta 0:00:01\r",
      "\u001b[K     |██████████                      | 491 kB 35.2 MB/s eta 0:00:01\r",
      "\u001b[K     |██████████▎                     | 501 kB 35.2 MB/s eta 0:00:01\r",
      "\u001b[K     |██████████▌                     | 512 kB 35.2 MB/s eta 0:00:01\r",
      "\u001b[K     |██████████▋                     | 522 kB 35.2 MB/s eta 0:00:01\r",
      "\u001b[K     |██████████▉                     | 532 kB 35.2 MB/s eta 0:00:01\r",
      "\u001b[K     |███████████                     | 542 kB 35.2 MB/s eta 0:00:01\r",
      "\u001b[K     |███████████▎                    | 552 kB 35.2 MB/s eta 0:00:01\r",
      "\u001b[K     |███████████▌                    | 563 kB 35.2 MB/s eta 0:00:01\r",
      "\u001b[K     |███████████▊                    | 573 kB 35.2 MB/s eta 0:00:01\r",
      "\u001b[K     |████████████                    | 583 kB 35.2 MB/s eta 0:00:01\r",
      "\u001b[K     |████████████▏                   | 593 kB 35.2 MB/s eta 0:00:01\r",
      "\u001b[K     |████████████▍                   | 604 kB 35.2 MB/s eta 0:00:01\r",
      "\u001b[K     |████████████▌                   | 614 kB 35.2 MB/s eta 0:00:01\r",
      "\u001b[K     |████████████▊                   | 624 kB 35.2 MB/s eta 0:00:01\r",
      "\u001b[K     |█████████████                   | 634 kB 35.2 MB/s eta 0:00:01\r",
      "\u001b[K     |█████████████▏                  | 645 kB 35.2 MB/s eta 0:00:01\r",
      "\u001b[K     |█████████████▍                  | 655 kB 35.2 MB/s eta 0:00:01\r",
      "\u001b[K     |█████████████▋                  | 665 kB 35.2 MB/s eta 0:00:01\r",
      "\u001b[K     |█████████████▉                  | 675 kB 35.2 MB/s eta 0:00:01\r",
      "\u001b[K     |██████████████                  | 686 kB 35.2 MB/s eta 0:00:01\r",
      "\u001b[K     |██████████████▏                 | 696 kB 35.2 MB/s eta 0:00:01\r",
      "\u001b[K     |██████████████▍                 | 706 kB 35.2 MB/s eta 0:00:01\r",
      "\u001b[K     |██████████████▋                 | 716 kB 35.2 MB/s eta 0:00:01\r",
      "\u001b[K     |██████████████▉                 | 727 kB 35.2 MB/s eta 0:00:01\r",
      "\u001b[K     |███████████████                 | 737 kB 35.2 MB/s eta 0:00:01\r",
      "\u001b[K     |███████████████▎                | 747 kB 35.2 MB/s eta 0:00:01\r",
      "\u001b[K     |███████████████▌                | 757 kB 35.2 MB/s eta 0:00:01\r",
      "\u001b[K     |███████████████▊                | 768 kB 35.2 MB/s eta 0:00:01\r",
      "\u001b[K     |████████████████                | 778 kB 35.2 MB/s eta 0:00:01\r",
      "\u001b[K     |████████████████                | 788 kB 35.2 MB/s eta 0:00:01\r",
      "\u001b[K     |████████████████▎               | 798 kB 35.2 MB/s eta 0:00:01\r",
      "\u001b[K     |████████████████▌               | 808 kB 35.2 MB/s eta 0:00:01\r",
      "\u001b[K     |████████████████▊               | 819 kB 35.2 MB/s eta 0:00:01\r",
      "\u001b[K     |█████████████████               | 829 kB 35.2 MB/s eta 0:00:01\r",
      "\u001b[K     |█████████████████▏              | 839 kB 35.2 MB/s eta 0:00:01\r",
      "\u001b[K     |█████████████████▍              | 849 kB 35.2 MB/s eta 0:00:01\r",
      "\u001b[K     |█████████████████▋              | 860 kB 35.2 MB/s eta 0:00:01\r",
      "\u001b[K     |█████████████████▊              | 870 kB 35.2 MB/s eta 0:00:01\r",
      "\u001b[K     |██████████████████              | 880 kB 35.2 MB/s eta 0:00:01\r",
      "\u001b[K     |██████████████████▏             | 890 kB 35.2 MB/s eta 0:00:01\r",
      "\u001b[K     |██████████████████▍             | 901 kB 35.2 MB/s eta 0:00:01\r",
      "\u001b[K     |██████████████████▋             | 911 kB 35.2 MB/s eta 0:00:01\r",
      "\u001b[K     |██████████████████▉             | 921 kB 35.2 MB/s eta 0:00:01\r",
      "\u001b[K     |███████████████████             | 931 kB 35.2 MB/s eta 0:00:01\r",
      "\u001b[K     |███████████████████▎            | 942 kB 35.2 MB/s eta 0:00:01\r",
      "\u001b[K     |███████████████████▌            | 952 kB 35.2 MB/s eta 0:00:01\r",
      "\u001b[K     |███████████████████▋            | 962 kB 35.2 MB/s eta 0:00:01\r",
      "\u001b[K     |███████████████████▉            | 972 kB 35.2 MB/s eta 0:00:01\r",
      "\u001b[K     |████████████████████            | 983 kB 35.2 MB/s eta 0:00:01\r",
      "\u001b[K     |████████████████████▎           | 993 kB 35.2 MB/s eta 0:00:01\r",
      "\u001b[K     |████████████████████▌           | 1.0 MB 35.2 MB/s eta 0:00:01\r",
      "\u001b[K     |████████████████████▊           | 1.0 MB 35.2 MB/s eta 0:00:01\r",
      "\u001b[K     |█████████████████████           | 1.0 MB 35.2 MB/s eta 0:00:01\r",
      "\u001b[K     |█████████████████████▏          | 1.0 MB 35.2 MB/s eta 0:00:01\r",
      "\u001b[K     |█████████████████████▎          | 1.0 MB 35.2 MB/s eta 0:00:01\r",
      "\u001b[K     |█████████████████████▌          | 1.1 MB 35.2 MB/s eta 0:00:01\r",
      "\u001b[K     |█████████████████████▊          | 1.1 MB 35.2 MB/s eta 0:00:01\r",
      "\u001b[K     |██████████████████████          | 1.1 MB 35.2 MB/s eta 0:00:01\r",
      "\u001b[K     |██████████████████████▏         | 1.1 MB 35.2 MB/s eta 0:00:01\r",
      "\u001b[K     |██████████████████████▍         | 1.1 MB 35.2 MB/s eta 0:00:01\r",
      "\u001b[K     |██████████████████████▋         | 1.1 MB 35.2 MB/s eta 0:00:01\r",
      "\u001b[K     |██████████████████████▉         | 1.1 MB 35.2 MB/s eta 0:00:01\r",
      "\u001b[K     |███████████████████████         | 1.1 MB 35.2 MB/s eta 0:00:01\r",
      "\u001b[K     |███████████████████████▏        | 1.1 MB 35.2 MB/s eta 0:00:01\r",
      "\u001b[K     |███████████████████████▍        | 1.1 MB 35.2 MB/s eta 0:00:01\r",
      "\u001b[K     |███████████████████████▋        | 1.2 MB 35.2 MB/s eta 0:00:01\r",
      "\u001b[K     |███████████████████████▉        | 1.2 MB 35.2 MB/s eta 0:00:01\r",
      "\u001b[K     |████████████████████████        | 1.2 MB 35.2 MB/s eta 0:00:01\r",
      "\u001b[K     |████████████████████████▎       | 1.2 MB 35.2 MB/s eta 0:00:01\r",
      "\u001b[K     |████████████████████████▌       | 1.2 MB 35.2 MB/s eta 0:00:01\r",
      "\u001b[K     |████████████████████████▊       | 1.2 MB 35.2 MB/s eta 0:00:01\r",
      "\u001b[K     |████████████████████████▉       | 1.2 MB 35.2 MB/s eta 0:00:01\r",
      "\u001b[K     |█████████████████████████       | 1.2 MB 35.2 MB/s eta 0:00:01\r",
      "\u001b[K     |█████████████████████████▎      | 1.2 MB 35.2 MB/s eta 0:00:01\r",
      "\u001b[K     |█████████████████████████▌      | 1.2 MB 35.2 MB/s eta 0:00:01\r",
      "\u001b[K     |█████████████████████████▊      | 1.3 MB 35.2 MB/s eta 0:00:01\r",
      "\u001b[K     |██████████████████████████      | 1.3 MB 35.2 MB/s eta 0:00:01\r",
      "\u001b[K     |██████████████████████████▏     | 1.3 MB 35.2 MB/s eta 0:00:01\r",
      "\u001b[K     |██████████████████████████▍     | 1.3 MB 35.2 MB/s eta 0:00:01\r",
      "\u001b[K     |██████████████████████████▌     | 1.3 MB 35.2 MB/s eta 0:00:01\r",
      "\u001b[K     |██████████████████████████▊     | 1.3 MB 35.2 MB/s eta 0:00:01\r",
      "\u001b[K     |███████████████████████████     | 1.3 MB 35.2 MB/s eta 0:00:01\r",
      "\u001b[K     |███████████████████████████▏    | 1.3 MB 35.2 MB/s eta 0:00:01\r",
      "\u001b[K     |███████████████████████████▍    | 1.3 MB 35.2 MB/s eta 0:00:01\r",
      "\u001b[K     |███████████████████████████▋    | 1.4 MB 35.2 MB/s eta 0:00:01\r",
      "\u001b[K     |███████████████████████████▉    | 1.4 MB 35.2 MB/s eta 0:00:01\r",
      "\u001b[K     |████████████████████████████    | 1.4 MB 35.2 MB/s eta 0:00:01\r",
      "\u001b[K     |████████████████████████████▎   | 1.4 MB 35.2 MB/s eta 0:00:01\r",
      "\u001b[K     |████████████████████████████▍   | 1.4 MB 35.2 MB/s eta 0:00:01\r",
      "\u001b[K     |████████████████████████████▋   | 1.4 MB 35.2 MB/s eta 0:00:01\r",
      "\u001b[K     |████████████████████████████▉   | 1.4 MB 35.2 MB/s eta 0:00:01\r",
      "\u001b[K     |█████████████████████████████   | 1.4 MB 35.2 MB/s eta 0:00:01\r",
      "\u001b[K     |█████████████████████████████▎  | 1.4 MB 35.2 MB/s eta 0:00:01\r",
      "\u001b[K     |█████████████████████████████▌  | 1.4 MB 35.2 MB/s eta 0:00:01\r",
      "\u001b[K     |█████████████████████████████▊  | 1.5 MB 35.2 MB/s eta 0:00:01\r",
      "\u001b[K     |██████████████████████████████  | 1.5 MB 35.2 MB/s eta 0:00:01\r",
      "\u001b[K     |██████████████████████████████  | 1.5 MB 35.2 MB/s eta 0:00:01\r",
      "\u001b[K     |██████████████████████████████▎ | 1.5 MB 35.2 MB/s eta 0:00:01\r",
      "\u001b[K     |██████████████████████████████▌ | 1.5 MB 35.2 MB/s eta 0:00:01\r",
      "\u001b[K     |██████████████████████████████▊ | 1.5 MB 35.2 MB/s eta 0:00:01\r",
      "\u001b[K     |███████████████████████████████ | 1.5 MB 35.2 MB/s eta 0:00:01\r",
      "\u001b[K     |███████████████████████████████▏| 1.5 MB 35.2 MB/s eta 0:00:01\r",
      "\u001b[K     |███████████████████████████████▍| 1.5 MB 35.2 MB/s eta 0:00:01\r",
      "\u001b[K     |███████████████████████████████▋| 1.5 MB 35.2 MB/s eta 0:00:01\r",
      "\u001b[K     |███████████████████████████████▉| 1.6 MB 35.2 MB/s eta 0:00:01\r",
      "\u001b[K     |████████████████████████████████| 1.6 MB 35.2 MB/s eta 0:00:01\r",
      "\u001b[K     |████████████████████████████████| 1.6 MB 35.2 MB/s \n",
      "\u001b[?25h"
     ]
    }
   ],
   "source": [
    "!pip install -q datascience                   # Package that is required by pandas profiling\n",
    "!pip install -q pandas-profiling              # Toolbox for Generating Statistics Report\n",
    "!pip install -q yellowbrick                   # Toolbox for Measuring Machine Performance\n",
    "!pip install -q imbalanced-learn              # Toolbox for imbalanced dataset"
   ]
  },
  {
   "cell_type": "markdown",
   "metadata": {
    "id": "Y08VBGsC2EXP"
   },
   "source": [
    "<a id = Section32></a>\n",
    "### **3.2 Upgrading Libraries**\n",
    "\n",
    "**Note:** After upgrading, you need to restart the runtime. Make sure not to execute the cell above (3.1) and below (3.2) again after restarting the runtime."
   ]
  },
  {
   "cell_type": "code",
   "execution_count": null,
   "metadata": {
    "colab": {
     "base_uri": "https://localhost:8080/"
    },
    "executionInfo": {
     "elapsed": 24076,
     "status": "ok",
     "timestamp": 1668604079522,
     "user": {
      "displayName": "Yash Chauhan",
      "userId": "03194567605433747724"
     },
     "user_tz": -330
    },
    "id": "k8Z-FVj92FUo",
    "outputId": "fea1d6f3-b80b-48f8-8168-f66284f30b6b"
   },
   "outputs": [
    {
     "name": "stdout",
     "output_type": "stream",
     "text": [
      "\u001b[K     |████████████████████████████████| 315 kB 33.5 MB/s \n",
      "\u001b[K     |████████████████████████████████| 102 kB 12.7 MB/s \n",
      "\u001b[K     |████████████████████████████████| 690 kB 65.8 MB/s \n",
      "\u001b[K     |████████████████████████████████| 62 kB 1.8 MB/s \n",
      "\u001b[K     |████████████████████████████████| 9.9 MB 57.8 MB/s \n",
      "\u001b[K     |████████████████████████████████| 4.7 MB 2.9 MB/s \n",
      "\u001b[K     |████████████████████████████████| 296 kB 73.4 MB/s \n",
      "\u001b[?25h  Building wheel for htmlmin (setup.py) ... \u001b[?25l\u001b[?25hdone\n"
     ]
    }
   ],
   "source": [
    "!pip install -q --upgrade pandas-profiling\n",
    "!pip install -q --upgrade yellowbrick"
   ]
  },
  {
   "cell_type": "markdown",
   "metadata": {
    "id": "BvWnaQD72G6_"
   },
   "source": [
    "<a id = Section33></a>\n",
    "### **3.3 Importing Libraries**"
   ]
  },
  {
   "cell_type": "code",
   "execution_count": null,
   "metadata": {
    "id": "KUf1r3XH2I3g"
   },
   "outputs": [],
   "source": [
    "# For Panel Data Analysis\n",
    "import pandas as pd\n",
    "from pandas_profiling import ProfileReport\n",
    "import pandas.util.testing as tm\n",
    "pd.set_option('display.max_columns', None)\n",
    "pd.set_option('display.max_colwidth', None)\n",
    "pd.set_option('display.max_rows', None)\n",
    "pd.set_option('mode.chained_assignment', None)\n",
    "\n",
    "# For Numerical Python\n",
    "import numpy as np\n",
    "\n",
    "# For Random seed values\n",
    "from random import randint\n",
    "\n",
    "# For Data Visualization\n",
    "import matplotlib.pyplot as plt\n",
    "%matplotlib inline\n",
    "import seaborn as sns\n",
    "\n",
    "# For Preprocessing\n",
    "from sklearn.preprocessing import LabelEncoder, StandardScaler\n",
    "\n",
    "# For Feature Selection\n",
    "from sklearn.feature_selection import SelectFromModel\n",
    "\n",
    "# For Feature Importances\n",
    "from yellowbrick.model_selection import FeatureImportances\n",
    "\n",
    "# To handle class imbalance problem\n",
    "from imblearn.over_sampling import SMOTE\n",
    "\n",
    "# For metrics evaluation\n",
    "from sklearn.metrics import precision_recall_curve, classification_report, plot_confusion_matrix\n",
    "\n",
    "# For Data Modeling\n",
    "from sklearn.model_selection import train_test_split, cross_val_score, GridSearchCV\n",
    "from sklearn.linear_model import LogisticRegression\n",
    "from sklearn.svm import SVC\n",
    "from sklearn.tree import DecisionTreeClassifier\n",
    "from sklearn.ensemble import RandomForestClassifier\n",
    "\n",
    "# To Disable Warnings\n",
    "import warnings\n",
    "warnings.filterwarnings(action = 'ignore')"
   ]
  },
  {
   "cell_type": "markdown",
   "metadata": {
    "id": "ahnI15sZ2PY_"
   },
   "source": [
    "<a id=Section4></a>\n",
    "\n",
    "---\n",
    "# **4. Data Acquisition & Description**\n",
    "---\n",
    "\n",
    "This data set is based on Post Thoracic Surgery provided by Grand Oak and is accessible <a href=\"https://raw.githubusercontent.com/insaid2018/Domain_Case_Studies/master/Healthcare/Post%20Thoracic%20Surgery/ThoraricSurgery.csv\">**here**</a>.\n",
    "\n",
    "\n",
    "| Records | Features | Dataset Size |\n",
    "| :-- | :-- | :-- |\n",
    "| 500 | 17 | 44.8 KB|\n",
    "\n",
    "|#|Features|Description|\n",
    "| :-- | :-- | :-- |\n",
    "|01|**DiagnosisCode**|Diagnosis specific combination of ICD-10 codes for primary and secondary as well multiple tumours if any [DGN1,DGN2,DGN3,DGN4,DGN5,DGN6,DGN8]|\n",
    "|||Diagnosis Codes are the medical codes used to classify two diagnoses, a diagnosis with an associated secondary process (manifestation) or a diagnosis with an associated complication|\n",
    "|02|**ForcedVitalCapacity**|Maximum amount of air a person can expel from the lungs after a maximum inhalation in litres. [Range: (1.44, 6.3)]|\n",
    "|03|**ForcedExpirationVolume**|Volume that has been exhaled at the end of the first second of forced expiration in litres. [Range: (0.96, 86.3)]|\n",
    "|04|**ZubrodPerformanceStatus**|A performance status in Zubrod scale [PRZ0 : (fully active, unrestricted by disease), PRZ1 : (able to carry out light work),|\n",
    "||| PRZ2 : (ambulatory but resting for as much as 50% of the day)]|\n",
    "|05|**PainBeforeSurgery**|If patient has any pain before surgery. Values: [False, True]|\n",
    "|06|**HaemoptysisBeforeSurgery**|If patient has any Haemoptysis(cough with blood) before surgery. Values: [False, True]|\n",
    "|07|**DyspnoeaBeforeSurgery**|If patient has any Dyspnoea (difficult in breathing) before surgery. Values: [False, True]|\n",
    "|08|**CoughBeforeSurgery**|If patient has any cough before surgery. Values: [False, True]|\n",
    "|09|**WeaknessBeforeSurgery**|If patient has any weakness before surgery. Values: [False, True]|\n",
    "|10|**OriginalTumourSize**|Size of the original tumour, from OC11 (smallest) to OC14 (largest) [OC11,OC14,OC12,OC13]|\n",
    "|11|**Type2Diabetes**|If patient has any type 2 diabetes before surgery. Values: [False, True]|\n",
    "|12|**MIUpto6**|If patient has any myocardial infarction (MI) or heart attack before surgery. Values: [False, True]|\n",
    "|13|**PeripheralArterialDiseases**|If patient has any Peripheral Arterial Diseases before surgery. Values: [False, True]|\n",
    "|14|**Smoking**|If patient has any smoking habits before surgery. Values: [False, True]|\n",
    "|15|**Asthma**|If patient has any asthma before surgery. Values: [False, True]|\n",
    "|16|**AgeAtSurgery**|The current age at which patients is having surgery.|\n",
    "|17|**Risk(1yr)**|If patient will survive within a year or not. Values: [False, True]|"
   ]
  },
  {
   "cell_type": "code",
   "execution_count": null,
   "metadata": {
    "id": "MBu1Vla-2M0P"
   },
   "outputs": [],
   "source": [
    "LINK = 'https://raw.githubusercontent.com/insaid2018/Domain_Case_Studies/master/Healthcare/Post%20Thoracic%20Surgery/ThoraricSurgery.csv'\n",
    "\n",
    "def load_thoracic_data(link = LINK):\n",
    "  return pd.read_csv(filepath_or_buffer = link)"
   ]
  },
  {
   "cell_type": "code",
   "execution_count": null,
   "metadata": {
    "colab": {
     "base_uri": "https://localhost:8080/",
     "height": 288
    },
    "executionInfo": {
     "elapsed": 5,
     "status": "ok",
     "timestamp": 1669632006139,
     "user": {
      "displayName": "Yash Chauhan",
      "userId": "03194567605433747724"
     },
     "user_tz": -330
    },
    "id": "oXimx0JO2USn",
    "outputId": "9495e8fb-8eba-4d85-9034-d7ba7ef2d05e"
   },
   "outputs": [
    {
     "name": "stdout",
     "output_type": "stream",
     "text": [
      "Data Shape: (500, 17)\n"
     ]
    },
    {
     "data": {
      "text/html": [
       "\n",
       "  <div id=\"df-a8356eb8-361e-4c69-857d-3a3e9cc0e0d0\">\n",
       "    <div class=\"colab-df-container\">\n",
       "      <div>\n",
       "<style scoped>\n",
       "    .dataframe tbody tr th:only-of-type {\n",
       "        vertical-align: middle;\n",
       "    }\n",
       "\n",
       "    .dataframe tbody tr th {\n",
       "        vertical-align: top;\n",
       "    }\n",
       "\n",
       "    .dataframe thead th {\n",
       "        text-align: right;\n",
       "    }\n",
       "</style>\n",
       "<table border=\"1\" class=\"dataframe\">\n",
       "  <thead>\n",
       "    <tr style=\"text-align: right;\">\n",
       "      <th></th>\n",
       "      <th>DiagnosisCode</th>\n",
       "      <th>ForcedVitalCapacity</th>\n",
       "      <th>ForcedExpirationVolume</th>\n",
       "      <th>ZubrodPerformanceStatus</th>\n",
       "      <th>PainBeforeSurgery</th>\n",
       "      <th>HaemoptysisBeforeSurgery</th>\n",
       "      <th>DyspnoeaBeforeSurgery</th>\n",
       "      <th>CoughBeforeSurgery</th>\n",
       "      <th>WeaknessBeforeSurgery</th>\n",
       "      <th>OriginalTumourSize</th>\n",
       "      <th>Type2Diabetes</th>\n",
       "      <th>MIUpto6</th>\n",
       "      <th>PeripheralArterialDiseases</th>\n",
       "      <th>Smoking</th>\n",
       "      <th>Asthma</th>\n",
       "      <th>AgeAtSurgery</th>\n",
       "      <th>Risk(1yr)</th>\n",
       "    </tr>\n",
       "  </thead>\n",
       "  <tbody>\n",
       "    <tr>\n",
       "      <th>0</th>\n",
       "      <td>DGN2</td>\n",
       "      <td>2.88</td>\n",
       "      <td>2.16</td>\n",
       "      <td>PRZ1</td>\n",
       "      <td>NaN</td>\n",
       "      <td>False</td>\n",
       "      <td>False</td>\n",
       "      <td>True</td>\n",
       "      <td>True</td>\n",
       "      <td>OC14</td>\n",
       "      <td>False</td>\n",
       "      <td>False</td>\n",
       "      <td>False</td>\n",
       "      <td>True</td>\n",
       "      <td>False</td>\n",
       "      <td>60</td>\n",
       "      <td>False</td>\n",
       "    </tr>\n",
       "    <tr>\n",
       "      <th>1</th>\n",
       "      <td>DGN3</td>\n",
       "      <td>3.40</td>\n",
       "      <td>1.88</td>\n",
       "      <td>PRZ0</td>\n",
       "      <td>NaN</td>\n",
       "      <td>False</td>\n",
       "      <td>False</td>\n",
       "      <td>False</td>\n",
       "      <td>False</td>\n",
       "      <td>OC12</td>\n",
       "      <td>False</td>\n",
       "      <td>False</td>\n",
       "      <td>False</td>\n",
       "      <td>True</td>\n",
       "      <td>False</td>\n",
       "      <td>51</td>\n",
       "      <td>False</td>\n",
       "    </tr>\n",
       "    <tr>\n",
       "      <th>2</th>\n",
       "      <td>DGN3</td>\n",
       "      <td>2.76</td>\n",
       "      <td>2.08</td>\n",
       "      <td>PRZ1</td>\n",
       "      <td>NaN</td>\n",
       "      <td>False</td>\n",
       "      <td>False</td>\n",
       "      <td>True</td>\n",
       "      <td>False</td>\n",
       "      <td>OC11</td>\n",
       "      <td>False</td>\n",
       "      <td>False</td>\n",
       "      <td>False</td>\n",
       "      <td>True</td>\n",
       "      <td>False</td>\n",
       "      <td>59</td>\n",
       "      <td>False</td>\n",
       "    </tr>\n",
       "    <tr>\n",
       "      <th>3</th>\n",
       "      <td>DGN3</td>\n",
       "      <td>3.68</td>\n",
       "      <td>3.04</td>\n",
       "      <td>PRZ0</td>\n",
       "      <td>NaN</td>\n",
       "      <td>False</td>\n",
       "      <td>False</td>\n",
       "      <td>False</td>\n",
       "      <td>False</td>\n",
       "      <td>OC11</td>\n",
       "      <td>False</td>\n",
       "      <td>False</td>\n",
       "      <td>False</td>\n",
       "      <td>False</td>\n",
       "      <td>False</td>\n",
       "      <td>54</td>\n",
       "      <td>False</td>\n",
       "    </tr>\n",
       "    <tr>\n",
       "      <th>4</th>\n",
       "      <td>DGN3</td>\n",
       "      <td>2.44</td>\n",
       "      <td>0.96</td>\n",
       "      <td>PRZ2</td>\n",
       "      <td>NaN</td>\n",
       "      <td>True</td>\n",
       "      <td>False</td>\n",
       "      <td>NaN</td>\n",
       "      <td>True</td>\n",
       "      <td>OC11</td>\n",
       "      <td>False</td>\n",
       "      <td>False</td>\n",
       "      <td>False</td>\n",
       "      <td>True</td>\n",
       "      <td>False</td>\n",
       "      <td>73</td>\n",
       "      <td>True</td>\n",
       "    </tr>\n",
       "  </tbody>\n",
       "</table>\n",
       "</div>\n",
       "      <button class=\"colab-df-convert\" onclick=\"convertToInteractive('df-a8356eb8-361e-4c69-857d-3a3e9cc0e0d0')\"\n",
       "              title=\"Convert this dataframe to an interactive table.\"\n",
       "              style=\"display:none;\">\n",
       "        \n",
       "  <svg xmlns=\"http://www.w3.org/2000/svg\" height=\"24px\"viewBox=\"0 0 24 24\"\n",
       "       width=\"24px\">\n",
       "    <path d=\"M0 0h24v24H0V0z\" fill=\"none\"/>\n",
       "    <path d=\"M18.56 5.44l.94 2.06.94-2.06 2.06-.94-2.06-.94-.94-2.06-.94 2.06-2.06.94zm-11 1L8.5 8.5l.94-2.06 2.06-.94-2.06-.94L8.5 2.5l-.94 2.06-2.06.94zm10 10l.94 2.06.94-2.06 2.06-.94-2.06-.94-.94-2.06-.94 2.06-2.06.94z\"/><path d=\"M17.41 7.96l-1.37-1.37c-.4-.4-.92-.59-1.43-.59-.52 0-1.04.2-1.43.59L10.3 9.45l-7.72 7.72c-.78.78-.78 2.05 0 2.83L4 21.41c.39.39.9.59 1.41.59.51 0 1.02-.2 1.41-.59l7.78-7.78 2.81-2.81c.8-.78.8-2.07 0-2.86zM5.41 20L4 18.59l7.72-7.72 1.47 1.35L5.41 20z\"/>\n",
       "  </svg>\n",
       "      </button>\n",
       "      \n",
       "  <style>\n",
       "    .colab-df-container {\n",
       "      display:flex;\n",
       "      flex-wrap:wrap;\n",
       "      gap: 12px;\n",
       "    }\n",
       "\n",
       "    .colab-df-convert {\n",
       "      background-color: #E8F0FE;\n",
       "      border: none;\n",
       "      border-radius: 50%;\n",
       "      cursor: pointer;\n",
       "      display: none;\n",
       "      fill: #1967D2;\n",
       "      height: 32px;\n",
       "      padding: 0 0 0 0;\n",
       "      width: 32px;\n",
       "    }\n",
       "\n",
       "    .colab-df-convert:hover {\n",
       "      background-color: #E2EBFA;\n",
       "      box-shadow: 0px 1px 2px rgba(60, 64, 67, 0.3), 0px 1px 3px 1px rgba(60, 64, 67, 0.15);\n",
       "      fill: #174EA6;\n",
       "    }\n",
       "\n",
       "    [theme=dark] .colab-df-convert {\n",
       "      background-color: #3B4455;\n",
       "      fill: #D2E3FC;\n",
       "    }\n",
       "\n",
       "    [theme=dark] .colab-df-convert:hover {\n",
       "      background-color: #434B5C;\n",
       "      box-shadow: 0px 1px 3px 1px rgba(0, 0, 0, 0.15);\n",
       "      filter: drop-shadow(0px 1px 2px rgba(0, 0, 0, 0.3));\n",
       "      fill: #FFFFFF;\n",
       "    }\n",
       "  </style>\n",
       "\n",
       "      <script>\n",
       "        const buttonEl =\n",
       "          document.querySelector('#df-a8356eb8-361e-4c69-857d-3a3e9cc0e0d0 button.colab-df-convert');\n",
       "        buttonEl.style.display =\n",
       "          google.colab.kernel.accessAllowed ? 'block' : 'none';\n",
       "\n",
       "        async function convertToInteractive(key) {\n",
       "          const element = document.querySelector('#df-a8356eb8-361e-4c69-857d-3a3e9cc0e0d0');\n",
       "          const dataTable =\n",
       "            await google.colab.kernel.invokeFunction('convertToInteractive',\n",
       "                                                     [key], {});\n",
       "          if (!dataTable) return;\n",
       "\n",
       "          const docLinkHtml = 'Like what you see? Visit the ' +\n",
       "            '<a target=\"_blank\" href=https://colab.research.google.com/notebooks/data_table.ipynb>data table notebook</a>'\n",
       "            + ' to learn more about interactive tables.';\n",
       "          element.innerHTML = '';\n",
       "          dataTable['output_type'] = 'display_data';\n",
       "          await google.colab.output.renderOutput(dataTable, element);\n",
       "          const docLink = document.createElement('div');\n",
       "          docLink.innerHTML = docLinkHtml;\n",
       "          element.appendChild(docLink);\n",
       "        }\n",
       "      </script>\n",
       "    </div>\n",
       "  </div>\n",
       "  "
      ],
      "text/plain": [
       "  DiagnosisCode  ForcedVitalCapacity  ForcedExpirationVolume  \\\n",
       "0          DGN2                 2.88                    2.16   \n",
       "1          DGN3                 3.40                    1.88   \n",
       "2          DGN3                 2.76                    2.08   \n",
       "3          DGN3                 3.68                    3.04   \n",
       "4          DGN3                 2.44                    0.96   \n",
       "\n",
       "  ZubrodPerformanceStatus PainBeforeSurgery  HaemoptysisBeforeSurgery  \\\n",
       "0                    PRZ1               NaN                     False   \n",
       "1                    PRZ0               NaN                     False   \n",
       "2                    PRZ1               NaN                     False   \n",
       "3                    PRZ0               NaN                     False   \n",
       "4                    PRZ2               NaN                      True   \n",
       "\n",
       "   DyspnoeaBeforeSurgery CoughBeforeSurgery  WeaknessBeforeSurgery  \\\n",
       "0                  False               True                   True   \n",
       "1                  False              False                  False   \n",
       "2                  False               True                  False   \n",
       "3                  False              False                  False   \n",
       "4                  False                NaN                   True   \n",
       "\n",
       "  OriginalTumourSize  Type2Diabetes  MIUpto6  PeripheralArterialDiseases  \\\n",
       "0               OC14          False    False                       False   \n",
       "1               OC12          False    False                       False   \n",
       "2               OC11          False    False                       False   \n",
       "3               OC11          False    False                       False   \n",
       "4               OC11          False    False                       False   \n",
       "\n",
       "   Smoking  Asthma  AgeAtSurgery  Risk(1yr)  \n",
       "0     True   False            60      False  \n",
       "1     True   False            51      False  \n",
       "2     True   False            59      False  \n",
       "3    False   False            54      False  \n",
       "4     True   False            73       True  "
      ]
     },
     "execution_count": 53,
     "metadata": {},
     "output_type": "execute_result"
    }
   ],
   "source": [
    "data = load_thoracic_data()\n",
    "print('Data Shape:', data.shape)\n",
    "data.head()"
   ]
  },
  {
   "cell_type": "markdown",
   "metadata": {
    "id": "ZSexyyC7ks9H"
   },
   "source": [
    "<a id = Section41></a>\n",
    "### **4.1 Data Description**\n",
    "\n",
    "- In this section we will get **information about the data** and see some observations."
   ]
  },
  {
   "cell_type": "code",
   "execution_count": null,
   "metadata": {
    "colab": {
     "base_uri": "https://localhost:8080/",
     "height": 318
    },
    "executionInfo": {
     "elapsed": 5,
     "status": "ok",
     "timestamp": 1669632008140,
     "user": {
      "displayName": "Yash Chauhan",
      "userId": "03194567605433747724"
     },
     "user_tz": -330
    },
    "id": "dF937iIvkunH",
    "outputId": "a04f86ca-bb4b-4454-b557-47ca50b44e0b"
   },
   "outputs": [
    {
     "name": "stdout",
     "output_type": "stream",
     "text": [
      "Described Column Length: 3\n"
     ]
    },
    {
     "data": {
      "text/html": [
       "\n",
       "  <div id=\"df-60c1c92b-ae55-4f38-bad6-0d1806513e74\">\n",
       "    <div class=\"colab-df-container\">\n",
       "      <div>\n",
       "<style scoped>\n",
       "    .dataframe tbody tr th:only-of-type {\n",
       "        vertical-align: middle;\n",
       "    }\n",
       "\n",
       "    .dataframe tbody tr th {\n",
       "        vertical-align: top;\n",
       "    }\n",
       "\n",
       "    .dataframe thead th {\n",
       "        text-align: right;\n",
       "    }\n",
       "</style>\n",
       "<table border=\"1\" class=\"dataframe\">\n",
       "  <thead>\n",
       "    <tr style=\"text-align: right;\">\n",
       "      <th></th>\n",
       "      <th>ForcedVitalCapacity</th>\n",
       "      <th>ForcedExpirationVolume</th>\n",
       "      <th>AgeAtSurgery</th>\n",
       "    </tr>\n",
       "  </thead>\n",
       "  <tbody>\n",
       "    <tr>\n",
       "      <th>count</th>\n",
       "      <td>500.000000</td>\n",
       "      <td>500.000000</td>\n",
       "      <td>500.000000</td>\n",
       "    </tr>\n",
       "    <tr>\n",
       "      <th>mean</th>\n",
       "      <td>3.290840</td>\n",
       "      <td>4.455920</td>\n",
       "      <td>62.534000</td>\n",
       "    </tr>\n",
       "    <tr>\n",
       "      <th>std</th>\n",
       "      <td>0.868247</td>\n",
       "      <td>11.418564</td>\n",
       "      <td>8.704964</td>\n",
       "    </tr>\n",
       "    <tr>\n",
       "      <th>min</th>\n",
       "      <td>1.440000</td>\n",
       "      <td>0.960000</td>\n",
       "      <td>21.000000</td>\n",
       "    </tr>\n",
       "    <tr>\n",
       "      <th>25%</th>\n",
       "      <td>2.600000</td>\n",
       "      <td>2.000000</td>\n",
       "      <td>57.000000</td>\n",
       "    </tr>\n",
       "    <tr>\n",
       "      <th>50%</th>\n",
       "      <td>3.185000</td>\n",
       "      <td>2.440000</td>\n",
       "      <td>62.000000</td>\n",
       "    </tr>\n",
       "    <tr>\n",
       "      <th>75%</th>\n",
       "      <td>3.840000</td>\n",
       "      <td>3.080000</td>\n",
       "      <td>69.000000</td>\n",
       "    </tr>\n",
       "    <tr>\n",
       "      <th>max</th>\n",
       "      <td>6.300000</td>\n",
       "      <td>86.300000</td>\n",
       "      <td>87.000000</td>\n",
       "    </tr>\n",
       "  </tbody>\n",
       "</table>\n",
       "</div>\n",
       "      <button class=\"colab-df-convert\" onclick=\"convertToInteractive('df-60c1c92b-ae55-4f38-bad6-0d1806513e74')\"\n",
       "              title=\"Convert this dataframe to an interactive table.\"\n",
       "              style=\"display:none;\">\n",
       "        \n",
       "  <svg xmlns=\"http://www.w3.org/2000/svg\" height=\"24px\"viewBox=\"0 0 24 24\"\n",
       "       width=\"24px\">\n",
       "    <path d=\"M0 0h24v24H0V0z\" fill=\"none\"/>\n",
       "    <path d=\"M18.56 5.44l.94 2.06.94-2.06 2.06-.94-2.06-.94-.94-2.06-.94 2.06-2.06.94zm-11 1L8.5 8.5l.94-2.06 2.06-.94-2.06-.94L8.5 2.5l-.94 2.06-2.06.94zm10 10l.94 2.06.94-2.06 2.06-.94-2.06-.94-.94-2.06-.94 2.06-2.06.94z\"/><path d=\"M17.41 7.96l-1.37-1.37c-.4-.4-.92-.59-1.43-.59-.52 0-1.04.2-1.43.59L10.3 9.45l-7.72 7.72c-.78.78-.78 2.05 0 2.83L4 21.41c.39.39.9.59 1.41.59.51 0 1.02-.2 1.41-.59l7.78-7.78 2.81-2.81c.8-.78.8-2.07 0-2.86zM5.41 20L4 18.59l7.72-7.72 1.47 1.35L5.41 20z\"/>\n",
       "  </svg>\n",
       "      </button>\n",
       "      \n",
       "  <style>\n",
       "    .colab-df-container {\n",
       "      display:flex;\n",
       "      flex-wrap:wrap;\n",
       "      gap: 12px;\n",
       "    }\n",
       "\n",
       "    .colab-df-convert {\n",
       "      background-color: #E8F0FE;\n",
       "      border: none;\n",
       "      border-radius: 50%;\n",
       "      cursor: pointer;\n",
       "      display: none;\n",
       "      fill: #1967D2;\n",
       "      height: 32px;\n",
       "      padding: 0 0 0 0;\n",
       "      width: 32px;\n",
       "    }\n",
       "\n",
       "    .colab-df-convert:hover {\n",
       "      background-color: #E2EBFA;\n",
       "      box-shadow: 0px 1px 2px rgba(60, 64, 67, 0.3), 0px 1px 3px 1px rgba(60, 64, 67, 0.15);\n",
       "      fill: #174EA6;\n",
       "    }\n",
       "\n",
       "    [theme=dark] .colab-df-convert {\n",
       "      background-color: #3B4455;\n",
       "      fill: #D2E3FC;\n",
       "    }\n",
       "\n",
       "    [theme=dark] .colab-df-convert:hover {\n",
       "      background-color: #434B5C;\n",
       "      box-shadow: 0px 1px 3px 1px rgba(0, 0, 0, 0.15);\n",
       "      filter: drop-shadow(0px 1px 2px rgba(0, 0, 0, 0.3));\n",
       "      fill: #FFFFFF;\n",
       "    }\n",
       "  </style>\n",
       "\n",
       "      <script>\n",
       "        const buttonEl =\n",
       "          document.querySelector('#df-60c1c92b-ae55-4f38-bad6-0d1806513e74 button.colab-df-convert');\n",
       "        buttonEl.style.display =\n",
       "          google.colab.kernel.accessAllowed ? 'block' : 'none';\n",
       "\n",
       "        async function convertToInteractive(key) {\n",
       "          const element = document.querySelector('#df-60c1c92b-ae55-4f38-bad6-0d1806513e74');\n",
       "          const dataTable =\n",
       "            await google.colab.kernel.invokeFunction('convertToInteractive',\n",
       "                                                     [key], {});\n",
       "          if (!dataTable) return;\n",
       "\n",
       "          const docLinkHtml = 'Like what you see? Visit the ' +\n",
       "            '<a target=\"_blank\" href=https://colab.research.google.com/notebooks/data_table.ipynb>data table notebook</a>'\n",
       "            + ' to learn more about interactive tables.';\n",
       "          element.innerHTML = '';\n",
       "          dataTable['output_type'] = 'display_data';\n",
       "          await google.colab.output.renderOutput(dataTable, element);\n",
       "          const docLink = document.createElement('div');\n",
       "          docLink.innerHTML = docLinkHtml;\n",
       "          element.appendChild(docLink);\n",
       "        }\n",
       "      </script>\n",
       "    </div>\n",
       "  </div>\n",
       "  "
      ],
      "text/plain": [
       "       ForcedVitalCapacity  ForcedExpirationVolume  AgeAtSurgery\n",
       "count           500.000000              500.000000    500.000000\n",
       "mean              3.290840                4.455920     62.534000\n",
       "std               0.868247               11.418564      8.704964\n",
       "min               1.440000                0.960000     21.000000\n",
       "25%               2.600000                2.000000     57.000000\n",
       "50%               3.185000                2.440000     62.000000\n",
       "75%               3.840000                3.080000     69.000000\n",
       "max               6.300000               86.300000     87.000000"
      ]
     },
     "execution_count": 54,
     "metadata": {},
     "output_type": "execute_result"
    }
   ],
   "source": [
    "print('Described Column Length:', len(data.describe().columns))\n",
    "data.describe()"
   ]
  },
  {
   "cell_type": "markdown",
   "metadata": {
    "id": "maxEMSX_OSUW"
   },
   "source": [
    "**Observation:**\n",
    "\n",
    "- The **average forced vital capacity** of **patients** is **3.2**.\n",
    "- The **average forced expiration volume** of **patients** is **4.4**.\n",
    "- The **average age of patients** is **62**.\n",
    "- **Forced vital capacity** of **25% patients** is **atmost 2.6** while for **50% and 75% of patients** its **atmost 3.18 and 3.84**.\n",
    "- **Forced expiration volume** of **25% patients** is **atmost 2** while for **50% and 75% of patients** its **atmost 2.44 and 3.08**.\n",
    "- **Age** of **25% patients** is **atmost 57** while for **50% and 75% of patients** its **atmost 62 and 69**."
   ]
  },
  {
   "cell_type": "markdown",
   "metadata": {
    "id": "ljdhKJTdlvqX"
   },
   "source": [
    "<a id = Section44></a>\n",
    "### **4.4 Pre Profiling Report**\n",
    "\n",
    "- For quick analysis pandas profiling is very handy.\n",
    "- Generates profile reports from a pandas DataFrame.\n",
    "- For each column statistics are presented in an interactive HTML report."
   ]
  },
  {
   "cell_type": "code",
   "execution_count": null,
   "metadata": {
    "colab": {
     "base_uri": "https://localhost:8080/",
     "height": 163,
     "referenced_widgets": [
      "2c8429b01b914cc0b46c7a9317f54430",
      "ab75c353f33346dea32a5c1d393c3f19",
      "7ebb8faf4fb341c9a309a6a975b7df20",
      "13ea74d70071485091eae19a37f6efbd",
      "d59321482bc347fab77b72a980d9aeb2",
      "a4eaf60d582743d68f1a4a0cb4170a82",
      "1bad04048c4d4fc2a9d3d6ddc36777d1",
      "14c2c94f7dfa4a47a97cad7c17784b21",
      "1472d665cd0742c4a4d16162e33b6076",
      "a3353ad016f342d1902f8227a34931da",
      "a878782a69294ccb843b3740c4ccb137",
      "9daa3c8daf4144ce86d40782208e5849",
      "1eb7808fe886480c80aea6a56f661fcc",
      "6b19ba7106154cab81e8e4aade7e010a",
      "778faea23852404b8cd335f5707dbb21",
      "adb662a756254e568aa4becc41767c61",
      "ddadb89049be40d298efbbecbf7127ae",
      "e75963ac73704bb0864f087f1ff0edd8",
      "3f257ca6686948f8b81776dfe8d35bb2",
      "082b68e8e80148c793e7f3d86a48a0ba",
      "224deea5f32b47f9a57b95fdafa502bb",
      "29154f1d491a4004bdb39322987ea4b1",
      "28471168f6534cf08af821255711f4fd",
      "21a245bae0a34bf6a51086e3d1c45678",
      "e1728690e16d417899ff2d8b88747178",
      "d998543acf2549938bf94f97e697b10e",
      "d4d360395c3e4366853b9a087dede52b",
      "9f0420d573884700904d3a1404f74349",
      "eb68f8fcc1c0468889b68ced8e940db0",
      "437b26643dba4b3d9d20a84da7d95fa9",
      "46d6553d007e49b4bc17bb5e725a4196",
      "deef84629f984c01b3afe757d0373b92",
      "66ffdd088ebb43e495413dbea3f2c97d",
      "3f645f983d5b4c2ca778b137b4815e03",
      "14a17fe7af5d4c0d8217e56fabc8cfda",
      "7c4cc04c20854f5b9c5713474e8104ba",
      "6a27757744474f89a2f272872fd3e63a",
      "003b69590f924aba8889ee68b0ad2ce3",
      "a5a85c0f937e4fcea4fdc21620eaaa23",
      "5978ea46772548909cf5dca9216612ea",
      "1e5aff41551945da9bb88d657e8df278",
      "45e27eab2357461c94675f6743fa5287",
      "0f21638b725943829bed8e9c100ba85a",
      "b9532b04ea20499da4ea979b88d0309b"
     ]
    },
    "executionInfo": {
     "elapsed": 12069,
     "status": "ok",
     "timestamp": 1669632020597,
     "user": {
      "displayName": "Yash Chauhan",
      "userId": "03194567605433747724"
     },
     "user_tz": -330
    },
    "id": "mAMtZKKHlyH_",
    "outputId": "fbea7df9-b2c3-4b16-f0e9-25f1b2c731b6"
   },
   "outputs": [
    {
     "data": {
      "application/vnd.jupyter.widget-view+json": {
       "model_id": "2c8429b01b914cc0b46c7a9317f54430",
       "version_major": 2,
       "version_minor": 0
      },
      "text/plain": [
       "Summarize dataset:   0%|          | 0/5 [00:00<?, ?it/s]"
      ]
     },
     "metadata": {},
     "output_type": "display_data"
    },
    {
     "data": {
      "application/vnd.jupyter.widget-view+json": {
       "model_id": "9daa3c8daf4144ce86d40782208e5849",
       "version_major": 2,
       "version_minor": 0
      },
      "text/plain": [
       "Generate report structure:   0%|          | 0/1 [00:00<?, ?it/s]"
      ]
     },
     "metadata": {},
     "output_type": "display_data"
    },
    {
     "data": {
      "application/vnd.jupyter.widget-view+json": {
       "model_id": "28471168f6534cf08af821255711f4fd",
       "version_major": 2,
       "version_minor": 0
      },
      "text/plain": [
       "Render HTML:   0%|          | 0/1 [00:00<?, ?it/s]"
      ]
     },
     "metadata": {},
     "output_type": "display_data"
    },
    {
     "data": {
      "application/vnd.jupyter.widget-view+json": {
       "model_id": "3f645f983d5b4c2ca778b137b4815e03",
       "version_major": 2,
       "version_minor": 0
      },
      "text/plain": [
       "Export report to file:   0%|          | 0/1 [00:00<?, ?it/s]"
      ]
     },
     "metadata": {},
     "output_type": "display_data"
    },
    {
     "name": "stdout",
     "output_type": "stream",
     "text": [
      "Accomplished!\n"
     ]
    }
   ],
   "source": [
    "profile = ProfileReport(df = data)\n",
    "profile.to_file(output_file = 'Pre Profiling Report.html')\n",
    "print('Accomplished!')"
   ]
  },
  {
   "cell_type": "code",
   "execution_count": null,
   "metadata": {
    "id": "DhrcQhdrl3lt"
   },
   "outputs": [],
   "source": [
    "from google.colab import files                   # Use only if you are using Google Colab, otherwise remove it\n",
    "files.download('Pre Profiling Report.html')      # Use only if you are using Google Colab, otherwise remove it"
   ]
  },
  {
   "cell_type": "markdown",
   "metadata": {
    "id": "8N_uK0N9SpiI"
   },
   "source": [
    "**Observation:**\n",
    "\n",
    "- Report shows that **there are 17 features** out of which, **11 are boolean, 3 are numerical and 3 are categorical**.\n",
    "- There are **0.1% missing cells** available.\n",
    "- Contains **6% of duplicacy** in records.\n",
    "- For detailed information, checkout the full report."
   ]
  },
  {
   "cell_type": "markdown",
   "metadata": {
    "id": "rtGmIhral_aM"
   },
   "source": [
    "<a id = Section5></a>\n",
    "\n",
    "---\n",
    "# **5. Data Pre-Processing**\n",
    "---"
   ]
  },
  {
   "cell_type": "markdown",
   "metadata": {
    "id": "wcl3sKTMmCSU"
   },
   "source": [
    "<a id = Section51></a>\n",
    "### **5.1 Identification & Handling of Missing Data**"
   ]
  },
  {
   "cell_type": "markdown",
   "metadata": {
    "id": "ilmezYaCmHLd"
   },
   "source": [
    "#### **5.1.1 Null Data Identification & Handling**"
   ]
  },
  {
   "cell_type": "markdown",
   "metadata": {
    "id": "5P8BeCEdQako"
   },
   "source": [
    "**Before Handling Null Data**"
   ]
  },
  {
   "cell_type": "code",
   "execution_count": null,
   "metadata": {
    "colab": {
     "base_uri": "https://localhost:8080/",
     "height": 211
    },
    "executionInfo": {
     "elapsed": 416,
     "status": "ok",
     "timestamp": 1669632042285,
     "user": {
      "displayName": "Yash Chauhan",
      "userId": "03194567605433747724"
     },
     "user_tz": -330
    },
    "id": "Ts2s922AmDAE",
    "outputId": "a435a5cb-d364-4bd3-b5e5-3471593da8ff"
   },
   "outputs": [
    {
     "data": {
      "text/html": [
       "\n",
       "  <div id=\"df-e8387634-3c06-47a0-b1fa-4783152a53f9\">\n",
       "    <div class=\"colab-df-container\">\n",
       "      <div>\n",
       "<style scoped>\n",
       "    .dataframe tbody tr th:only-of-type {\n",
       "        vertical-align: middle;\n",
       "    }\n",
       "\n",
       "    .dataframe tbody tr th {\n",
       "        vertical-align: top;\n",
       "    }\n",
       "\n",
       "    .dataframe thead th {\n",
       "        text-align: right;\n",
       "    }\n",
       "</style>\n",
       "<table border=\"1\" class=\"dataframe\">\n",
       "  <thead>\n",
       "    <tr style=\"text-align: right;\">\n",
       "      <th></th>\n",
       "      <th>DiagnosisCode</th>\n",
       "      <th>ForcedVitalCapacity</th>\n",
       "      <th>ForcedExpirationVolume</th>\n",
       "      <th>ZubrodPerformanceStatus</th>\n",
       "      <th>PainBeforeSurgery</th>\n",
       "      <th>HaemoptysisBeforeSurgery</th>\n",
       "      <th>DyspnoeaBeforeSurgery</th>\n",
       "      <th>CoughBeforeSurgery</th>\n",
       "      <th>WeaknessBeforeSurgery</th>\n",
       "      <th>OriginalTumourSize</th>\n",
       "      <th>Type2Diabetes</th>\n",
       "      <th>MIUpto6</th>\n",
       "      <th>PeripheralArterialDiseases</th>\n",
       "      <th>Smoking</th>\n",
       "      <th>Asthma</th>\n",
       "      <th>AgeAtSurgery</th>\n",
       "      <th>Risk(1yr)</th>\n",
       "    </tr>\n",
       "  </thead>\n",
       "  <tbody>\n",
       "    <tr>\n",
       "      <th>Null Frequency</th>\n",
       "      <td>0.0</td>\n",
       "      <td>0.0</td>\n",
       "      <td>0.0</td>\n",
       "      <td>0.0</td>\n",
       "      <td>5.0</td>\n",
       "      <td>0.0</td>\n",
       "      <td>0.0</td>\n",
       "      <td>5.0</td>\n",
       "      <td>0.0</td>\n",
       "      <td>0.0</td>\n",
       "      <td>0.0</td>\n",
       "      <td>0.0</td>\n",
       "      <td>0.0</td>\n",
       "      <td>0.0</td>\n",
       "      <td>0.0</td>\n",
       "      <td>0.0</td>\n",
       "      <td>0.0</td>\n",
       "    </tr>\n",
       "    <tr>\n",
       "      <th>Missing %age</th>\n",
       "      <td>0.0</td>\n",
       "      <td>0.0</td>\n",
       "      <td>0.0</td>\n",
       "      <td>0.0</td>\n",
       "      <td>1.0</td>\n",
       "      <td>0.0</td>\n",
       "      <td>0.0</td>\n",
       "      <td>1.0</td>\n",
       "      <td>0.0</td>\n",
       "      <td>0.0</td>\n",
       "      <td>0.0</td>\n",
       "      <td>0.0</td>\n",
       "      <td>0.0</td>\n",
       "      <td>0.0</td>\n",
       "      <td>0.0</td>\n",
       "      <td>0.0</td>\n",
       "      <td>0.0</td>\n",
       "    </tr>\n",
       "  </tbody>\n",
       "</table>\n",
       "</div>\n",
       "      <button class=\"colab-df-convert\" onclick=\"convertToInteractive('df-e8387634-3c06-47a0-b1fa-4783152a53f9')\"\n",
       "              title=\"Convert this dataframe to an interactive table.\"\n",
       "              style=\"display:none;\">\n",
       "        \n",
       "  <svg xmlns=\"http://www.w3.org/2000/svg\" height=\"24px\"viewBox=\"0 0 24 24\"\n",
       "       width=\"24px\">\n",
       "    <path d=\"M0 0h24v24H0V0z\" fill=\"none\"/>\n",
       "    <path d=\"M18.56 5.44l.94 2.06.94-2.06 2.06-.94-2.06-.94-.94-2.06-.94 2.06-2.06.94zm-11 1L8.5 8.5l.94-2.06 2.06-.94-2.06-.94L8.5 2.5l-.94 2.06-2.06.94zm10 10l.94 2.06.94-2.06 2.06-.94-2.06-.94-.94-2.06-.94 2.06-2.06.94z\"/><path d=\"M17.41 7.96l-1.37-1.37c-.4-.4-.92-.59-1.43-.59-.52 0-1.04.2-1.43.59L10.3 9.45l-7.72 7.72c-.78.78-.78 2.05 0 2.83L4 21.41c.39.39.9.59 1.41.59.51 0 1.02-.2 1.41-.59l7.78-7.78 2.81-2.81c.8-.78.8-2.07 0-2.86zM5.41 20L4 18.59l7.72-7.72 1.47 1.35L5.41 20z\"/>\n",
       "  </svg>\n",
       "      </button>\n",
       "      \n",
       "  <style>\n",
       "    .colab-df-container {\n",
       "      display:flex;\n",
       "      flex-wrap:wrap;\n",
       "      gap: 12px;\n",
       "    }\n",
       "\n",
       "    .colab-df-convert {\n",
       "      background-color: #E8F0FE;\n",
       "      border: none;\n",
       "      border-radius: 50%;\n",
       "      cursor: pointer;\n",
       "      display: none;\n",
       "      fill: #1967D2;\n",
       "      height: 32px;\n",
       "      padding: 0 0 0 0;\n",
       "      width: 32px;\n",
       "    }\n",
       "\n",
       "    .colab-df-convert:hover {\n",
       "      background-color: #E2EBFA;\n",
       "      box-shadow: 0px 1px 2px rgba(60, 64, 67, 0.3), 0px 1px 3px 1px rgba(60, 64, 67, 0.15);\n",
       "      fill: #174EA6;\n",
       "    }\n",
       "\n",
       "    [theme=dark] .colab-df-convert {\n",
       "      background-color: #3B4455;\n",
       "      fill: #D2E3FC;\n",
       "    }\n",
       "\n",
       "    [theme=dark] .colab-df-convert:hover {\n",
       "      background-color: #434B5C;\n",
       "      box-shadow: 0px 1px 3px 1px rgba(0, 0, 0, 0.15);\n",
       "      filter: drop-shadow(0px 1px 2px rgba(0, 0, 0, 0.3));\n",
       "      fill: #FFFFFF;\n",
       "    }\n",
       "  </style>\n",
       "\n",
       "      <script>\n",
       "        const buttonEl =\n",
       "          document.querySelector('#df-e8387634-3c06-47a0-b1fa-4783152a53f9 button.colab-df-convert');\n",
       "        buttonEl.style.display =\n",
       "          google.colab.kernel.accessAllowed ? 'block' : 'none';\n",
       "\n",
       "        async function convertToInteractive(key) {\n",
       "          const element = document.querySelector('#df-e8387634-3c06-47a0-b1fa-4783152a53f9');\n",
       "          const dataTable =\n",
       "            await google.colab.kernel.invokeFunction('convertToInteractive',\n",
       "                                                     [key], {});\n",
       "          if (!dataTable) return;\n",
       "\n",
       "          const docLinkHtml = 'Like what you see? Visit the ' +\n",
       "            '<a target=\"_blank\" href=https://colab.research.google.com/notebooks/data_table.ipynb>data table notebook</a>'\n",
       "            + ' to learn more about interactive tables.';\n",
       "          element.innerHTML = '';\n",
       "          dataTable['output_type'] = 'display_data';\n",
       "          await google.colab.output.renderOutput(dataTable, element);\n",
       "          const docLink = document.createElement('div');\n",
       "          docLink.innerHTML = docLinkHtml;\n",
       "          element.appendChild(docLink);\n",
       "        }\n",
       "      </script>\n",
       "    </div>\n",
       "  </div>\n",
       "  "
      ],
      "text/plain": [
       "                DiagnosisCode  ForcedVitalCapacity  ForcedExpirationVolume  \\\n",
       "Null Frequency            0.0                  0.0                     0.0   \n",
       "Missing %age              0.0                  0.0                     0.0   \n",
       "\n",
       "                ZubrodPerformanceStatus  PainBeforeSurgery  \\\n",
       "Null Frequency                      0.0                5.0   \n",
       "Missing %age                        0.0                1.0   \n",
       "\n",
       "                HaemoptysisBeforeSurgery  DyspnoeaBeforeSurgery  \\\n",
       "Null Frequency                       0.0                    0.0   \n",
       "Missing %age                         0.0                    0.0   \n",
       "\n",
       "                CoughBeforeSurgery  WeaknessBeforeSurgery  OriginalTumourSize  \\\n",
       "Null Frequency                 5.0                    0.0                 0.0   \n",
       "Missing %age                   1.0                    0.0                 0.0   \n",
       "\n",
       "                Type2Diabetes  MIUpto6  PeripheralArterialDiseases  Smoking  \\\n",
       "Null Frequency            0.0      0.0                         0.0      0.0   \n",
       "Missing %age              0.0      0.0                         0.0      0.0   \n",
       "\n",
       "                Asthma  AgeAtSurgery  Risk(1yr)  \n",
       "Null Frequency     0.0           0.0        0.0  \n",
       "Missing %age       0.0           0.0        0.0  "
      ]
     },
     "execution_count": 60,
     "metadata": {},
     "output_type": "execute_result"
    }
   ],
   "source": [
    "null_frame = pd.DataFrame(index = data.columns.values)\n",
    "null_frame['Null Frequency'] = data.isnull().sum().values\n",
    "percent = data.isnull().sum().values/data.shape[0]\n",
    "null_frame['Missing %age'] = np.round(percent, decimals = 4) * 100\n",
    "null_frame.transpose()"
   ]
  },
  {
   "cell_type": "markdown",
   "metadata": {
    "id": "oI7L67KFTrSk"
   },
   "source": [
    "**Observation:**\n",
    "\n",
    "- **Feature**:\n",
    "  - Problem &rarr; Action Required\n",
    "- **PainBeforeSurgery:**\n",
    "  - Missing Information &rarr; Drop\n",
    "- **CoughBeforeSurgery:**\n",
    "  - Missing Information &rarr; Drop"
   ]
  },
  {
   "cell_type": "markdown",
   "metadata": {
    "id": "qUXO6I_VQc2o"
   },
   "source": [
    "**Performing Operations**"
   ]
  },
  {
   "cell_type": "code",
   "execution_count": null,
   "metadata": {
    "id": "AZrPEM9BQfxb"
   },
   "outputs": [],
   "source": [
    "data.dropna(inplace=True)"
   ]
  },
  {
   "cell_type": "markdown",
   "metadata": {
    "id": "7uFLFButQuGr"
   },
   "source": [
    "**After Handling Null Data**"
   ]
  },
  {
   "cell_type": "code",
   "execution_count": null,
   "metadata": {
    "colab": {
     "base_uri": "https://localhost:8080/",
     "height": 211
    },
    "executionInfo": {
     "elapsed": 4,
     "status": "ok",
     "timestamp": 1669632047153,
     "user": {
      "displayName": "Yash Chauhan",
      "userId": "03194567605433747724"
     },
     "user_tz": -330
    },
    "id": "6d3wGFw9QwfL",
    "outputId": "0cc169b0-275f-47c2-a211-5995638413c7"
   },
   "outputs": [
    {
     "data": {
      "text/html": [
       "\n",
       "  <div id=\"df-04305af5-b609-442b-b46b-25732f0a9745\">\n",
       "    <div class=\"colab-df-container\">\n",
       "      <div>\n",
       "<style scoped>\n",
       "    .dataframe tbody tr th:only-of-type {\n",
       "        vertical-align: middle;\n",
       "    }\n",
       "\n",
       "    .dataframe tbody tr th {\n",
       "        vertical-align: top;\n",
       "    }\n",
       "\n",
       "    .dataframe thead th {\n",
       "        text-align: right;\n",
       "    }\n",
       "</style>\n",
       "<table border=\"1\" class=\"dataframe\">\n",
       "  <thead>\n",
       "    <tr style=\"text-align: right;\">\n",
       "      <th></th>\n",
       "      <th>DiagnosisCode</th>\n",
       "      <th>ForcedVitalCapacity</th>\n",
       "      <th>ForcedExpirationVolume</th>\n",
       "      <th>ZubrodPerformanceStatus</th>\n",
       "      <th>PainBeforeSurgery</th>\n",
       "      <th>HaemoptysisBeforeSurgery</th>\n",
       "      <th>DyspnoeaBeforeSurgery</th>\n",
       "      <th>CoughBeforeSurgery</th>\n",
       "      <th>WeaknessBeforeSurgery</th>\n",
       "      <th>OriginalTumourSize</th>\n",
       "      <th>Type2Diabetes</th>\n",
       "      <th>MIUpto6</th>\n",
       "      <th>PeripheralArterialDiseases</th>\n",
       "      <th>Smoking</th>\n",
       "      <th>Asthma</th>\n",
       "      <th>AgeAtSurgery</th>\n",
       "      <th>Risk(1yr)</th>\n",
       "    </tr>\n",
       "  </thead>\n",
       "  <tbody>\n",
       "    <tr>\n",
       "      <th>Null Frequency</th>\n",
       "      <td>0.0</td>\n",
       "      <td>0.0</td>\n",
       "      <td>0.0</td>\n",
       "      <td>0.0</td>\n",
       "      <td>0.0</td>\n",
       "      <td>0.0</td>\n",
       "      <td>0.0</td>\n",
       "      <td>0.0</td>\n",
       "      <td>0.0</td>\n",
       "      <td>0.0</td>\n",
       "      <td>0.0</td>\n",
       "      <td>0.0</td>\n",
       "      <td>0.0</td>\n",
       "      <td>0.0</td>\n",
       "      <td>0.0</td>\n",
       "      <td>0.0</td>\n",
       "      <td>0.0</td>\n",
       "    </tr>\n",
       "    <tr>\n",
       "      <th>Missing %age</th>\n",
       "      <td>0.0</td>\n",
       "      <td>0.0</td>\n",
       "      <td>0.0</td>\n",
       "      <td>0.0</td>\n",
       "      <td>0.0</td>\n",
       "      <td>0.0</td>\n",
       "      <td>0.0</td>\n",
       "      <td>0.0</td>\n",
       "      <td>0.0</td>\n",
       "      <td>0.0</td>\n",
       "      <td>0.0</td>\n",
       "      <td>0.0</td>\n",
       "      <td>0.0</td>\n",
       "      <td>0.0</td>\n",
       "      <td>0.0</td>\n",
       "      <td>0.0</td>\n",
       "      <td>0.0</td>\n",
       "    </tr>\n",
       "  </tbody>\n",
       "</table>\n",
       "</div>\n",
       "      <button class=\"colab-df-convert\" onclick=\"convertToInteractive('df-04305af5-b609-442b-b46b-25732f0a9745')\"\n",
       "              title=\"Convert this dataframe to an interactive table.\"\n",
       "              style=\"display:none;\">\n",
       "        \n",
       "  <svg xmlns=\"http://www.w3.org/2000/svg\" height=\"24px\"viewBox=\"0 0 24 24\"\n",
       "       width=\"24px\">\n",
       "    <path d=\"M0 0h24v24H0V0z\" fill=\"none\"/>\n",
       "    <path d=\"M18.56 5.44l.94 2.06.94-2.06 2.06-.94-2.06-.94-.94-2.06-.94 2.06-2.06.94zm-11 1L8.5 8.5l.94-2.06 2.06-.94-2.06-.94L8.5 2.5l-.94 2.06-2.06.94zm10 10l.94 2.06.94-2.06 2.06-.94-2.06-.94-.94-2.06-.94 2.06-2.06.94z\"/><path d=\"M17.41 7.96l-1.37-1.37c-.4-.4-.92-.59-1.43-.59-.52 0-1.04.2-1.43.59L10.3 9.45l-7.72 7.72c-.78.78-.78 2.05 0 2.83L4 21.41c.39.39.9.59 1.41.59.51 0 1.02-.2 1.41-.59l7.78-7.78 2.81-2.81c.8-.78.8-2.07 0-2.86zM5.41 20L4 18.59l7.72-7.72 1.47 1.35L5.41 20z\"/>\n",
       "  </svg>\n",
       "      </button>\n",
       "      \n",
       "  <style>\n",
       "    .colab-df-container {\n",
       "      display:flex;\n",
       "      flex-wrap:wrap;\n",
       "      gap: 12px;\n",
       "    }\n",
       "\n",
       "    .colab-df-convert {\n",
       "      background-color: #E8F0FE;\n",
       "      border: none;\n",
       "      border-radius: 50%;\n",
       "      cursor: pointer;\n",
       "      display: none;\n",
       "      fill: #1967D2;\n",
       "      height: 32px;\n",
       "      padding: 0 0 0 0;\n",
       "      width: 32px;\n",
       "    }\n",
       "\n",
       "    .colab-df-convert:hover {\n",
       "      background-color: #E2EBFA;\n",
       "      box-shadow: 0px 1px 2px rgba(60, 64, 67, 0.3), 0px 1px 3px 1px rgba(60, 64, 67, 0.15);\n",
       "      fill: #174EA6;\n",
       "    }\n",
       "\n",
       "    [theme=dark] .colab-df-convert {\n",
       "      background-color: #3B4455;\n",
       "      fill: #D2E3FC;\n",
       "    }\n",
       "\n",
       "    [theme=dark] .colab-df-convert:hover {\n",
       "      background-color: #434B5C;\n",
       "      box-shadow: 0px 1px 3px 1px rgba(0, 0, 0, 0.15);\n",
       "      filter: drop-shadow(0px 1px 2px rgba(0, 0, 0, 0.3));\n",
       "      fill: #FFFFFF;\n",
       "    }\n",
       "  </style>\n",
       "\n",
       "      <script>\n",
       "        const buttonEl =\n",
       "          document.querySelector('#df-04305af5-b609-442b-b46b-25732f0a9745 button.colab-df-convert');\n",
       "        buttonEl.style.display =\n",
       "          google.colab.kernel.accessAllowed ? 'block' : 'none';\n",
       "\n",
       "        async function convertToInteractive(key) {\n",
       "          const element = document.querySelector('#df-04305af5-b609-442b-b46b-25732f0a9745');\n",
       "          const dataTable =\n",
       "            await google.colab.kernel.invokeFunction('convertToInteractive',\n",
       "                                                     [key], {});\n",
       "          if (!dataTable) return;\n",
       "\n",
       "          const docLinkHtml = 'Like what you see? Visit the ' +\n",
       "            '<a target=\"_blank\" href=https://colab.research.google.com/notebooks/data_table.ipynb>data table notebook</a>'\n",
       "            + ' to learn more about interactive tables.';\n",
       "          element.innerHTML = '';\n",
       "          dataTable['output_type'] = 'display_data';\n",
       "          await google.colab.output.renderOutput(dataTable, element);\n",
       "          const docLink = document.createElement('div');\n",
       "          docLink.innerHTML = docLinkHtml;\n",
       "          element.appendChild(docLink);\n",
       "        }\n",
       "      </script>\n",
       "    </div>\n",
       "  </div>\n",
       "  "
      ],
      "text/plain": [
       "                DiagnosisCode  ForcedVitalCapacity  ForcedExpirationVolume  \\\n",
       "Null Frequency            0.0                  0.0                     0.0   \n",
       "Missing %age              0.0                  0.0                     0.0   \n",
       "\n",
       "                ZubrodPerformanceStatus  PainBeforeSurgery  \\\n",
       "Null Frequency                      0.0                0.0   \n",
       "Missing %age                        0.0                0.0   \n",
       "\n",
       "                HaemoptysisBeforeSurgery  DyspnoeaBeforeSurgery  \\\n",
       "Null Frequency                       0.0                    0.0   \n",
       "Missing %age                         0.0                    0.0   \n",
       "\n",
       "                CoughBeforeSurgery  WeaknessBeforeSurgery  OriginalTumourSize  \\\n",
       "Null Frequency                 0.0                    0.0                 0.0   \n",
       "Missing %age                   0.0                    0.0                 0.0   \n",
       "\n",
       "                Type2Diabetes  MIUpto6  PeripheralArterialDiseases  Smoking  \\\n",
       "Null Frequency            0.0      0.0                         0.0      0.0   \n",
       "Missing %age              0.0      0.0                         0.0      0.0   \n",
       "\n",
       "                Asthma  AgeAtSurgery  Risk(1yr)  \n",
       "Null Frequency     0.0           0.0        0.0  \n",
       "Missing %age       0.0           0.0        0.0  "
      ]
     },
     "execution_count": 62,
     "metadata": {},
     "output_type": "execute_result"
    }
   ],
   "source": [
    "null_frame = pd.DataFrame(index = data.columns.values)\n",
    "null_frame['Null Frequency'] = data.isnull().sum().values\n",
    "percent = data.isnull().sum().values/data.shape[0]\n",
    "null_frame['Missing %age'] = np.round(percent, decimals = 4) * 100\n",
    "null_frame.transpose()"
   ]
  },
  {
   "cell_type": "markdown",
   "metadata": {
    "id": "VWO4G3hoUK4g"
   },
   "source": [
    "**Observation:**\n",
    "\n",
    "- We have **successfully removed null information**."
   ]
  },
  {
   "cell_type": "markdown",
   "metadata": {
    "id": "5JBBIVhgmN8_"
   },
   "source": [
    "#### **5.1.2 Zero Data Identification & Handling**"
   ]
  },
  {
   "cell_type": "code",
   "execution_count": null,
   "metadata": {
    "colab": {
     "base_uri": "https://localhost:8080/",
     "height": 211
    },
    "executionInfo": {
     "elapsed": 12,
     "status": "ok",
     "timestamp": 1669632049336,
     "user": {
      "displayName": "Yash Chauhan",
      "userId": "03194567605433747724"
     },
     "user_tz": -330
    },
    "id": "V39pT-iXmOrD",
    "outputId": "2cbe0968-773b-45c1-9219-0db556ad7a31"
   },
   "outputs": [
    {
     "data": {
      "text/html": [
       "\n",
       "  <div id=\"df-7e046ffa-dd4f-45f2-858a-a3153b3b249a\">\n",
       "    <div class=\"colab-df-container\">\n",
       "      <div>\n",
       "<style scoped>\n",
       "    .dataframe tbody tr th:only-of-type {\n",
       "        vertical-align: middle;\n",
       "    }\n",
       "\n",
       "    .dataframe tbody tr th {\n",
       "        vertical-align: top;\n",
       "    }\n",
       "\n",
       "    .dataframe thead th {\n",
       "        text-align: right;\n",
       "    }\n",
       "</style>\n",
       "<table border=\"1\" class=\"dataframe\">\n",
       "  <thead>\n",
       "    <tr style=\"text-align: right;\">\n",
       "      <th></th>\n",
       "      <th>DiagnosisCode</th>\n",
       "      <th>ForcedVitalCapacity</th>\n",
       "      <th>ForcedExpirationVolume</th>\n",
       "      <th>ZubrodPerformanceStatus</th>\n",
       "      <th>PainBeforeSurgery</th>\n",
       "      <th>HaemoptysisBeforeSurgery</th>\n",
       "      <th>DyspnoeaBeforeSurgery</th>\n",
       "      <th>CoughBeforeSurgery</th>\n",
       "      <th>WeaknessBeforeSurgery</th>\n",
       "      <th>OriginalTumourSize</th>\n",
       "      <th>Type2Diabetes</th>\n",
       "      <th>MIUpto6</th>\n",
       "      <th>PeripheralArterialDiseases</th>\n",
       "      <th>Smoking</th>\n",
       "      <th>Asthma</th>\n",
       "      <th>AgeAtSurgery</th>\n",
       "      <th>Risk(1yr)</th>\n",
       "    </tr>\n",
       "  </thead>\n",
       "  <tbody>\n",
       "    <tr>\n",
       "      <th>Null Frequency</th>\n",
       "      <td>0.0</td>\n",
       "      <td>0.0</td>\n",
       "      <td>0.0</td>\n",
       "      <td>0.0</td>\n",
       "      <td>455.00</td>\n",
       "      <td>421.00</td>\n",
       "      <td>457.00</td>\n",
       "      <td>154.00</td>\n",
       "      <td>414.00</td>\n",
       "      <td>0.0</td>\n",
       "      <td>453.00</td>\n",
       "      <td>489.00</td>\n",
       "      <td>484.00</td>\n",
       "      <td>90.00</td>\n",
       "      <td>489.00</td>\n",
       "      <td>0.0</td>\n",
       "      <td>418.00</td>\n",
       "    </tr>\n",
       "    <tr>\n",
       "      <th>Missing %age</th>\n",
       "      <td>0.0</td>\n",
       "      <td>0.0</td>\n",
       "      <td>0.0</td>\n",
       "      <td>0.0</td>\n",
       "      <td>92.67</td>\n",
       "      <td>85.74</td>\n",
       "      <td>93.08</td>\n",
       "      <td>31.36</td>\n",
       "      <td>84.32</td>\n",
       "      <td>0.0</td>\n",
       "      <td>92.26</td>\n",
       "      <td>99.59</td>\n",
       "      <td>98.57</td>\n",
       "      <td>18.33</td>\n",
       "      <td>99.59</td>\n",
       "      <td>0.0</td>\n",
       "      <td>85.13</td>\n",
       "    </tr>\n",
       "  </tbody>\n",
       "</table>\n",
       "</div>\n",
       "      <button class=\"colab-df-convert\" onclick=\"convertToInteractive('df-7e046ffa-dd4f-45f2-858a-a3153b3b249a')\"\n",
       "              title=\"Convert this dataframe to an interactive table.\"\n",
       "              style=\"display:none;\">\n",
       "        \n",
       "  <svg xmlns=\"http://www.w3.org/2000/svg\" height=\"24px\"viewBox=\"0 0 24 24\"\n",
       "       width=\"24px\">\n",
       "    <path d=\"M0 0h24v24H0V0z\" fill=\"none\"/>\n",
       "    <path d=\"M18.56 5.44l.94 2.06.94-2.06 2.06-.94-2.06-.94-.94-2.06-.94 2.06-2.06.94zm-11 1L8.5 8.5l.94-2.06 2.06-.94-2.06-.94L8.5 2.5l-.94 2.06-2.06.94zm10 10l.94 2.06.94-2.06 2.06-.94-2.06-.94-.94-2.06-.94 2.06-2.06.94z\"/><path d=\"M17.41 7.96l-1.37-1.37c-.4-.4-.92-.59-1.43-.59-.52 0-1.04.2-1.43.59L10.3 9.45l-7.72 7.72c-.78.78-.78 2.05 0 2.83L4 21.41c.39.39.9.59 1.41.59.51 0 1.02-.2 1.41-.59l7.78-7.78 2.81-2.81c.8-.78.8-2.07 0-2.86zM5.41 20L4 18.59l7.72-7.72 1.47 1.35L5.41 20z\"/>\n",
       "  </svg>\n",
       "      </button>\n",
       "      \n",
       "  <style>\n",
       "    .colab-df-container {\n",
       "      display:flex;\n",
       "      flex-wrap:wrap;\n",
       "      gap: 12px;\n",
       "    }\n",
       "\n",
       "    .colab-df-convert {\n",
       "      background-color: #E8F0FE;\n",
       "      border: none;\n",
       "      border-radius: 50%;\n",
       "      cursor: pointer;\n",
       "      display: none;\n",
       "      fill: #1967D2;\n",
       "      height: 32px;\n",
       "      padding: 0 0 0 0;\n",
       "      width: 32px;\n",
       "    }\n",
       "\n",
       "    .colab-df-convert:hover {\n",
       "      background-color: #E2EBFA;\n",
       "      box-shadow: 0px 1px 2px rgba(60, 64, 67, 0.3), 0px 1px 3px 1px rgba(60, 64, 67, 0.15);\n",
       "      fill: #174EA6;\n",
       "    }\n",
       "\n",
       "    [theme=dark] .colab-df-convert {\n",
       "      background-color: #3B4455;\n",
       "      fill: #D2E3FC;\n",
       "    }\n",
       "\n",
       "    [theme=dark] .colab-df-convert:hover {\n",
       "      background-color: #434B5C;\n",
       "      box-shadow: 0px 1px 3px 1px rgba(0, 0, 0, 0.15);\n",
       "      filter: drop-shadow(0px 1px 2px rgba(0, 0, 0, 0.3));\n",
       "      fill: #FFFFFF;\n",
       "    }\n",
       "  </style>\n",
       "\n",
       "      <script>\n",
       "        const buttonEl =\n",
       "          document.querySelector('#df-7e046ffa-dd4f-45f2-858a-a3153b3b249a button.colab-df-convert');\n",
       "        buttonEl.style.display =\n",
       "          google.colab.kernel.accessAllowed ? 'block' : 'none';\n",
       "\n",
       "        async function convertToInteractive(key) {\n",
       "          const element = document.querySelector('#df-7e046ffa-dd4f-45f2-858a-a3153b3b249a');\n",
       "          const dataTable =\n",
       "            await google.colab.kernel.invokeFunction('convertToInteractive',\n",
       "                                                     [key], {});\n",
       "          if (!dataTable) return;\n",
       "\n",
       "          const docLinkHtml = 'Like what you see? Visit the ' +\n",
       "            '<a target=\"_blank\" href=https://colab.research.google.com/notebooks/data_table.ipynb>data table notebook</a>'\n",
       "            + ' to learn more about interactive tables.';\n",
       "          element.innerHTML = '';\n",
       "          dataTable['output_type'] = 'display_data';\n",
       "          await google.colab.output.renderOutput(dataTable, element);\n",
       "          const docLink = document.createElement('div');\n",
       "          docLink.innerHTML = docLinkHtml;\n",
       "          element.appendChild(docLink);\n",
       "        }\n",
       "      </script>\n",
       "    </div>\n",
       "  </div>\n",
       "  "
      ],
      "text/plain": [
       "                DiagnosisCode  ForcedVitalCapacity  ForcedExpirationVolume  \\\n",
       "Null Frequency            0.0                  0.0                     0.0   \n",
       "Missing %age              0.0                  0.0                     0.0   \n",
       "\n",
       "                ZubrodPerformanceStatus  PainBeforeSurgery  \\\n",
       "Null Frequency                      0.0             455.00   \n",
       "Missing %age                        0.0              92.67   \n",
       "\n",
       "                HaemoptysisBeforeSurgery  DyspnoeaBeforeSurgery  \\\n",
       "Null Frequency                    421.00                 457.00   \n",
       "Missing %age                       85.74                  93.08   \n",
       "\n",
       "                CoughBeforeSurgery  WeaknessBeforeSurgery  OriginalTumourSize  \\\n",
       "Null Frequency              154.00                 414.00                 0.0   \n",
       "Missing %age                 31.36                  84.32                 0.0   \n",
       "\n",
       "                Type2Diabetes  MIUpto6  PeripheralArterialDiseases  Smoking  \\\n",
       "Null Frequency         453.00   489.00                      484.00    90.00   \n",
       "Missing %age            92.26    99.59                       98.57    18.33   \n",
       "\n",
       "                Asthma  AgeAtSurgery  Risk(1yr)  \n",
       "Null Frequency  489.00           0.0     418.00  \n",
       "Missing %age     99.59           0.0      85.13  "
      ]
     },
     "execution_count": 63,
     "metadata": {},
     "output_type": "execute_result"
    }
   ],
   "source": [
    "zero_frame = pd.DataFrame(index = data.columns.values)\n",
    "zero_frame['Null Frequency'] = data[data == 0].count().values\n",
    "percent = data[data == 0].count().values / data.shape[0]\n",
    "zero_frame['Missing %age'] = np.round(percent, decimals = 4) * 100\n",
    "zero_frame.transpose()"
   ]
  },
  {
   "cell_type": "markdown",
   "metadata": {
    "id": "UbyCCnAQUa1W"
   },
   "source": [
    "**Observation**\n",
    "\n",
    "- **Feature:** \n",
    "  - Problem &rarr; Action Required {Reason}\n",
    "- **PainBeforeSurgery**:\n",
    "  - Zero Data &rarr; None {Boolean data}\n",
    "- **HaemoptysisBeforeSurgery**:\n",
    "  - Zero Data &rarr; None {Boolean data}\n",
    "- **DyspnoeaBeforeSurgery**\n",
    "  - Zero Data &rarr; None {Boolean data}\n",
    "- **CoughBeforeSurgery**\n",
    "  - Zero Data &rarr; None {Boolean data}\n",
    "- **WeaknessBeforeSurgery**\n",
    "  - Zero Data &rarr; None {Boolean data}\n",
    "- **Type2Diabetes**\n",
    "  - Zero Data &rarr; None {Boolean data}\n",
    "- **MIUpto6**\n",
    "  - Zero Data &rarr; None {Ordinal data}\n",
    "- **PeripheralArterialDiseases**\n",
    "  - Zero Data &rarr; None {Boolean data}\n",
    "- **Smoking**\n",
    "  - Zero Data &rarr; None {Boolean data}\n",
    "- **Asthma**\n",
    "  - Zero Data &rarr; None {Boolean data}\n",
    "- **Risk(1yr)**\n",
    "  - Zero Data &rarr; None {Boolean data}"
   ]
  },
  {
   "cell_type": "markdown",
   "metadata": {
    "id": "TDbeM3K7mZ4k"
   },
   "source": [
    "<a id = Section52></a>\n",
    "### **5.2 Identification & Handling of Redundant Data**\n",
    "\n",
    "- In this section **we will identify redundant rows and columns** in our data if present."
   ]
  },
  {
   "cell_type": "markdown",
   "metadata": {
    "id": "JCSidIMgmzQf"
   },
   "source": [
    "#### **5.2.1 Identfication & Handling of Redundant Rows**"
   ]
  },
  {
   "cell_type": "markdown",
   "metadata": {
    "id": "ttK2N4ybQ5yJ"
   },
   "source": [
    "**Before Handling Duplicate Rows**"
   ]
  },
  {
   "cell_type": "code",
   "execution_count": null,
   "metadata": {
    "colab": {
     "base_uri": "https://localhost:8080/"
    },
    "executionInfo": {
     "elapsed": 11,
     "status": "ok",
     "timestamp": 1669632050833,
     "user": {
      "displayName": "Yash Chauhan",
      "userId": "03194567605433747724"
     },
     "user_tz": -330
    },
    "id": "uzB5sBbomam0",
    "outputId": "5c66f2cd-9711-4aef-92c8-aef95a60d5ac"
   },
   "outputs": [
    {
     "name": "stdout",
     "output_type": "stream",
     "text": [
      "Contains Redundant Records?: True\n",
      "Duplicate Count: 30\n"
     ]
    }
   ],
   "source": [
    "print('Contains Redundant Records?:', data.duplicated().any())\n",
    "print('Duplicate Count:', data.duplicated().sum())"
   ]
  },
  {
   "cell_type": "markdown",
   "metadata": {
    "id": "GtxyUS0AHiNK"
   },
   "source": [
    "**Observation:**\n",
    "\n",
    "- There are **30 records** which contains **redundant** information."
   ]
  },
  {
   "cell_type": "markdown",
   "metadata": {
    "id": "vnWirbc5Q7BS"
   },
   "source": [
    "**Performing Operations**"
   ]
  },
  {
   "cell_type": "code",
   "execution_count": null,
   "metadata": {
    "id": "B9r1E-TjQ9vQ"
   },
   "outputs": [],
   "source": [
    "data.drop_duplicates(inplace = True)"
   ]
  },
  {
   "cell_type": "markdown",
   "metadata": {
    "id": "7Ac3hub8Q_7e"
   },
   "source": [
    "**After Handling Duplicate Rows**"
   ]
  },
  {
   "cell_type": "code",
   "execution_count": null,
   "metadata": {
    "colab": {
     "base_uri": "https://localhost:8080/"
    },
    "executionInfo": {
     "elapsed": 3,
     "status": "ok",
     "timestamp": 1669632054395,
     "user": {
      "displayName": "Yash Chauhan",
      "userId": "03194567605433747724"
     },
     "user_tz": -330
    },
    "id": "w66Uh-AyRCBf",
    "outputId": "55d9b01c-1623-4055-ab7e-762ab28b93a1"
   },
   "outputs": [
    {
     "name": "stdout",
     "output_type": "stream",
     "text": [
      "Contains Redundant Records?: False\n",
      "Duplicate Count: 0\n"
     ]
    }
   ],
   "source": [
    "print('Contains Redundant Records?:', data.duplicated().any())\n",
    "print('Duplicate Count:', data.duplicated().sum())"
   ]
  },
  {
   "cell_type": "markdown",
   "metadata": {
    "id": "nLFuRgd5Hs7Q"
   },
   "source": [
    "**Observation:**\n",
    "\n",
    "- We have **successfully dropped duplicate rows**."
   ]
  },
  {
   "cell_type": "markdown",
   "metadata": {
    "id": "SHHWGikmmmR7"
   },
   "source": [
    "#### **5.2.2 Identification & Handling of Redundant Features**\n",
    "\n",
    "- For handling duplicate features we have created a custom function to identify duplicacy in features with different name but similar values:"
   ]
  },
  {
   "cell_type": "code",
   "execution_count": null,
   "metadata": {
    "id": "pH-H_f3mm1Gm"
   },
   "outputs": [],
   "source": [
    "def duplicate_cols(dataframe):\n",
    "  ls1 = []\n",
    "  ls2 = []\n",
    "\n",
    "  columns = dataframe.columns.values\n",
    "  for i in range(0, len(columns)):\n",
    "    for j in range(i+1, len(columns)):\n",
    "      if (np.where(dataframe[columns[i]] == dataframe[columns[j]], True, False).all() == True):\n",
    "        ls1.append(columns[i])\n",
    "        ls2.append(columns[j])\n",
    "\n",
    "  if ((len(ls1) == 0) & (len(ls2) == 0)):\n",
    "    return None\n",
    "  else:\n",
    "    duplicate_frame = pd.DataFrame()\n",
    "    duplicate_frame['Feature 1'] = ls1\n",
    "    duplicate_frame['Feature 2'] = ls2\n",
    "    return duplicate_frame"
   ]
  },
  {
   "cell_type": "code",
   "execution_count": null,
   "metadata": {
    "colab": {
     "base_uri": "https://localhost:8080/"
    },
    "executionInfo": {
     "elapsed": 627,
     "status": "ok",
     "timestamp": 1669632058948,
     "user": {
      "displayName": "Yash Chauhan",
      "userId": "03194567605433747724"
     },
     "user_tz": -330
    },
    "id": "00ey4MjEm4tj",
    "outputId": "baeba35c-43e3-4c2c-f9bd-7dc2b666636a"
   },
   "outputs": [
    {
     "name": "stdout",
     "output_type": "stream",
     "text": [
      "None\n"
     ]
    }
   ],
   "source": [
    "print(duplicate_cols(data))"
   ]
  },
  {
   "cell_type": "markdown",
   "metadata": {
    "id": "whMDB77yH5wg"
   },
   "source": [
    "**Observation:**\n",
    "\n",
    "- It turns out that there **aren't any duplicate features** present in our data."
   ]
  },
  {
   "cell_type": "markdown",
   "metadata": {
    "id": "2uvrQclknPok"
   },
   "source": [
    "<a id = Section53></a>\n",
    "### **5.3 Identification & Handling of Inconsistent Data Types**"
   ]
  },
  {
   "cell_type": "code",
   "execution_count": null,
   "metadata": {
    "colab": {
     "base_uri": "https://localhost:8080/",
     "height": 176
    },
    "executionInfo": {
     "elapsed": 9,
     "status": "ok",
     "timestamp": 1669632060865,
     "user": {
      "displayName": "Yash Chauhan",
      "userId": "03194567605433747724"
     },
     "user_tz": -330
    },
    "id": "KCsfMYkxnWrw",
    "outputId": "6a58a356-54e9-4105-949b-1b2420897d13"
   },
   "outputs": [
    {
     "data": {
      "text/html": [
       "\n",
       "  <div id=\"df-0a0dc4de-222a-4650-a143-2348ed1a41a6\">\n",
       "    <div class=\"colab-df-container\">\n",
       "      <div>\n",
       "<style scoped>\n",
       "    .dataframe tbody tr th:only-of-type {\n",
       "        vertical-align: middle;\n",
       "    }\n",
       "\n",
       "    .dataframe tbody tr th {\n",
       "        vertical-align: top;\n",
       "    }\n",
       "\n",
       "    .dataframe thead th {\n",
       "        text-align: right;\n",
       "    }\n",
       "</style>\n",
       "<table border=\"1\" class=\"dataframe\">\n",
       "  <thead>\n",
       "    <tr style=\"text-align: right;\">\n",
       "      <th></th>\n",
       "      <th>DiagnosisCode</th>\n",
       "      <th>ForcedVitalCapacity</th>\n",
       "      <th>ForcedExpirationVolume</th>\n",
       "      <th>ZubrodPerformanceStatus</th>\n",
       "      <th>PainBeforeSurgery</th>\n",
       "      <th>HaemoptysisBeforeSurgery</th>\n",
       "      <th>DyspnoeaBeforeSurgery</th>\n",
       "      <th>CoughBeforeSurgery</th>\n",
       "      <th>WeaknessBeforeSurgery</th>\n",
       "      <th>OriginalTumourSize</th>\n",
       "      <th>Type2Diabetes</th>\n",
       "      <th>MIUpto6</th>\n",
       "      <th>PeripheralArterialDiseases</th>\n",
       "      <th>Smoking</th>\n",
       "      <th>Asthma</th>\n",
       "      <th>AgeAtSurgery</th>\n",
       "      <th>Risk(1yr)</th>\n",
       "    </tr>\n",
       "  </thead>\n",
       "  <tbody>\n",
       "    <tr>\n",
       "      <th>9</th>\n",
       "      <td>DGN3</td>\n",
       "      <td>2.32</td>\n",
       "      <td>2.16</td>\n",
       "      <td>PRZ1</td>\n",
       "      <td>False</td>\n",
       "      <td>False</td>\n",
       "      <td>False</td>\n",
       "      <td>True</td>\n",
       "      <td>False</td>\n",
       "      <td>OC11</td>\n",
       "      <td>False</td>\n",
       "      <td>False</td>\n",
       "      <td>False</td>\n",
       "      <td>True</td>\n",
       "      <td>False</td>\n",
       "      <td>54</td>\n",
       "      <td>False</td>\n",
       "    </tr>\n",
       "    <tr>\n",
       "      <th>10</th>\n",
       "      <td>DGN3</td>\n",
       "      <td>2.56</td>\n",
       "      <td>2.32</td>\n",
       "      <td>PRZ0</td>\n",
       "      <td>False</td>\n",
       "      <td>True</td>\n",
       "      <td>False</td>\n",
       "      <td>True</td>\n",
       "      <td>False</td>\n",
       "      <td>OC12</td>\n",
       "      <td>False</td>\n",
       "      <td>False</td>\n",
       "      <td>False</td>\n",
       "      <td>False</td>\n",
       "      <td>False</td>\n",
       "      <td>60</td>\n",
       "      <td>False</td>\n",
       "    </tr>\n",
       "  </tbody>\n",
       "</table>\n",
       "</div>\n",
       "      <button class=\"colab-df-convert\" onclick=\"convertToInteractive('df-0a0dc4de-222a-4650-a143-2348ed1a41a6')\"\n",
       "              title=\"Convert this dataframe to an interactive table.\"\n",
       "              style=\"display:none;\">\n",
       "        \n",
       "  <svg xmlns=\"http://www.w3.org/2000/svg\" height=\"24px\"viewBox=\"0 0 24 24\"\n",
       "       width=\"24px\">\n",
       "    <path d=\"M0 0h24v24H0V0z\" fill=\"none\"/>\n",
       "    <path d=\"M18.56 5.44l.94 2.06.94-2.06 2.06-.94-2.06-.94-.94-2.06-.94 2.06-2.06.94zm-11 1L8.5 8.5l.94-2.06 2.06-.94-2.06-.94L8.5 2.5l-.94 2.06-2.06.94zm10 10l.94 2.06.94-2.06 2.06-.94-2.06-.94-.94-2.06-.94 2.06-2.06.94z\"/><path d=\"M17.41 7.96l-1.37-1.37c-.4-.4-.92-.59-1.43-.59-.52 0-1.04.2-1.43.59L10.3 9.45l-7.72 7.72c-.78.78-.78 2.05 0 2.83L4 21.41c.39.39.9.59 1.41.59.51 0 1.02-.2 1.41-.59l7.78-7.78 2.81-2.81c.8-.78.8-2.07 0-2.86zM5.41 20L4 18.59l7.72-7.72 1.47 1.35L5.41 20z\"/>\n",
       "  </svg>\n",
       "      </button>\n",
       "      \n",
       "  <style>\n",
       "    .colab-df-container {\n",
       "      display:flex;\n",
       "      flex-wrap:wrap;\n",
       "      gap: 12px;\n",
       "    }\n",
       "\n",
       "    .colab-df-convert {\n",
       "      background-color: #E8F0FE;\n",
       "      border: none;\n",
       "      border-radius: 50%;\n",
       "      cursor: pointer;\n",
       "      display: none;\n",
       "      fill: #1967D2;\n",
       "      height: 32px;\n",
       "      padding: 0 0 0 0;\n",
       "      width: 32px;\n",
       "    }\n",
       "\n",
       "    .colab-df-convert:hover {\n",
       "      background-color: #E2EBFA;\n",
       "      box-shadow: 0px 1px 2px rgba(60, 64, 67, 0.3), 0px 1px 3px 1px rgba(60, 64, 67, 0.15);\n",
       "      fill: #174EA6;\n",
       "    }\n",
       "\n",
       "    [theme=dark] .colab-df-convert {\n",
       "      background-color: #3B4455;\n",
       "      fill: #D2E3FC;\n",
       "    }\n",
       "\n",
       "    [theme=dark] .colab-df-convert:hover {\n",
       "      background-color: #434B5C;\n",
       "      box-shadow: 0px 1px 3px 1px rgba(0, 0, 0, 0.15);\n",
       "      filter: drop-shadow(0px 1px 2px rgba(0, 0, 0, 0.3));\n",
       "      fill: #FFFFFF;\n",
       "    }\n",
       "  </style>\n",
       "\n",
       "      <script>\n",
       "        const buttonEl =\n",
       "          document.querySelector('#df-0a0dc4de-222a-4650-a143-2348ed1a41a6 button.colab-df-convert');\n",
       "        buttonEl.style.display =\n",
       "          google.colab.kernel.accessAllowed ? 'block' : 'none';\n",
       "\n",
       "        async function convertToInteractive(key) {\n",
       "          const element = document.querySelector('#df-0a0dc4de-222a-4650-a143-2348ed1a41a6');\n",
       "          const dataTable =\n",
       "            await google.colab.kernel.invokeFunction('convertToInteractive',\n",
       "                                                     [key], {});\n",
       "          if (!dataTable) return;\n",
       "\n",
       "          const docLinkHtml = 'Like what you see? Visit the ' +\n",
       "            '<a target=\"_blank\" href=https://colab.research.google.com/notebooks/data_table.ipynb>data table notebook</a>'\n",
       "            + ' to learn more about interactive tables.';\n",
       "          element.innerHTML = '';\n",
       "          dataTable['output_type'] = 'display_data';\n",
       "          await google.colab.output.renderOutput(dataTable, element);\n",
       "          const docLink = document.createElement('div');\n",
       "          docLink.innerHTML = docLinkHtml;\n",
       "          element.appendChild(docLink);\n",
       "        }\n",
       "      </script>\n",
       "    </div>\n",
       "  </div>\n",
       "  "
      ],
      "text/plain": [
       "   DiagnosisCode  ForcedVitalCapacity  ForcedExpirationVolume  \\\n",
       "9           DGN3                 2.32                    2.16   \n",
       "10          DGN3                 2.56                    2.32   \n",
       "\n",
       "   ZubrodPerformanceStatus PainBeforeSurgery  HaemoptysisBeforeSurgery  \\\n",
       "9                     PRZ1             False                     False   \n",
       "10                    PRZ0             False                      True   \n",
       "\n",
       "    DyspnoeaBeforeSurgery CoughBeforeSurgery  WeaknessBeforeSurgery  \\\n",
       "9                   False               True                  False   \n",
       "10                  False               True                  False   \n",
       "\n",
       "   OriginalTumourSize  Type2Diabetes  MIUpto6  PeripheralArterialDiseases  \\\n",
       "9                OC11          False    False                       False   \n",
       "10               OC12          False    False                       False   \n",
       "\n",
       "    Smoking  Asthma  AgeAtSurgery  Risk(1yr)  \n",
       "9      True   False            54      False  \n",
       "10    False   False            60      False  "
      ]
     },
     "execution_count": 69,
     "metadata": {},
     "output_type": "execute_result"
    }
   ],
   "source": [
    "data.head(2)"
   ]
  },
  {
   "cell_type": "code",
   "execution_count": null,
   "metadata": {
    "colab": {
     "base_uri": "https://localhost:8080/",
     "height": 145
    },
    "executionInfo": {
     "elapsed": 4,
     "status": "ok",
     "timestamp": 1669632061239,
     "user": {
      "displayName": "Yash Chauhan",
      "userId": "03194567605433747724"
     },
     "user_tz": -330
    },
    "id": "6wIQ-bKenX11",
    "outputId": "1fc96810-25b1-403e-c6f3-15fb2d648853"
   },
   "outputs": [
    {
     "data": {
      "text/html": [
       "\n",
       "  <div id=\"df-34da7c1e-7233-44af-b71f-c3a18520056b\">\n",
       "    <div class=\"colab-df-container\">\n",
       "      <div>\n",
       "<style scoped>\n",
       "    .dataframe tbody tr th:only-of-type {\n",
       "        vertical-align: middle;\n",
       "    }\n",
       "\n",
       "    .dataframe tbody tr th {\n",
       "        vertical-align: top;\n",
       "    }\n",
       "\n",
       "    .dataframe thead th {\n",
       "        text-align: right;\n",
       "    }\n",
       "</style>\n",
       "<table border=\"1\" class=\"dataframe\">\n",
       "  <thead>\n",
       "    <tr style=\"text-align: right;\">\n",
       "      <th></th>\n",
       "      <th>DiagnosisCode</th>\n",
       "      <th>ForcedVitalCapacity</th>\n",
       "      <th>ForcedExpirationVolume</th>\n",
       "      <th>ZubrodPerformanceStatus</th>\n",
       "      <th>PainBeforeSurgery</th>\n",
       "      <th>HaemoptysisBeforeSurgery</th>\n",
       "      <th>DyspnoeaBeforeSurgery</th>\n",
       "      <th>CoughBeforeSurgery</th>\n",
       "      <th>WeaknessBeforeSurgery</th>\n",
       "      <th>OriginalTumourSize</th>\n",
       "      <th>Type2Diabetes</th>\n",
       "      <th>MIUpto6</th>\n",
       "      <th>PeripheralArterialDiseases</th>\n",
       "      <th>Smoking</th>\n",
       "      <th>Asthma</th>\n",
       "      <th>AgeAtSurgery</th>\n",
       "      <th>Risk(1yr)</th>\n",
       "    </tr>\n",
       "  </thead>\n",
       "  <tbody>\n",
       "    <tr>\n",
       "      <th>Type</th>\n",
       "      <td>object</td>\n",
       "      <td>float64</td>\n",
       "      <td>float64</td>\n",
       "      <td>object</td>\n",
       "      <td>object</td>\n",
       "      <td>bool</td>\n",
       "      <td>bool</td>\n",
       "      <td>object</td>\n",
       "      <td>bool</td>\n",
       "      <td>object</td>\n",
       "      <td>bool</td>\n",
       "      <td>bool</td>\n",
       "      <td>bool</td>\n",
       "      <td>bool</td>\n",
       "      <td>bool</td>\n",
       "      <td>int64</td>\n",
       "      <td>bool</td>\n",
       "    </tr>\n",
       "  </tbody>\n",
       "</table>\n",
       "</div>\n",
       "      <button class=\"colab-df-convert\" onclick=\"convertToInteractive('df-34da7c1e-7233-44af-b71f-c3a18520056b')\"\n",
       "              title=\"Convert this dataframe to an interactive table.\"\n",
       "              style=\"display:none;\">\n",
       "        \n",
       "  <svg xmlns=\"http://www.w3.org/2000/svg\" height=\"24px\"viewBox=\"0 0 24 24\"\n",
       "       width=\"24px\">\n",
       "    <path d=\"M0 0h24v24H0V0z\" fill=\"none\"/>\n",
       "    <path d=\"M18.56 5.44l.94 2.06.94-2.06 2.06-.94-2.06-.94-.94-2.06-.94 2.06-2.06.94zm-11 1L8.5 8.5l.94-2.06 2.06-.94-2.06-.94L8.5 2.5l-.94 2.06-2.06.94zm10 10l.94 2.06.94-2.06 2.06-.94-2.06-.94-.94-2.06-.94 2.06-2.06.94z\"/><path d=\"M17.41 7.96l-1.37-1.37c-.4-.4-.92-.59-1.43-.59-.52 0-1.04.2-1.43.59L10.3 9.45l-7.72 7.72c-.78.78-.78 2.05 0 2.83L4 21.41c.39.39.9.59 1.41.59.51 0 1.02-.2 1.41-.59l7.78-7.78 2.81-2.81c.8-.78.8-2.07 0-2.86zM5.41 20L4 18.59l7.72-7.72 1.47 1.35L5.41 20z\"/>\n",
       "  </svg>\n",
       "      </button>\n",
       "      \n",
       "  <style>\n",
       "    .colab-df-container {\n",
       "      display:flex;\n",
       "      flex-wrap:wrap;\n",
       "      gap: 12px;\n",
       "    }\n",
       "\n",
       "    .colab-df-convert {\n",
       "      background-color: #E8F0FE;\n",
       "      border: none;\n",
       "      border-radius: 50%;\n",
       "      cursor: pointer;\n",
       "      display: none;\n",
       "      fill: #1967D2;\n",
       "      height: 32px;\n",
       "      padding: 0 0 0 0;\n",
       "      width: 32px;\n",
       "    }\n",
       "\n",
       "    .colab-df-convert:hover {\n",
       "      background-color: #E2EBFA;\n",
       "      box-shadow: 0px 1px 2px rgba(60, 64, 67, 0.3), 0px 1px 3px 1px rgba(60, 64, 67, 0.15);\n",
       "      fill: #174EA6;\n",
       "    }\n",
       "\n",
       "    [theme=dark] .colab-df-convert {\n",
       "      background-color: #3B4455;\n",
       "      fill: #D2E3FC;\n",
       "    }\n",
       "\n",
       "    [theme=dark] .colab-df-convert:hover {\n",
       "      background-color: #434B5C;\n",
       "      box-shadow: 0px 1px 3px 1px rgba(0, 0, 0, 0.15);\n",
       "      filter: drop-shadow(0px 1px 2px rgba(0, 0, 0, 0.3));\n",
       "      fill: #FFFFFF;\n",
       "    }\n",
       "  </style>\n",
       "\n",
       "      <script>\n",
       "        const buttonEl =\n",
       "          document.querySelector('#df-34da7c1e-7233-44af-b71f-c3a18520056b button.colab-df-convert');\n",
       "        buttonEl.style.display =\n",
       "          google.colab.kernel.accessAllowed ? 'block' : 'none';\n",
       "\n",
       "        async function convertToInteractive(key) {\n",
       "          const element = document.querySelector('#df-34da7c1e-7233-44af-b71f-c3a18520056b');\n",
       "          const dataTable =\n",
       "            await google.colab.kernel.invokeFunction('convertToInteractive',\n",
       "                                                     [key], {});\n",
       "          if (!dataTable) return;\n",
       "\n",
       "          const docLinkHtml = 'Like what you see? Visit the ' +\n",
       "            '<a target=\"_blank\" href=https://colab.research.google.com/notebooks/data_table.ipynb>data table notebook</a>'\n",
       "            + ' to learn more about interactive tables.';\n",
       "          element.innerHTML = '';\n",
       "          dataTable['output_type'] = 'display_data';\n",
       "          await google.colab.output.renderOutput(dataTable, element);\n",
       "          const docLink = document.createElement('div');\n",
       "          docLink.innerHTML = docLinkHtml;\n",
       "          element.appendChild(docLink);\n",
       "        }\n",
       "      </script>\n",
       "    </div>\n",
       "  </div>\n",
       "  "
      ],
      "text/plain": [
       "     DiagnosisCode ForcedVitalCapacity ForcedExpirationVolume  \\\n",
       "Type        object             float64                float64   \n",
       "\n",
       "     ZubrodPerformanceStatus PainBeforeSurgery HaemoptysisBeforeSurgery  \\\n",
       "Type                  object            object                     bool   \n",
       "\n",
       "     DyspnoeaBeforeSurgery CoughBeforeSurgery WeaknessBeforeSurgery  \\\n",
       "Type                  bool             object                  bool   \n",
       "\n",
       "     OriginalTumourSize Type2Diabetes MIUpto6 PeripheralArterialDiseases  \\\n",
       "Type             object          bool    bool                       bool   \n",
       "\n",
       "     Smoking Asthma AgeAtSurgery Risk(1yr)  \n",
       "Type    bool   bool        int64      bool  "
      ]
     },
     "execution_count": 70,
     "metadata": {},
     "output_type": "execute_result"
    }
   ],
   "source": [
    "type_frame = pd.DataFrame(data = data.dtypes, columns = ['Type'])\n",
    "type_frame.transpose()"
   ]
  },
  {
   "cell_type": "markdown",
   "metadata": {
    "id": "rM0sREvxIGLO"
   },
   "source": [
    "**Observation:**\n",
    "\n",
    "- It turns out that **all** the **features have correct type** with respect to information stores in cells."
   ]
  },
  {
   "cell_type": "markdown",
   "metadata": {
    "id": "l1R7AhnVnvVE"
   },
   "source": [
    "<a id = Section54></a>\n",
    "### **5.4 Post Profiling Report**\n",
    "\n",
    "- In post profiling, we identify the changes over cleansed data."
   ]
  },
  {
   "cell_type": "code",
   "execution_count": null,
   "metadata": {
    "colab": {
     "base_uri": "https://localhost:8080/",
     "height": 163,
     "referenced_widgets": [
      "9436a102bd124670a1870a9fe5ae7944",
      "f5b5f602ae7644ea97c52a1c10544dee",
      "7963eab267d5405193579ca3adde2cf6",
      "3abbd4e9a07d4c09a9f2c1303090f74a",
      "35ac38a14ca549368b91a596ab5c238b",
      "63ab190af0e24e19b1b653be488eb9a9",
      "e566e68585834d359c1e8fe2485a33d5",
      "335210859fd443eea0f8e974bc7674ee",
      "f402955b4a5e48d79f983293b077cdc8",
      "ed8f644f3e4d4321944fee32476b7a8e",
      "16eacd715a0c4c6eb23215733b71f892",
      "35e2ed8e072546a2931bb513a6ef8f66",
      "9caf2a9972e74bb1831256e8f25c33ca",
      "429269868e26493195c745272afe0eb6",
      "061ab25014e04cadb47604123f3f9244",
      "cb3876f1b1e342a78a746b40831c6f71",
      "b46d182bbf144c12a69ac4c4aa1b931f",
      "d09b05af16074ce3bfde6183bb01b883",
      "30c9581b4cc549339929eb74876a99d9",
      "47f9ac53901f4573802ad45fe97701f6",
      "c8e80cdbe2844b019cd581adaab14d5e",
      "2adbba9512484a7d9687a7167c3dcaed",
      "26efccfdc32f43ceba8c5b1a132810c2",
      "bed28aa0222b462a86f6fc99832043ba",
      "1c9e32d4b3334d978c638bd3d9c3867a",
      "aff1513ce2144369a57455de05c2afac",
      "01d7df987fcb42dc89c7c9d702e1040b",
      "af7d71fe2c1e458f8fcb36235c291632",
      "962092d49f424c789064220c961d2377",
      "2f874cd9c3bb4707a2d87e94f037d514",
      "6bb72b8e023d47b487335c0e45e5d8a1",
      "a5bdf91b7bcd4e72b74cb2978c33eedb",
      "ba883481002a43a692ddab0046363792",
      "084e56a4f1b44a06947b742870cd7815",
      "9751e5f179d343b08e51e56b92e5bb8e",
      "072ba8d435924e4a835e4bc2ea15d37f",
      "0dcd6f4dba4d4c5fb8b926f5240af724",
      "27e6f1383adc46dbbf52bd0477905a75",
      "cb21838b15d340b78a4019174db4af80",
      "3016155d25ec41b9ae0e08fc6e7e0d2a",
      "2c2b9371ef054af8b041933330777e96",
      "890c09b39d40473e902fb170ef5baf27",
      "62a554c1d77f4281861edcca0d5e0b5f",
      "3e3e56ded9fc4981b47023196ba80648"
     ]
    },
    "executionInfo": {
     "elapsed": 11958,
     "status": "ok",
     "timestamp": 1669632075085,
     "user": {
      "displayName": "Yash Chauhan",
      "userId": "03194567605433747724"
     },
     "user_tz": -330
    },
    "id": "4mw9cRCtnwOD",
    "outputId": "0f29cb7d-c2b6-4a99-d69a-ed599d46cd24"
   },
   "outputs": [
    {
     "data": {
      "application/vnd.jupyter.widget-view+json": {
       "model_id": "9436a102bd124670a1870a9fe5ae7944",
       "version_major": 2,
       "version_minor": 0
      },
      "text/plain": [
       "Summarize dataset:   0%|          | 0/5 [00:00<?, ?it/s]"
      ]
     },
     "metadata": {},
     "output_type": "display_data"
    },
    {
     "data": {
      "application/vnd.jupyter.widget-view+json": {
       "model_id": "35e2ed8e072546a2931bb513a6ef8f66",
       "version_major": 2,
       "version_minor": 0
      },
      "text/plain": [
       "Generate report structure:   0%|          | 0/1 [00:00<?, ?it/s]"
      ]
     },
     "metadata": {},
     "output_type": "display_data"
    },
    {
     "data": {
      "application/vnd.jupyter.widget-view+json": {
       "model_id": "26efccfdc32f43ceba8c5b1a132810c2",
       "version_major": 2,
       "version_minor": 0
      },
      "text/plain": [
       "Render HTML:   0%|          | 0/1 [00:00<?, ?it/s]"
      ]
     },
     "metadata": {},
     "output_type": "display_data"
    },
    {
     "data": {
      "application/vnd.jupyter.widget-view+json": {
       "model_id": "084e56a4f1b44a06947b742870cd7815",
       "version_major": 2,
       "version_minor": 0
      },
      "text/plain": [
       "Export report to file:   0%|          | 0/1 [00:00<?, ?it/s]"
      ]
     },
     "metadata": {},
     "output_type": "display_data"
    },
    {
     "name": "stdout",
     "output_type": "stream",
     "text": [
      "Accomplished!\n"
     ]
    }
   ],
   "source": [
    "profile = ProfileReport(df = data)\n",
    "profile.to_file(output_file = 'Post Profiling Report.html')\n",
    "print('Accomplished!')"
   ]
  },
  {
   "cell_type": "code",
   "execution_count": null,
   "metadata": {
    "id": "P__MdJa9nzC7"
   },
   "outputs": [],
   "source": [
    "from google.colab import files                   # Use only if you are using Google Colab, otherwise remove it\n",
    "files.download('Post Profiling Report.html')     # Use only if you are using Google Colab, otherwise remove it"
   ]
  },
  {
   "cell_type": "markdown",
   "metadata": {
    "id": "9zO1dm_CIRfW"
   },
   "source": [
    "**Observation:**\n",
    "\n",
    "- Report shows that **there are 17 features** out of which **11 are boolean, 3 are numeric and 3 are categorical**.\n",
    "- Additionally, **there is no missing data** present in our dataset.\n",
    "- **Rest** of the **information is intact** and available in files provided."
   ]
  },
  {
   "cell_type": "markdown",
   "metadata": {
    "id": "J0eFErcTp1Pf"
   },
   "source": [
    "<a id = Section6></a>\n",
    "\n",
    "---\n",
    "# **6. Exploratory Data Analysis**\n",
    "---"
   ]
  },
  {
   "cell_type": "markdown",
   "metadata": {
    "id": "L3w4o2fCJDBO"
   },
   "source": [
    "**<h4>Question 1: What is the proportion of patients who survived and who did not after a year?</h4>**"
   ]
  },
  {
   "cell_type": "code",
   "execution_count": null,
   "metadata": {
    "colab": {
     "base_uri": "https://localhost:8080/",
     "height": 448
    },
    "executionInfo": {
     "elapsed": 547,
     "status": "ok",
     "timestamp": 1669632115253,
     "user": {
      "displayName": "Yash Chauhan",
      "userId": "03194567605433747724"
     },
     "user_tz": -330
    },
    "id": "EFVn871MJFvk",
    "outputId": "5d7f407d-6297-4ed8-c2ab-010db3c51756"
   },
   "outputs": [
    {
     "data": {
      "image/png": "[encoded data removed]",
      "text/plain": [
       "<Figure size 983.52x552.96 with 1 Axes>"
      ]
     },
     "metadata": {},
     "output_type": "display_data"
    }
   ],
   "source": [
    "figure = plt.figure(figsize = [12, 10])\n",
    "space = np.ones(2)/10\n",
    "data['Risk(1yr)'].value_counts().plot(kind = 'pie', explode = space, fontsize = 14, autopct = '%3.1f%%', wedgeprops = dict(width = 0.15), \n",
    "                                    shadow = True, startangle = 160, figsize = [13.66, 7.68], legend = True, labels = ['', ''])\n",
    "plt.legend(['Survived', 'Died'])\n",
    "plt.ylabel('Risk(1yr)', size = 14)\n",
    "plt.show()"
   ]
  },
  {
   "cell_type": "markdown",
   "metadata": {
    "id": "3VikmHPRJ05e"
   },
   "source": [
    "**Observation:**\n",
    "\n",
    "- Around **85% of patients survived** on post surgery after one year while around **15% of patients didn't survive**."
   ]
  },
  {
   "cell_type": "markdown",
   "metadata": {
    "id": "SUv2k7N1KGlV"
   },
   "source": [
    "**<h4>Question 2: What is the performance of patients in zubrod scale with respect to survival?</h4>**\n",
    "\n",
    "**Note:**\n",
    "**Zubrod Scale**\n",
    "- A rating scale measuring the ability of a cancer patient to carry out the activities of daily living. \n",
    "- **PRZ0:** (fully active, unrestricted by disease),\n",
    "- **PRZ1:** (able to carry out light work), \n",
    "- **PRZ2:** (ambulatory but resting for as much as 50% of the day)"
   ]
  },
  {
   "cell_type": "code",
   "execution_count": null,
   "metadata": {
    "colab": {
     "base_uri": "https://localhost:8080/",
     "height": 464
    },
    "executionInfo": {
     "elapsed": 15,
     "status": "ok",
     "timestamp": 1669632117723,
     "user": {
      "displayName": "Yash Chauhan",
      "userId": "03194567605433747724"
     },
     "user_tz": -330
    },
    "id": "jc4CknziKG64",
    "outputId": "5ade83a0-45cb-4605-a840-e55cf66a64a4"
   },
   "outputs": [
    {
     "data": {
      "image/png": "[encoded data removed]",
      "text/plain": [
       "<Figure size 864x504 with 1 Axes>"
      ]
     },
     "metadata": {
      "needs_background": "light"
     },
     "output_type": "display_data"
    }
   ],
   "source": [
    "figure = plt.figure(figsize = [12, 7])\n",
    "ax = sns.countplot(x = 'ZubrodPerformanceStatus', hue = 'Risk(1yr)', data = data, palette = ['#F67088', '#38A7D0'])\n",
    "total = data.shape[0]\n",
    "\n",
    "for p in ax.patches:\n",
    "  percentage = '{:.2f}%'.format(100 * p.get_height() / total)\n",
    "  x = p.get_x() + p.get_width() / 3\n",
    "  y = p.get_y() + p.get_height()\n",
    "  ax.annotate(percentage, (x, y))\n",
    "\n",
    "plt.xlabel('Performance Status (Zubrod)', size = 14)\n",
    "plt.ylabel('Percentage of Patients', size = 14)\n",
    "plt.legend(labels = ['Survived', 'Died'])\n",
    "plt.title('Performance of Patients vs Risk(1yr)', size = 16)\n",
    "plt.show()"
   ]
  },
  {
   "cell_type": "markdown",
   "metadata": {
    "id": "7gIZHCY_M0bc"
   },
   "source": [
    "**Observation:**\n",
    "\n",
    "- **Patients** who had **performance of PRZ1** type and **survived** are **approx 5X** more **than** the **patents who didn't**.\n",
    "- **Patients** who had **performance of PRZ0** type and **survived** are **approx 12X** more **than** the **patients who didn't**.\n",
    "- **Patients** who had **performance of PRZ2** type and **survived** are **approx 3X** more **than** the **patients who didn't**."
   ]
  },
  {
   "cell_type": "markdown",
   "metadata": {
    "id": "ZQRev65jNvTY"
   },
   "source": [
    "**<h4>Question 3: Is there any association between pain before surgery and survival risk?</h4>**"
   ]
  },
  {
   "cell_type": "code",
   "execution_count": null,
   "metadata": {
    "colab": {
     "base_uri": "https://localhost:8080/",
     "height": 464
    },
    "executionInfo": {
     "elapsed": 771,
     "status": "ok",
     "timestamp": 1669632120174,
     "user": {
      "displayName": "Yash Chauhan",
      "userId": "03194567605433747724"
     },
     "user_tz": -330
    },
    "id": "MPziA9GwNvsV",
    "outputId": "a9f72418-4430-45ba-f962-516783dea7ab"
   },
   "outputs": [
    {
     "data": {
      "image/png": "[encoded data removed]",
      "text/plain": [
       "<Figure size 864x504 with 1 Axes>"
      ]
     },
     "metadata": {
      "needs_background": "light"
     },
     "output_type": "display_data"
    }
   ],
   "source": [
    "figure = plt.figure(figsize = [12, 7])\n",
    "\n",
    "ax = sns.countplot(x = 'PainBeforeSurgery', hue = 'Risk(1yr)', data = data, palette = ['#56DB7F', '#DB5E56'])\n",
    "total = data.shape[0]\n",
    "\n",
    "for p in ax.patches:\n",
    "  percentage = '{:.2f}%'.format(100 * p.get_height() / total)\n",
    "  x = p.get_x() + p.get_width() / 3\n",
    "  y = p.get_y() + p.get_height()\n",
    "  ax.annotate(percentage, (x, y))\n",
    "\n",
    "plt.xlabel('Pain Before Surgery', size = 14)\n",
    "plt.ylabel('Percentage of Patients', size = 14)\n",
    "plt.xticks(ticks = [0, 1], labels = ['No', 'Yes'], rotation = 0)\n",
    "plt.legend(labels = ['Survived', 'Died'])\n",
    "plt.title('Pain Before Surgery vs Risk(1yr)', size = 16)\n",
    "plt.show()"
   ]
  },
  {
   "cell_type": "markdown",
   "metadata": {
    "id": "ECC9p6a4QoMK"
   },
   "source": [
    "**Observation:**\n",
    "\n",
    "- **Patients** who **didn't have any pain before surgery** and **survived** are **approx 6X** more than the patients who didn't survive.\n",
    "- **Patients** who **had pain before surgery** and **survived are approx 3X** more than the patients who didn't survive."
   ]
  },
  {
   "cell_type": "markdown",
   "metadata": {
    "id": "B0y2k9PvUBlB"
   },
   "source": [
    "**<h4>Question 4: Is there any association between haemoptysis (cough with blood) before surgery and survival risk?</h4>**"
   ]
  },
  {
   "cell_type": "code",
   "execution_count": null,
   "metadata": {
    "colab": {
     "base_uri": "https://localhost:8080/",
     "height": 464
    },
    "executionInfo": {
     "elapsed": 669,
     "status": "ok",
     "timestamp": 1669632122295,
     "user": {
      "displayName": "Yash Chauhan",
      "userId": "03194567605433747724"
     },
     "user_tz": -330
    },
    "id": "3jTr2fxXUB75",
    "outputId": "bd525518-2d60-4440-9e22-dbb60beb2475"
   },
   "outputs": [
    {
     "data": {
      "image/png": "[encoded data removed]",
      "text/plain": [
       "<Figure size 864x504 with 1 Axes>"
      ]
     },
     "metadata": {
      "needs_background": "light"
     },
     "output_type": "display_data"
    }
   ],
   "source": [
    "figure = plt.figure(figsize = [12, 7])\n",
    "\n",
    "ax = sns.countplot(x = 'HaemoptysisBeforeSurgery', hue = 'Risk(1yr)', data = data, palette = ['#33A02C', '#E31A1C'])\n",
    "total = data.shape[0]\n",
    "\n",
    "for p in ax.patches:\n",
    "  percentage = '{:.2f}%'.format(100 * p.get_height() / total)\n",
    "  x = p.get_x() + p.get_width() / 3\n",
    "  y = p.get_y() + p.get_height()\n",
    "  ax.annotate(percentage, (x, y))\n",
    "\n",
    "plt.xlabel('Haemoptysis Before Surgery', size = 14)\n",
    "plt.ylabel('Percentage of Patients', size = 14)\n",
    "plt.xticks(ticks = [0, 1], labels = ['No', 'Yes'], rotation = 0)\n",
    "plt.legend(labels = ['Survived', 'Died'])\n",
    "plt.title('Haemoptysis Before Surgery vs Risk(1yr)', size = 16)\n",
    "plt.show()"
   ]
  },
  {
   "cell_type": "markdown",
   "metadata": {
    "id": "GaXfdpgaWy6t"
   },
   "source": [
    "**Observation:**\n",
    "\n",
    "- **Patients** who **didn't have any haemoptysis before surgery** and **survived** are **approx 6X** more **than** the **patients who didn't**.\n",
    "- **Patients** who **had haemoptysis before surgery** and **survived** are **approx 4X** more **than** the **patients who didn't**."
   ]
  },
  {
   "cell_type": "markdown",
   "metadata": {
    "id": "w63gc5_0XJs6"
   },
   "source": [
    "**<h4>Question 5: Is there any association between cough before surgery and survival risk?</h4>**"
   ]
  },
  {
   "cell_type": "code",
   "execution_count": null,
   "metadata": {
    "colab": {
     "base_uri": "https://localhost:8080/",
     "height": 464
    },
    "executionInfo": {
     "elapsed": 7,
     "status": "ok",
     "timestamp": 1669632124484,
     "user": {
      "displayName": "Yash Chauhan",
      "userId": "03194567605433747724"
     },
     "user_tz": -330
    },
    "id": "FIZZOgU8XJb2",
    "outputId": "16fcf71f-98a3-40b3-c87e-f94c8dc9a5a9"
   },
   "outputs": [
    {
     "data": {
      "image/png": "[encoded data removed]",
      "text/plain": [
       "<Figure size 864x504 with 1 Axes>"
      ]
     },
     "metadata": {
      "needs_background": "light"
     },
     "output_type": "display_data"
    }
   ],
   "source": [
    "figure = plt.figure(figsize = [12, 7])\n",
    "\n",
    "ax = sns.countplot(x = 'CoughBeforeSurgery', hue = 'Risk(1yr)', data = data, palette = ['#91DB56', '#DB5E56'])\n",
    "total = data.shape[0]\n",
    "\n",
    "for p in ax.patches:\n",
    "  percentage = '{:.2f}%'.format(100 * p.get_height() / total)\n",
    "  x = p.get_x() + p.get_width() / 3\n",
    "  y = p.get_y() + p.get_height()\n",
    "  ax.annotate(percentage, (x, y))\n",
    "\n",
    "plt.xlabel('Cough Before Surgery', size = 14)\n",
    "plt.ylabel('Percentage of Patients', size = 14)\n",
    "plt.xticks(ticks = [0, 1], labels = ['No', 'Yes'], rotation = 0)\n",
    "plt.legend(labels = ['Survived', 'Died'])\n",
    "plt.title('Cough Before Surgery vs Risk(1yr)', size = 16)\n",
    "plt.show()"
   ]
  },
  {
   "cell_type": "markdown",
   "metadata": {
    "id": "54eZFT6QXznY"
   },
   "source": [
    "**Observation:**\n",
    "\n",
    "- **Patients** who **didn't have any cough before surgery** and **survived** are **approx 9X** more **than** the **patients who didn't**.\n",
    "- **Patients** who **had cough before surgery** and **survived** are **approx 5X** more **than** the **patients who didn't**."
   ]
  },
  {
   "cell_type": "markdown",
   "metadata": {
    "id": "eXau_ViBYSZf"
   },
   "source": [
    "**<h4>Question 6: Is there any association between dyspnoea (difficult in breathing) before surgery and survival risk?</h4>**"
   ]
  },
  {
   "cell_type": "code",
   "execution_count": null,
   "metadata": {
    "colab": {
     "base_uri": "https://localhost:8080/",
     "height": 464
    },
    "executionInfo": {
     "elapsed": 8,
     "status": "ok",
     "timestamp": 1669632127018,
     "user": {
      "displayName": "Yash Chauhan",
      "userId": "03194567605433747724"
     },
     "user_tz": -330
    },
    "id": "y1CKm7WUYTN-",
    "outputId": "d5e99ec7-5418-4c83-bc04-41d044e418d7"
   },
   "outputs": [
    {
     "data": {
      "image/png": "[encoded data removed]",
      "text/plain": [
       "<Figure size 864x504 with 1 Axes>"
      ]
     },
     "metadata": {
      "needs_background": "light"
     },
     "output_type": "display_data"
    }
   ],
   "source": [
    "figure = plt.figure(figsize = [12, 7])\n",
    "\n",
    "ax = sns.countplot(x = 'DyspnoeaBeforeSurgery', hue = 'Risk(1yr)', data = data, palette = ['#35ACA4', '#F67088'])\n",
    "total = data.shape[0]\n",
    "\n",
    "for p in ax.patches:\n",
    "  percentage = '{:.2f}%'.format(100 * p.get_height() / total)\n",
    "  x = p.get_x() + p.get_width() / 3\n",
    "  y = p.get_y() + p.get_height()\n",
    "  ax.annotate(percentage, (x, y))\n",
    "\n",
    "plt.xlabel('Dyspnoea Before Surgery', size = 14)\n",
    "plt.ylabel('Percentage of Patients', size = 14)\n",
    "plt.xticks(ticks = [0, 1], labels = ['No', 'Yes'], rotation = 0)\n",
    "plt.legend(labels = ['Survived', 'Died'])\n",
    "plt.title('Dyspnoea Before Surgery vs Risk(1yr)', size = 16)\n",
    "plt.show()"
   ]
  },
  {
   "cell_type": "markdown",
   "metadata": {
    "id": "Cxzk56D-Yvyz"
   },
   "source": [
    "**Observation:**\n",
    "\n",
    "- **Patients** who **didn't have any dyspnoea before surgery** and **survived** are **approx 6X more than** the **patients** who **didn't**.\n",
    "- **Patients** who **had dyspnoea before surgery** and **survived** are **approx 2.5X more than** the **patients** who **didn't**."
   ]
  },
  {
   "cell_type": "markdown",
   "metadata": {
    "id": "wGc-puFqZO_b"
   },
   "source": [
    "**<h4>Question 7: Is there any association between weakness before surgery and survival risk?</h4>**"
   ]
  },
  {
   "cell_type": "code",
   "execution_count": null,
   "metadata": {
    "colab": {
     "base_uri": "https://localhost:8080/",
     "height": 464
    },
    "executionInfo": {
     "elapsed": 945,
     "status": "ok",
     "timestamp": 1669632130117,
     "user": {
      "displayName": "Yash Chauhan",
      "userId": "03194567605433747724"
     },
     "user_tz": -330
    },
    "id": "WWZG6cjfZP2E",
    "outputId": "ed5e6ca5-f054-4137-de64-412d6d0f8767"
   },
   "outputs": [
    {
     "data": {
      "image/png": "[encoded data removed]",
      "text/plain": [
       "<Figure size 864x504 with 1 Axes>"
      ]
     },
     "metadata": {
      "needs_background": "light"
     },
     "output_type": "display_data"
    }
   ],
   "source": [
    "figure = plt.figure(figsize = [12, 7])\n",
    "\n",
    "ax = sns.countplot(x = 'WeaknessBeforeSurgery', hue = 'Risk(1yr)', data = data, palette = ['#A6D854', '#FC8D62'])\n",
    "total = data.shape[0]\n",
    "\n",
    "for p in ax.patches:\n",
    "  percentage = '{:.2f}%'.format(100 * p.get_height() / total)\n",
    "  x = p.get_x() + p.get_width() / 3\n",
    "  y = p.get_y() + p.get_height()\n",
    "  ax.annotate(percentage, (x, y))\n",
    "\n",
    "plt.xlabel('Weakness Before Surgery', size = 14)\n",
    "plt.ylabel('Percentage of Patients', size = 14)\n",
    "plt.xticks(ticks = [0, 1], labels = ['No', 'Yes'], rotation = 0)\n",
    "plt.legend(labels = ['Survived', 'Died'])\n",
    "plt.title('Weakness Before Surgery vs Risk(1yr)', size = 16)\n",
    "plt.show()"
   ]
  },
  {
   "cell_type": "markdown",
   "metadata": {
    "id": "VRBadnKOaEaB"
   },
   "source": [
    "**Observation:**\n",
    "\n",
    "- **Patients** who **didn't had any weakness before surgery** and **survived** are **approx 6.5X more than** the **patients** who **didn't**.\n",
    "- **Patients** who **had weakness before surgery** and **survived** are **approx 3.5X more than** the **patients** who **didn't**."
   ]
  },
  {
   "cell_type": "markdown",
   "metadata": {
    "id": "RL6RPs8gadtw"
   },
   "source": [
    "**<h4>Question 8: What is the proportion of survival with respect to each tumour size?</h4>**\n",
    "\n",
    "**Note:** Size of the original tumour, from OC11 (smallest) to OC14 (largest) [OC11,OC14,OC12,OC13]"
   ]
  },
  {
   "cell_type": "code",
   "execution_count": null,
   "metadata": {
    "id": "AqKOoDfKbqNQ"
   },
   "outputs": [],
   "source": [
    "oc11_data = data[data['OriginalTumourSize'] == 'OC11']\n",
    "oc12_data = data[data['OriginalTumourSize'] == 'OC12']\n",
    "oc13_data = data[data['OriginalTumourSize'] == 'OC13']\n",
    "oc14_data = data[data['OriginalTumourSize'] == 'OC14']"
   ]
  },
  {
   "cell_type": "code",
   "execution_count": null,
   "metadata": {
    "colab": {
     "base_uri": "https://localhost:8080/",
     "height": 564
    },
    "executionInfo": {
     "elapsed": 1084,
     "status": "ok",
     "timestamp": 1669632134034,
     "user": {
      "displayName": "Yash Chauhan",
      "userId": "03194567605433747724"
     },
     "user_tz": -330
    },
    "id": "dCc8F6PAadZa",
    "outputId": "3850be7b-abf1-45d2-df4e-7c55813f1215"
   },
   "outputs": [
    {
     "data": {
      "image/png": "[encoded data removed]",
      "text/plain": [
       "<Figure size 983.52x552.96 with 4 Axes>"
      ]
     },
     "metadata": {},
     "output_type": "display_data"
    }
   ],
   "source": [
    "figure = plt.figure(figsize = [40, 15])\n",
    "plt.subplot(2, 2, 1)\n",
    "oc11_data['Risk(1yr)'].value_counts().plot(kind = 'pie', fontsize = 14, autopct = '%3.1f%%', wedgeprops = dict(width = 0.15), \n",
    "                                    shadow = True, startangle = 160, figsize = [13.66, 7.68], legend = True, labels = ['', ''], colors = ['#2ECC71', '#E74C3C'])\n",
    "plt.legend(['Survived', 'Died'])\n",
    "plt.ylabel('Tumour OC11', size = 14)\n",
    "\n",
    "plt.subplot(2, 2, 2)\n",
    "oc12_data['Risk(1yr)'].value_counts().plot(kind = 'pie', fontsize = 14, autopct = '%3.1f%%', wedgeprops = dict(width = 0.15), \n",
    "                                    shadow = True, startangle = 160, figsize = [13.66, 7.68], legend = True, labels = ['', ''], colors = ['#2ECC71', '#E74C3C'])\n",
    "plt.legend(['Survived', 'Died'])\n",
    "plt.ylabel('Tumour OC12', size = 14)\n",
    "\n",
    "plt.subplot(2, 2, 3)\n",
    "oc13_data['Risk(1yr)'].value_counts().plot(kind = 'pie', fontsize = 14, autopct = '%3.1f%%', wedgeprops = dict(width = 0.15), \n",
    "                                    shadow = True, startangle = 160, figsize = [13.66, 7.68], legend = True, labels = ['', ''], colors = ['#2ECC71', '#E74C3C'])\n",
    "plt.legend(['Survived', 'Died'])\n",
    "plt.ylabel('Tumour OC13', size = 14)\n",
    "\n",
    "plt.subplot(2, 2, 4)\n",
    "oc14_data['Risk(1yr)'].value_counts().plot(kind = 'pie', fontsize = 14, autopct = '%3.1f%%', wedgeprops = dict(width = 0.15), \n",
    "                                    shadow = True, startangle = 160, figsize = [13.66, 7.68], legend = True, labels = ['', ''], colors = ['#2ECC71', '#E74C3C'])\n",
    "plt.legend(['Survived', 'Died'])\n",
    "plt.ylabel('Tumour OC14', size = 14)\n",
    "\n",
    "plt.tight_layout(pad = 1.0)\n",
    "plt.show()"
   ]
  },
  {
   "cell_type": "markdown",
   "metadata": {
    "id": "xrxqzCXbe8fz"
   },
   "source": [
    "**Observation:**\n",
    "\n",
    "- **Patients** who had **tumour type OC11 & OC12 had higher chances of survival** than any other type of tumour type."
   ]
  },
  {
   "cell_type": "markdown",
   "metadata": {
    "id": "Wp180Sz6f0Hm"
   },
   "source": [
    "**<h4>Question 9: Is there any association between type 2 diabetes and survival risk?</h4>**"
   ]
  },
  {
   "cell_type": "code",
   "execution_count": null,
   "metadata": {
    "colab": {
     "base_uri": "https://localhost:8080/",
     "height": 464
    },
    "executionInfo": {
     "elapsed": 1002,
     "status": "ok",
     "timestamp": 1669632136994,
     "user": {
      "displayName": "Yash Chauhan",
      "userId": "03194567605433747724"
     },
     "user_tz": -330
    },
    "id": "Lry2BUSsfzrY",
    "outputId": "9f33cc03-b512-44b5-a106-6808de2da8ab"
   },
   "outputs": [
    {
     "data": {
      "image/png": "[encoded data removed]",
      "text/plain": [
       "<Figure size 864x504 with 1 Axes>"
      ]
     },
     "metadata": {
      "needs_background": "light"
     },
     "output_type": "display_data"
    }
   ],
   "source": [
    "figure = plt.figure(figsize = [12, 7])\n",
    "\n",
    "ax = sns.countplot(x = 'Type2Diabetes', hue = 'Risk(1yr)', data = data, palette = ['#7BB274', '#825F87'])\n",
    "total = data.shape[0]\n",
    "\n",
    "for p in ax.patches:\n",
    "  percentage = '{:.2f}%'.format(100 * p.get_height() / total)\n",
    "  x = p.get_x() + p.get_width() / 3\n",
    "  y = p.get_y() + p.get_height()\n",
    "  ax.annotate(percentage, (x, y))\n",
    "\n",
    "plt.xlabel('Type 2 Diabetes', size = 14)\n",
    "plt.ylabel('Percentage of Patients', size = 14)\n",
    "plt.xticks(ticks = [0, 1], labels = ['No', 'Yes'], rotation = 0)\n",
    "plt.legend(labels = ['Survived', 'Died'])\n",
    "plt.title('Type 2 Diabetes vs Risk(1yr)', size = 16)\n",
    "plt.show()"
   ]
  },
  {
   "cell_type": "markdown",
   "metadata": {
    "id": "L5XQU5kyiPsB"
   },
   "source": [
    "**Observation:**\n",
    "\n",
    "- **Patients** who **didn't have any type 2 diabetes** and **survived** are **approx 6X more than** the **patients** who **didn't**.\n",
    "- **Patients** who **had type 2 diabetes** and **survived** are **approx 2.5X more than** the **patients** who **didn't**."
   ]
  },
  {
   "cell_type": "markdown",
   "metadata": {
    "id": "dsqEPlzOi6bS"
   },
   "source": [
    "**<h4>Question 10: What is the association of forced vital capacity at different age of the patients?</h4>**\n",
    "\n",
    "- **Forced Vital Capacity:** Maximum amount of air a person can expel from the lungs after a maximum inhalation."
   ]
  },
  {
   "cell_type": "code",
   "execution_count": null,
   "metadata": {
    "colab": {
     "base_uri": "https://localhost:8080/",
     "height": 475
    },
    "executionInfo": {
     "elapsed": 6,
     "status": "ok",
     "timestamp": 1669632139504,
     "user": {
      "displayName": "Yash Chauhan",
      "userId": "03194567605433747724"
     },
     "user_tz": -330
    },
    "id": "s4guX2CvmgtJ",
    "outputId": "aedb8a0a-ab08-483c-f054-b8105bb98493"
   },
   "outputs": [
    {
     "data": {
      "image/png": "[encoded data removed]",
      "text/plain": [
       "<Figure size 1080x504 with 1 Axes>"
      ]
     },
     "metadata": {
      "needs_background": "light"
     },
     "output_type": "display_data"
    }
   ],
   "source": [
    "figure = plt.figure(figsize = [15, 7])\n",
    "sns.scatterplot(x = 'AgeAtSurgery', y = 'ForcedVitalCapacity', data = data, palette = ['#F67088', '#38A7D0'])\n",
    "plt.xlabel('Age', size = 14)\n",
    "plt.ylabel('Forced Vital Capacity', size = 14)\n",
    "plt.title('Correlation of Forced Vital Capacity at Different Age', size = 16)\n",
    "plt.tight_layout(pad = 3.0)\n",
    "plt.show()"
   ]
  },
  {
   "cell_type": "markdown",
   "metadata": {
    "id": "qN4MqYbbn5yy"
   },
   "source": [
    "**Observation:**\n",
    "\n",
    "- There is **no trend betwen age and forced vital capacity**.\n",
    "- **Some patients** who have **age less than 70 have high forced vital capacity** than the patients above age 70."
   ]
  },
  {
   "cell_type": "markdown",
   "metadata": {
    "id": "9r8mQnepp8hO"
   },
   "source": [
    "<a id = Section7></a>\n",
    "\n",
    "---\n",
    "# **7. Post Data Processing & Feature Selection**\n",
    "---\n",
    "\n",
    "- In this part we will **perform encoding over categorical features** and **feed it** to the **Random Forest** because machines can't understand human language.\n",
    "- **Random Forest** will then **identify important features** for our model **using threshold** over the information gain over reduction in impurity.\n",
    "- And **finally** we will **split** our **data** for the **model development**."
   ]
  },
  {
   "cell_type": "markdown",
   "metadata": {
    "id": "wpKYKjluqC8L"
   },
   "source": [
    "<a id = Section71></a>\n",
    "### **7.1 Encoding Categorical Features**\n"
   ]
  },
  {
   "cell_type": "markdown",
   "metadata": {
    "id": "SHAownE8qaoc"
   },
   "source": [
    "**Before Transformation**"
   ]
  },
  {
   "cell_type": "code",
   "execution_count": null,
   "metadata": {
    "colab": {
     "base_uri": "https://localhost:8080/",
     "height": 145
    },
    "executionInfo": {
     "elapsed": 729,
     "status": "ok",
     "timestamp": 1669632143292,
     "user": {
      "displayName": "Yash Chauhan",
      "userId": "03194567605433747724"
     },
     "user_tz": -330
    },
    "id": "MVqlZoVN8uR8",
    "outputId": "a694e27c-e5bb-4f07-8bdd-7b8885bd4578"
   },
   "outputs": [
    {
     "data": {
      "text/html": [
       "\n",
       "  <div id=\"df-f57c6fc6-f1ba-43f5-92df-8269a5795fc8\">\n",
       "    <div class=\"colab-df-container\">\n",
       "      <div>\n",
       "<style scoped>\n",
       "    .dataframe tbody tr th:only-of-type {\n",
       "        vertical-align: middle;\n",
       "    }\n",
       "\n",
       "    .dataframe tbody tr th {\n",
       "        vertical-align: top;\n",
       "    }\n",
       "\n",
       "    .dataframe thead th {\n",
       "        text-align: right;\n",
       "    }\n",
       "</style>\n",
       "<table border=\"1\" class=\"dataframe\">\n",
       "  <thead>\n",
       "    <tr style=\"text-align: right;\">\n",
       "      <th></th>\n",
       "      <th>DiagnosisCode</th>\n",
       "      <th>ForcedVitalCapacity</th>\n",
       "      <th>ForcedExpirationVolume</th>\n",
       "      <th>ZubrodPerformanceStatus</th>\n",
       "      <th>PainBeforeSurgery</th>\n",
       "      <th>HaemoptysisBeforeSurgery</th>\n",
       "      <th>DyspnoeaBeforeSurgery</th>\n",
       "      <th>CoughBeforeSurgery</th>\n",
       "      <th>WeaknessBeforeSurgery</th>\n",
       "      <th>OriginalTumourSize</th>\n",
       "      <th>Type2Diabetes</th>\n",
       "      <th>MIUpto6</th>\n",
       "      <th>PeripheralArterialDiseases</th>\n",
       "      <th>Smoking</th>\n",
       "      <th>Asthma</th>\n",
       "      <th>AgeAtSurgery</th>\n",
       "      <th>Risk(1yr)</th>\n",
       "    </tr>\n",
       "  </thead>\n",
       "  <tbody>\n",
       "    <tr>\n",
       "      <th>Type</th>\n",
       "      <td>object</td>\n",
       "      <td>float64</td>\n",
       "      <td>float64</td>\n",
       "      <td>object</td>\n",
       "      <td>object</td>\n",
       "      <td>bool</td>\n",
       "      <td>bool</td>\n",
       "      <td>object</td>\n",
       "      <td>bool</td>\n",
       "      <td>object</td>\n",
       "      <td>bool</td>\n",
       "      <td>bool</td>\n",
       "      <td>bool</td>\n",
       "      <td>bool</td>\n",
       "      <td>bool</td>\n",
       "      <td>int64</td>\n",
       "      <td>bool</td>\n",
       "    </tr>\n",
       "  </tbody>\n",
       "</table>\n",
       "</div>\n",
       "      <button class=\"colab-df-convert\" onclick=\"convertToInteractive('df-f57c6fc6-f1ba-43f5-92df-8269a5795fc8')\"\n",
       "              title=\"Convert this dataframe to an interactive table.\"\n",
       "              style=\"display:none;\">\n",
       "        \n",
       "  <svg xmlns=\"http://www.w3.org/2000/svg\" height=\"24px\"viewBox=\"0 0 24 24\"\n",
       "       width=\"24px\">\n",
       "    <path d=\"M0 0h24v24H0V0z\" fill=\"none\"/>\n",
       "    <path d=\"M18.56 5.44l.94 2.06.94-2.06 2.06-.94-2.06-.94-.94-2.06-.94 2.06-2.06.94zm-11 1L8.5 8.5l.94-2.06 2.06-.94-2.06-.94L8.5 2.5l-.94 2.06-2.06.94zm10 10l.94 2.06.94-2.06 2.06-.94-2.06-.94-.94-2.06-.94 2.06-2.06.94z\"/><path d=\"M17.41 7.96l-1.37-1.37c-.4-.4-.92-.59-1.43-.59-.52 0-1.04.2-1.43.59L10.3 9.45l-7.72 7.72c-.78.78-.78 2.05 0 2.83L4 21.41c.39.39.9.59 1.41.59.51 0 1.02-.2 1.41-.59l7.78-7.78 2.81-2.81c.8-.78.8-2.07 0-2.86zM5.41 20L4 18.59l7.72-7.72 1.47 1.35L5.41 20z\"/>\n",
       "  </svg>\n",
       "      </button>\n",
       "      \n",
       "  <style>\n",
       "    .colab-df-container {\n",
       "      display:flex;\n",
       "      flex-wrap:wrap;\n",
       "      gap: 12px;\n",
       "    }\n",
       "\n",
       "    .colab-df-convert {\n",
       "      background-color: #E8F0FE;\n",
       "      border: none;\n",
       "      border-radius: 50%;\n",
       "      cursor: pointer;\n",
       "      display: none;\n",
       "      fill: #1967D2;\n",
       "      height: 32px;\n",
       "      padding: 0 0 0 0;\n",
       "      width: 32px;\n",
       "    }\n",
       "\n",
       "    .colab-df-convert:hover {\n",
       "      background-color: #E2EBFA;\n",
       "      box-shadow: 0px 1px 2px rgba(60, 64, 67, 0.3), 0px 1px 3px 1px rgba(60, 64, 67, 0.15);\n",
       "      fill: #174EA6;\n",
       "    }\n",
       "\n",
       "    [theme=dark] .colab-df-convert {\n",
       "      background-color: #3B4455;\n",
       "      fill: #D2E3FC;\n",
       "    }\n",
       "\n",
       "    [theme=dark] .colab-df-convert:hover {\n",
       "      background-color: #434B5C;\n",
       "      box-shadow: 0px 1px 3px 1px rgba(0, 0, 0, 0.15);\n",
       "      filter: drop-shadow(0px 1px 2px rgba(0, 0, 0, 0.3));\n",
       "      fill: #FFFFFF;\n",
       "    }\n",
       "  </style>\n",
       "\n",
       "      <script>\n",
       "        const buttonEl =\n",
       "          document.querySelector('#df-f57c6fc6-f1ba-43f5-92df-8269a5795fc8 button.colab-df-convert');\n",
       "        buttonEl.style.display =\n",
       "          google.colab.kernel.accessAllowed ? 'block' : 'none';\n",
       "\n",
       "        async function convertToInteractive(key) {\n",
       "          const element = document.querySelector('#df-f57c6fc6-f1ba-43f5-92df-8269a5795fc8');\n",
       "          const dataTable =\n",
       "            await google.colab.kernel.invokeFunction('convertToInteractive',\n",
       "                                                     [key], {});\n",
       "          if (!dataTable) return;\n",
       "\n",
       "          const docLinkHtml = 'Like what you see? Visit the ' +\n",
       "            '<a target=\"_blank\" href=https://colab.research.google.com/notebooks/data_table.ipynb>data table notebook</a>'\n",
       "            + ' to learn more about interactive tables.';\n",
       "          element.innerHTML = '';\n",
       "          dataTable['output_type'] = 'display_data';\n",
       "          await google.colab.output.renderOutput(dataTable, element);\n",
       "          const docLink = document.createElement('div');\n",
       "          docLink.innerHTML = docLinkHtml;\n",
       "          element.appendChild(docLink);\n",
       "        }\n",
       "      </script>\n",
       "    </div>\n",
       "  </div>\n",
       "  "
      ],
      "text/plain": [
       "     DiagnosisCode ForcedVitalCapacity ForcedExpirationVolume  \\\n",
       "Type        object             float64                float64   \n",
       "\n",
       "     ZubrodPerformanceStatus PainBeforeSurgery HaemoptysisBeforeSurgery  \\\n",
       "Type                  object            object                     bool   \n",
       "\n",
       "     DyspnoeaBeforeSurgery CoughBeforeSurgery WeaknessBeforeSurgery  \\\n",
       "Type                  bool             object                  bool   \n",
       "\n",
       "     OriginalTumourSize Type2Diabetes MIUpto6 PeripheralArterialDiseases  \\\n",
       "Type             object          bool    bool                       bool   \n",
       "\n",
       "     Smoking Asthma AgeAtSurgery Risk(1yr)  \n",
       "Type    bool   bool        int64      bool  "
      ]
     },
     "execution_count": 83,
     "metadata": {},
     "output_type": "execute_result"
    }
   ],
   "source": [
    "type_frame = pd.DataFrame(data = data.dtypes, columns = ['Type'])\n",
    "type_frame.transpose()"
   ]
  },
  {
   "cell_type": "markdown",
   "metadata": {
    "id": "6TNC2-IjKUQ4"
   },
   "source": [
    "**Observation**\n",
    "\n",
    "- **Feature:**\n",
    "  - Problem &rarr; Action Required {Reason}\n",
    "- **DiagnosisCode**:\n",
    "  - Object Data &rarr; Encoding {Machines cannot understand human language.}\n",
    "- **ZubrodPerformanceStatus**\n",
    "  - Object Data &rarr; Encoding {Machines cannot understand human language.}\n",
    "- **OriginalTumourSize**\n",
    "  - Object Data &rarr; Encoding {Machines cannot understand human language.}"
   ]
  },
  {
   "cell_type": "markdown",
   "metadata": {
    "id": "Fs7GxB5wqWp8"
   },
   "source": [
    "**Performing Operations:**"
   ]
  },
  {
   "cell_type": "code",
   "execution_count": null,
   "metadata": {
    "id": "1OrisrH7qWTU"
   },
   "outputs": [],
   "source": [
    "encoder = LabelEncoder()\n",
    "data['DiagnosisCode'] = encoder.fit_transform(data['DiagnosisCode'])\n",
    "data['ZubrodPerformanceStatus'] = encoder.fit_transform(data['ZubrodPerformanceStatus'])\n",
    "data['OriginalTumourSize'] = encoder.fit_transform(data['OriginalTumourSize'])"
   ]
  },
  {
   "cell_type": "markdown",
   "metadata": {
    "id": "bqhbTS0XqdXs"
   },
   "source": [
    "**After Transformation**"
   ]
  },
  {
   "cell_type": "code",
   "execution_count": null,
   "metadata": {
    "colab": {
     "base_uri": "https://localhost:8080/",
     "height": 288
    },
    "executionInfo": {
     "elapsed": 16,
     "status": "ok",
     "timestamp": 1669632149994,
     "user": {
      "displayName": "Yash Chauhan",
      "userId": "03194567605433747724"
     },
     "user_tz": -330
    },
    "id": "bcmenZRqqmpr",
    "outputId": "7eabbb0b-3ee5-4f79-b780-2d51a6143315"
   },
   "outputs": [
    {
     "name": "stdout",
     "output_type": "stream",
     "text": [
      "Data Shape: (461, 17)\n"
     ]
    },
    {
     "data": {
      "text/html": [
       "\n",
       "  <div id=\"df-a1670ad7-aad2-42e9-8927-6b22441dc42a\">\n",
       "    <div class=\"colab-df-container\">\n",
       "      <div>\n",
       "<style scoped>\n",
       "    .dataframe tbody tr th:only-of-type {\n",
       "        vertical-align: middle;\n",
       "    }\n",
       "\n",
       "    .dataframe tbody tr th {\n",
       "        vertical-align: top;\n",
       "    }\n",
       "\n",
       "    .dataframe thead th {\n",
       "        text-align: right;\n",
       "    }\n",
       "</style>\n",
       "<table border=\"1\" class=\"dataframe\">\n",
       "  <thead>\n",
       "    <tr style=\"text-align: right;\">\n",
       "      <th></th>\n",
       "      <th>DiagnosisCode</th>\n",
       "      <th>ForcedVitalCapacity</th>\n",
       "      <th>ForcedExpirationVolume</th>\n",
       "      <th>ZubrodPerformanceStatus</th>\n",
       "      <th>PainBeforeSurgery</th>\n",
       "      <th>HaemoptysisBeforeSurgery</th>\n",
       "      <th>DyspnoeaBeforeSurgery</th>\n",
       "      <th>CoughBeforeSurgery</th>\n",
       "      <th>WeaknessBeforeSurgery</th>\n",
       "      <th>OriginalTumourSize</th>\n",
       "      <th>Type2Diabetes</th>\n",
       "      <th>MIUpto6</th>\n",
       "      <th>PeripheralArterialDiseases</th>\n",
       "      <th>Smoking</th>\n",
       "      <th>Asthma</th>\n",
       "      <th>AgeAtSurgery</th>\n",
       "      <th>Risk(1yr)</th>\n",
       "    </tr>\n",
       "  </thead>\n",
       "  <tbody>\n",
       "    <tr>\n",
       "      <th>9</th>\n",
       "      <td>2</td>\n",
       "      <td>2.32</td>\n",
       "      <td>2.16</td>\n",
       "      <td>1</td>\n",
       "      <td>False</td>\n",
       "      <td>False</td>\n",
       "      <td>False</td>\n",
       "      <td>True</td>\n",
       "      <td>False</td>\n",
       "      <td>0</td>\n",
       "      <td>False</td>\n",
       "      <td>False</td>\n",
       "      <td>False</td>\n",
       "      <td>True</td>\n",
       "      <td>False</td>\n",
       "      <td>54</td>\n",
       "      <td>False</td>\n",
       "    </tr>\n",
       "    <tr>\n",
       "      <th>10</th>\n",
       "      <td>2</td>\n",
       "      <td>2.56</td>\n",
       "      <td>2.32</td>\n",
       "      <td>0</td>\n",
       "      <td>False</td>\n",
       "      <td>True</td>\n",
       "      <td>False</td>\n",
       "      <td>True</td>\n",
       "      <td>False</td>\n",
       "      <td>1</td>\n",
       "      <td>False</td>\n",
       "      <td>False</td>\n",
       "      <td>False</td>\n",
       "      <td>False</td>\n",
       "      <td>False</td>\n",
       "      <td>60</td>\n",
       "      <td>False</td>\n",
       "    </tr>\n",
       "    <tr>\n",
       "      <th>11</th>\n",
       "      <td>2</td>\n",
       "      <td>4.28</td>\n",
       "      <td>4.44</td>\n",
       "      <td>1</td>\n",
       "      <td>False</td>\n",
       "      <td>False</td>\n",
       "      <td>False</td>\n",
       "      <td>False</td>\n",
       "      <td>False</td>\n",
       "      <td>1</td>\n",
       "      <td>False</td>\n",
       "      <td>False</td>\n",
       "      <td>False</td>\n",
       "      <td>True</td>\n",
       "      <td>False</td>\n",
       "      <td>58</td>\n",
       "      <td>False</td>\n",
       "    </tr>\n",
       "    <tr>\n",
       "      <th>12</th>\n",
       "      <td>2</td>\n",
       "      <td>3.00</td>\n",
       "      <td>2.36</td>\n",
       "      <td>1</td>\n",
       "      <td>False</td>\n",
       "      <td>False</td>\n",
       "      <td>False</td>\n",
       "      <td>True</td>\n",
       "      <td>True</td>\n",
       "      <td>0</td>\n",
       "      <td>False</td>\n",
       "      <td>False</td>\n",
       "      <td>False</td>\n",
       "      <td>True</td>\n",
       "      <td>False</td>\n",
       "      <td>68</td>\n",
       "      <td>False</td>\n",
       "    </tr>\n",
       "    <tr>\n",
       "      <th>13</th>\n",
       "      <td>1</td>\n",
       "      <td>3.98</td>\n",
       "      <td>3.06</td>\n",
       "      <td>2</td>\n",
       "      <td>False</td>\n",
       "      <td>False</td>\n",
       "      <td>False</td>\n",
       "      <td>True</td>\n",
       "      <td>True</td>\n",
       "      <td>3</td>\n",
       "      <td>False</td>\n",
       "      <td>False</td>\n",
       "      <td>False</td>\n",
       "      <td>True</td>\n",
       "      <td>False</td>\n",
       "      <td>80</td>\n",
       "      <td>True</td>\n",
       "    </tr>\n",
       "  </tbody>\n",
       "</table>\n",
       "</div>\n",
       "      <button class=\"colab-df-convert\" onclick=\"convertToInteractive('df-a1670ad7-aad2-42e9-8927-6b22441dc42a')\"\n",
       "              title=\"Convert this dataframe to an interactive table.\"\n",
       "              style=\"display:none;\">\n",
       "        \n",
       "  <svg xmlns=\"http://www.w3.org/2000/svg\" height=\"24px\"viewBox=\"0 0 24 24\"\n",
       "       width=\"24px\">\n",
       "    <path d=\"M0 0h24v24H0V0z\" fill=\"none\"/>\n",
       "    <path d=\"M18.56 5.44l.94 2.06.94-2.06 2.06-.94-2.06-.94-.94-2.06-.94 2.06-2.06.94zm-11 1L8.5 8.5l.94-2.06 2.06-.94-2.06-.94L8.5 2.5l-.94 2.06-2.06.94zm10 10l.94 2.06.94-2.06 2.06-.94-2.06-.94-.94-2.06-.94 2.06-2.06.94z\"/><path d=\"M17.41 7.96l-1.37-1.37c-.4-.4-.92-.59-1.43-.59-.52 0-1.04.2-1.43.59L10.3 9.45l-7.72 7.72c-.78.78-.78 2.05 0 2.83L4 21.41c.39.39.9.59 1.41.59.51 0 1.02-.2 1.41-.59l7.78-7.78 2.81-2.81c.8-.78.8-2.07 0-2.86zM5.41 20L4 18.59l7.72-7.72 1.47 1.35L5.41 20z\"/>\n",
       "  </svg>\n",
       "      </button>\n",
       "      \n",
       "  <style>\n",
       "    .colab-df-container {\n",
       "      display:flex;\n",
       "      flex-wrap:wrap;\n",
       "      gap: 12px;\n",
       "    }\n",
       "\n",
       "    .colab-df-convert {\n",
       "      background-color: #E8F0FE;\n",
       "      border: none;\n",
       "      border-radius: 50%;\n",
       "      cursor: pointer;\n",
       "      display: none;\n",
       "      fill: #1967D2;\n",
       "      height: 32px;\n",
       "      padding: 0 0 0 0;\n",
       "      width: 32px;\n",
       "    }\n",
       "\n",
       "    .colab-df-convert:hover {\n",
       "      background-color: #E2EBFA;\n",
       "      box-shadow: 0px 1px 2px rgba(60, 64, 67, 0.3), 0px 1px 3px 1px rgba(60, 64, 67, 0.15);\n",
       "      fill: #174EA6;\n",
       "    }\n",
       "\n",
       "    [theme=dark] .colab-df-convert {\n",
       "      background-color: #3B4455;\n",
       "      fill: #D2E3FC;\n",
       "    }\n",
       "\n",
       "    [theme=dark] .colab-df-convert:hover {\n",
       "      background-color: #434B5C;\n",
       "      box-shadow: 0px 1px 3px 1px rgba(0, 0, 0, 0.15);\n",
       "      filter: drop-shadow(0px 1px 2px rgba(0, 0, 0, 0.3));\n",
       "      fill: #FFFFFF;\n",
       "    }\n",
       "  </style>\n",
       "\n",
       "      <script>\n",
       "        const buttonEl =\n",
       "          document.querySelector('#df-a1670ad7-aad2-42e9-8927-6b22441dc42a button.colab-df-convert');\n",
       "        buttonEl.style.display =\n",
       "          google.colab.kernel.accessAllowed ? 'block' : 'none';\n",
       "\n",
       "        async function convertToInteractive(key) {\n",
       "          const element = document.querySelector('#df-a1670ad7-aad2-42e9-8927-6b22441dc42a');\n",
       "          const dataTable =\n",
       "            await google.colab.kernel.invokeFunction('convertToInteractive',\n",
       "                                                     [key], {});\n",
       "          if (!dataTable) return;\n",
       "\n",
       "          const docLinkHtml = 'Like what you see? Visit the ' +\n",
       "            '<a target=\"_blank\" href=https://colab.research.google.com/notebooks/data_table.ipynb>data table notebook</a>'\n",
       "            + ' to learn more about interactive tables.';\n",
       "          element.innerHTML = '';\n",
       "          dataTable['output_type'] = 'display_data';\n",
       "          await google.colab.output.renderOutput(dataTable, element);\n",
       "          const docLink = document.createElement('div');\n",
       "          docLink.innerHTML = docLinkHtml;\n",
       "          element.appendChild(docLink);\n",
       "        }\n",
       "      </script>\n",
       "    </div>\n",
       "  </div>\n",
       "  "
      ],
      "text/plain": [
       "    DiagnosisCode  ForcedVitalCapacity  ForcedExpirationVolume  \\\n",
       "9               2                 2.32                    2.16   \n",
       "10              2                 2.56                    2.32   \n",
       "11              2                 4.28                    4.44   \n",
       "12              2                 3.00                    2.36   \n",
       "13              1                 3.98                    3.06   \n",
       "\n",
       "    ZubrodPerformanceStatus PainBeforeSurgery  HaemoptysisBeforeSurgery  \\\n",
       "9                         1             False                     False   \n",
       "10                        0             False                      True   \n",
       "11                        1             False                     False   \n",
       "12                        1             False                     False   \n",
       "13                        2             False                     False   \n",
       "\n",
       "    DyspnoeaBeforeSurgery CoughBeforeSurgery  WeaknessBeforeSurgery  \\\n",
       "9                   False               True                  False   \n",
       "10                  False               True                  False   \n",
       "11                  False              False                  False   \n",
       "12                  False               True                   True   \n",
       "13                  False               True                   True   \n",
       "\n",
       "    OriginalTumourSize  Type2Diabetes  MIUpto6  PeripheralArterialDiseases  \\\n",
       "9                    0          False    False                       False   \n",
       "10                   1          False    False                       False   \n",
       "11                   1          False    False                       False   \n",
       "12                   0          False    False                       False   \n",
       "13                   3          False    False                       False   \n",
       "\n",
       "    Smoking  Asthma  AgeAtSurgery  Risk(1yr)  \n",
       "9      True   False            54      False  \n",
       "10    False   False            60      False  \n",
       "11     True   False            58      False  \n",
       "12     True   False            68      False  \n",
       "13     True   False            80       True  "
      ]
     },
     "execution_count": 85,
     "metadata": {},
     "output_type": "execute_result"
    }
   ],
   "source": [
    "print('Data Shape:', data.shape)\n",
    "data.head(5)"
   ]
  },
  {
   "cell_type": "markdown",
   "metadata": {
    "id": "DEZaLvqNPbTo"
   },
   "source": [
    "**Observation:**\n",
    "\n",
    "- We have **successfully encoded our data** for furthere processing."
   ]
  },
  {
   "cell_type": "markdown",
   "metadata": {
    "id": "1FX4LUUcAHEP"
   },
   "source": [
    "<a id = Section72></a>\n",
    "### **7.2 Feature Scaling**\n",
    "\n",
    "- Remember we have a feature whose distribution is right skewed (ForcedExpirationVolume).\n",
    "- In this section we will study about that feature and perform operations."
   ]
  },
  {
   "cell_type": "code",
   "execution_count": null,
   "metadata": {
    "colab": {
     "base_uri": "https://localhost:8080/",
     "height": 279
    },
    "executionInfo": {
     "elapsed": 11321,
     "status": "ok",
     "timestamp": 1591010437725,
     "user": {
      "displayName": "Mukesh Kumar",
      "photoUrl": "https://lh3.googleusercontent.com/a-/AOh14GjlcDlZf8Lr8SWM0ugfq17HC9TF79sbME_lLaRW=s64",
      "userId": "12802686450045644565"
     },
     "user_tz": -330
    },
    "id": "bVsb6zXlAWJM",
    "outputId": "d93c21c1-6044-45c9-a58f-03f0869bdc2c"
   },
   "outputs": [
    {
     "data": {
      "image/png": "[encoded data removed]",
      "text/plain": [
       "<Figure size 432x288 with 1 Axes>"
      ]
     },
     "metadata": {
      "needs_background": "light",
      "tags": []
     },
     "output_type": "display_data"
    }
   ],
   "source": [
    "sns.distplot(a = data['ForcedExpirationVolume'])\n",
    "plt.show()"
   ]
  },
  {
   "cell_type": "markdown",
   "metadata": {
    "id": "eeinGVCyFbxZ"
   },
   "source": [
    "**Observation:**\n",
    "\n",
    "- As you can see there are **some values** that are **affecting** the **distribution** of the **ForcedExpirationVolume** **feature**.\n",
    "- We will **analyze** how many **values** are present there in **ForcedExpirationVolume** feature that is **affecting** the **distribution**."
   ]
  },
  {
   "cell_type": "code",
   "execution_count": null,
   "metadata": {
    "colab": {
     "base_uri": "https://localhost:8080/"
    },
    "executionInfo": {
     "elapsed": 374,
     "status": "ok",
     "timestamp": 1669632444748,
     "user": {
      "displayName": "Yash Chauhan",
      "userId": "03194567605433747724"
     },
     "user_tz": -330
    },
    "id": "FqbHde_c1o_V",
    "outputId": "150f0e93-9d89-4dcc-d5be-1e64a7eaaff8"
   },
   "outputs": [
    {
     "name": "stdout",
     "output_type": "stream",
     "text": [
      "Upper Limit for Outlier in 'ForcedExpirationVolume': 4.8\n"
     ]
    }
   ],
   "source": [
    "# Calculate IQR\n",
    "Q3 = np.quantile(data['ForcedExpirationVolume'], 0.75)\n",
    "Q1 = np.quantile(data['ForcedExpirationVolume'], 0.25)\n",
    "IQR = Q3 - Q1\n",
    "\n",
    "# Upper Outlier Limit\n",
    "upper_limit = Q3 + 1.5 * IQR\n",
    "print(\"Upper Limit for Outlier in 'ForcedExpirationVolume':\", round(upper_limit, 1))"
   ]
  },
  {
   "cell_type": "code",
   "execution_count": null,
   "metadata": {
    "colab": {
     "base_uri": "https://localhost:8080/"
    },
    "executionInfo": {
     "elapsed": 387,
     "status": "ok",
     "timestamp": 1669632366246,
     "user": {
      "displayName": "Yash Chauhan",
      "userId": "03194567605433747724"
     },
     "user_tz": -330
    },
    "id": "G-D7_BQJCCPz",
    "outputId": "31955d69-a41a-4097-bd28-e507d5a5233e"
   },
   "outputs": [
    {
     "name": "stdout",
     "output_type": "stream",
     "text": [
      "Total Outliers: 16\n",
      "Proportion of outlied values: 3.0 %\n"
     ]
    }
   ],
   "source": [
    "threshold = 5 # Choosing a threshold\n",
    "print('Total Outliers:', data[data['ForcedExpirationVolume'] > threshold].shape[0])\n",
    "prop = data[data['ForcedExpirationVolume'] > 5].shape[0] / data.shape[0]\n",
    "print('Proportion of outlied values:', np.round(prop, decimals = 2)*100, '%')"
   ]
  },
  {
   "cell_type": "markdown",
   "metadata": {
    "id": "kkkRLyzAGJ31"
   },
   "source": [
    "**Observation:**\n",
    "\n",
    "- We can see that there are **16** such **values** that are **affecting** the **distribution** of the feature.\n",
    "- We will **drop these points** as the **proportion** is **very less** i.e. 3%.\n",
    "- Then we will **normalize ForcedExpirationVolume, AgeAtSurgery** using **log transformation**.\n",
    "- After performing these operations will will analyze again."
   ]
  },
  {
   "cell_type": "code",
   "execution_count": null,
   "metadata": {
    "colab": {
     "base_uri": "https://localhost:8080/",
     "height": 279
    },
    "executionInfo": {
     "elapsed": 11209,
     "status": "ok",
     "timestamp": 1591010437728,
     "user": {
      "displayName": "Mukesh Kumar",
      "photoUrl": "https://lh3.googleusercontent.com/a-/AOh14GjlcDlZf8Lr8SWM0ugfq17HC9TF79sbME_lLaRW=s64",
      "userId": "12802686450045644565"
     },
     "user_tz": -330
    },
    "id": "TYT_UP6tI7fP",
    "outputId": "afa9ccd6-70df-4cbb-bbad-5353847eef8c"
   },
   "outputs": [
    {
     "data": {
      "image/png": "[encoded data removed]",
      "text/plain": [
       "<Figure size 432x288 with 1 Axes>"
      ]
     },
     "metadata": {
      "needs_background": "light",
      "tags": []
     },
     "output_type": "display_data"
    }
   ],
   "source": [
    "# Dropping 16 outlied values\n",
    "data = data[data['ForcedExpirationVolume'] <= 5]\n",
    "\n",
    "# Normalizing ForcedExpirationVolume\n",
    "data['ForcedExpirationVolume'] = np.log10(data['ForcedExpirationVolume'])\n",
    "\n",
    "# Analyzing feature again\n",
    "sns.distplot(a = data['ForcedExpirationVolume'])\n",
    "plt.show()"
   ]
  },
  {
   "cell_type": "markdown",
   "metadata": {
    "id": "jP-EZ3Voqx11"
   },
   "source": [
    "<a id = Section73></a>\n",
    "### **7.3 Feature Selection using Random Forest**\n",
    "\n",
    "- Now in **real world**, it is very **rare** that **all** the **features** are **important** while developing the model. \n",
    "- So **instead** we **analyze** the **impact** of **input over the target**, either done by performing **statistical** **tests**(Pearson, ANOVA, Chi-Square) or by using **Random Forest**.\n",
    "- This **interpretability** is **derived** from the **importance of each feature** on the tree decision **evaluated** on the **reduction** in **impurity**. \n",
    "- In other words, it is **easy to compute** how much **each feature is contributing** to the **decision**."
   ]
  },
  {
   "cell_type": "code",
   "execution_count": null,
   "metadata": {
    "id": "lJ0SLZqGqr9l"
   },
   "outputs": [],
   "source": [
    "X = data.drop('Risk(1yr)', axis = 1)\n",
    "y = data['Risk(1yr)']"
   ]
  },
  {
   "cell_type": "markdown",
   "metadata": {
    "id": "HpC2o-8Gq7Uc"
   },
   "source": [
    "**Extracting Important Feature**"
   ]
  },
  {
   "cell_type": "code",
   "execution_count": null,
   "metadata": {
    "colab": {
     "base_uri": "https://localhost:8080/",
     "height": 68
    },
    "executionInfo": {
     "elapsed": 13341,
     "status": "ok",
     "timestamp": 1591010439928,
     "user": {
      "displayName": "Mukesh Kumar",
      "photoUrl": "https://lh3.googleusercontent.com/a-/AOh14GjlcDlZf8Lr8SWM0ugfq17HC9TF79sbME_lLaRW=s64",
      "userId": "12802686450045644565"
     },
     "user_tz": -330
    },
    "id": "o6PBXh5lq4ar",
    "outputId": "18f8361a-ad3c-4245-c684-eebe0211980a"
   },
   "outputs": [
    {
     "name": "stdout",
     "output_type": "stream",
     "text": [
      "Total Features Selected are 5\n",
      "Threshold set by Model: 0.06\n",
      "Features: ['DiagnosisCode', 'ForcedVitalCapacity', 'ForcedExpirationVolume', 'OriginalTumourSize', 'AgeAtSurgery']\n"
     ]
    }
   ],
   "source": [
    "# Have some patience, may take some time :)\n",
    "selector = SelectFromModel(RandomForestClassifier(n_estimators = 100, random_state = 42, n_jobs = -1))\n",
    "selector.fit(X, y)\n",
    "\n",
    "# Extracting list of important features\n",
    "selected_feat = X.columns[(selector.get_support())].tolist()\n",
    "\n",
    "print('Total Features Selected are', len(selected_feat))\n",
    "\n",
    "# Estimated by taking mean(default) of feature importance\n",
    "print('Threshold set by Model:', np.round(selector.threshold_, decimals = 2))\n",
    "print('Features:', selected_feat)"
   ]
  },
  {
   "cell_type": "markdown",
   "metadata": {
    "id": "1Zj16aDb86mK"
   },
   "source": [
    "**Visualization of Important Features:**\n",
    "\n",
    "- Below features are plotted against their relative importance (in %age),  of each feature."
   ]
  },
  {
   "cell_type": "code",
   "execution_count": null,
   "metadata": {
    "colab": {
     "base_uri": "https://localhost:8080/",
     "height": 489
    },
    "executionInfo": {
     "elapsed": 13270,
     "status": "ok",
     "timestamp": 1591010439932,
     "user": {
      "displayName": "Mukesh Kumar",
      "photoUrl": "https://lh3.googleusercontent.com/a-/AOh14GjlcDlZf8Lr8SWM0ugfq17HC9TF79sbME_lLaRW=s64",
      "userId": "12802686450045644565"
     },
     "user_tz": -330
    },
    "id": "36VLJTsy9Bwk",
    "outputId": "6e34c5da-4e69-4159-9b84-5528596765cf"
   },
   "outputs": [
    {
     "data": {
      "image/png": "[encoded data removed]",
      "text/plain": [
       "<Figure size 1080x576 with 1 Axes>"
      ]
     },
     "metadata": {
      "needs_background": "light",
      "tags": []
     },
     "output_type": "display_data"
    }
   ],
   "source": [
    "# Have some patience, may take some time :)\n",
    "figure = plt.figure(figsize = [15, 8])\n",
    "\n",
    "# If you don't want relative importance, use relative = False in below method\n",
    "viz = FeatureImportances(selector.estimator, relative = False)\n",
    "viz.fit(X, y)\n",
    "\n",
    "plt.xlabel('Relative Importance', size = 14)\n",
    "plt.ylabel('Features', size = 14)\n",
    "plt.title(label = 'Feature Importances', size = 16)\n",
    "plt.show()"
   ]
  },
  {
   "cell_type": "markdown",
   "metadata": {
    "id": "0VMCXCd6PrKf"
   },
   "source": [
    "**Observation:**\n",
    "\n",
    "- We can see that **most of the features** are **showing importance except MIUpto6 and Asthma**.\n",
    "- We will **use all features except these two** in our model building."
   ]
  },
  {
   "cell_type": "markdown",
   "metadata": {
    "id": "DXzF7DAlyNf8"
   },
   "source": [
    "<a id = Section74></a>\n",
    "### **7.4 Data Preparation**\n",
    "\n"
   ]
  },
  {
   "cell_type": "code",
   "execution_count": null,
   "metadata": {
    "id": "Kv04HLZsRm2G"
   },
   "outputs": [],
   "source": [
    "X = X.drop(['MIUpto6', 'Asthma'], axis = 1)"
   ]
  },
  {
   "cell_type": "markdown",
   "metadata": {
    "id": "eiXdi_agS9wH"
   },
   "source": [
    "- Now we will **split** our **data** in **training** and **testing** part for further development."
   ]
  },
  {
   "cell_type": "code",
   "execution_count": null,
   "metadata": {
    "colab": {
     "base_uri": "https://localhost:8080/",
     "height": 51
    },
    "executionInfo": {
     "elapsed": 13197,
     "status": "ok",
     "timestamp": 1591010439935,
     "user": {
      "displayName": "Mukesh Kumar",
      "photoUrl": "https://lh3.googleusercontent.com/a-/AOh14GjlcDlZf8Lr8SWM0ugfq17HC9TF79sbME_lLaRW=s64",
      "userId": "12802686450045644565"
     },
     "user_tz": -330
    },
    "id": "InldtZ4ByPPY",
    "outputId": "af65a5af-7671-42ff-fba8-5bc8b779f52e"
   },
   "outputs": [
    {
     "name": "stdout",
     "output_type": "stream",
     "text": [
      "Training Data Shape: (408, 14) (408,)\n",
      "Testing Data Shape: (46, 14) (46,)\n"
     ]
    }
   ],
   "source": [
    "X_train, X_test, y_train, y_test = train_test_split(X, y, test_size = 0.1, random_state = 42, stratify = y)\n",
    "\n",
    "print('Training Data Shape:', X_train.shape, y_train.shape)\n",
    "print('Testing Data Shape:', X_test.shape, y_test.shape)"
   ]
  },
  {
   "cell_type": "markdown",
   "metadata": {
    "id": "WmahPxIIyULb"
   },
   "source": [
    "<a id = Section8></a>\n",
    "\n",
    "---\n",
    "# **8. Model Development & Evaluation**\n",
    "---\n",
    "\n",
    "- In this section we will **develop different models using only important features** as marked important by Random Forest.\n",
    "- Then we will **compare the results** obtained from them and make our observation.\n",
    "- For **evaluation purpose** we will plot **precision and recall** for **each** **estimator** for which have **made** a **custom function below**.\n",
    "- **At the end** we will **tune** our **models if required**.\n",
    "\n",
    "**Note:**\n",
    "\n",
    "- As our **data is highly imbalanced**, a **common approach** of **discarding** the **minority class** data would be good **but** along with that our potential **information will** also get **lost**. \n",
    "\n",
    "- An **alternative** would be **oversampling the minority class** using SMOTE (**Synthetic Minority Oversampling Technique**) present in python library known as **imbalanced-learn**. "
   ]
  },
  {
   "cell_type": "markdown",
   "metadata": {
    "id": "uTlEb5D2RidK"
   },
   "source": [
    "<a id = Section81></a>\n",
    "## **8.1 Baseline Models**"
   ]
  },
  {
   "cell_type": "markdown",
   "metadata": {
    "id": "qYc2pWcD9rPZ"
   },
   "source": [
    "<a id = Section811></a>\n",
    "### **8.1.1 Logistic Regression**"
   ]
  },
  {
   "cell_type": "code",
   "execution_count": null,
   "metadata": {
    "id": "Btxvfn4qyZRT"
   },
   "outputs": [],
   "source": [
    "log  = LogisticRegression(random_state = 42)\n",
    "log.fit(X_train, y_train)\n",
    "\n",
    "y_train_pred_count = log.predict(X_train)\n",
    "y_test_pred_count = log.predict(X_test)\n",
    "\n",
    "y_train_pred_proba = log.predict_proba(X_train)\n",
    "y_test_pred_proba = log.predict_proba(X_test)"
   ]
  },
  {
   "cell_type": "code",
   "execution_count": null,
   "metadata": {
    "colab": {
     "base_uri": "https://localhost:8080/",
     "height": 357
    },
    "executionInfo": {
     "elapsed": 13097,
     "status": "ok",
     "timestamp": 1591010439938,
     "user": {
      "displayName": "Mukesh Kumar",
      "photoUrl": "https://lh3.googleusercontent.com/a-/AOh14GjlcDlZf8Lr8SWM0ugfq17HC9TF79sbME_lLaRW=s64",
      "userId": "12802686450045644565"
     },
     "user_tz": -330
    },
    "id": "c_tmw9MK9uqY",
    "outputId": "b9c2e10f-df03-4ddf-dc19-b79e53eb47e0"
   },
   "outputs": [
    {
     "name": "stdout",
     "output_type": "stream",
     "text": [
      "                    Training Report          \n",
      "              precision    recall  f1-score   support\n",
      "\n",
      "       False       0.85      1.00      0.92       346\n",
      "        True       0.67      0.03      0.06        62\n",
      "\n",
      "    accuracy                           0.85       408\n",
      "   macro avg       0.76      0.51      0.49       408\n",
      "weighted avg       0.82      0.85      0.79       408\n",
      "\n",
      "                    Testing Report           \n",
      "              precision    recall  f1-score   support\n",
      "\n",
      "       False       0.85      1.00      0.92        39\n",
      "        True       0.00      0.00      0.00         7\n",
      "\n",
      "    accuracy                           0.85        46\n",
      "   macro avg       0.42      0.50      0.46        46\n",
      "weighted avg       0.72      0.85      0.78        46\n",
      "\n"
     ]
    }
   ],
   "source": [
    "logistic_report_train = classification_report(y_train, y_train_pred_count)\n",
    "logistic_report_test = classification_report(y_test, y_test_pred_count)\n",
    "print('                    Training Report          ')\n",
    "print(logistic_report_train)\n",
    "print('                    Testing Report           ')\n",
    "print(logistic_report_test)"
   ]
  },
  {
   "cell_type": "markdown",
   "metadata": {
    "id": "L5GkpOrm65vn"
   },
   "source": [
    "**Observation:**\n",
    "\n",
    "- **Accuracy** for **training data** is **equal compared** to **testing data**.\n",
    "- **Precision, Recall and f1-score** is **same** for **negative class** in both **training data and testing data**. But it is **not same for positive class**."
   ]
  },
  {
   "cell_type": "markdown",
   "metadata": {
    "id": "2v-Vtls0WEeB"
   },
   "source": [
    "<a id = Section812></a>\n",
    "### **8.1.2 Random Forest Classifier**"
   ]
  },
  {
   "cell_type": "code",
   "execution_count": null,
   "metadata": {
    "id": "HC_dOXZ0WGsc"
   },
   "outputs": [],
   "source": [
    "rfc = RandomForestClassifier(random_state = 42)\n",
    "rfc.fit(X_train, y_train)\n",
    "\n",
    "y_train_pred_count = rfc.predict(X_train)\n",
    "y_test_pred_count = rfc.predict(X_test)\n",
    "\n",
    "y_train_pred_proba = rfc.predict_proba(X_train)\n",
    "y_test_pred_proba = rfc.predict_proba(X_test)"
   ]
  },
  {
   "cell_type": "code",
   "execution_count": null,
   "metadata": {
    "colab": {
     "base_uri": "https://localhost:8080/",
     "height": 357
    },
    "executionInfo": {
     "elapsed": 13008,
     "status": "ok",
     "timestamp": 1591010439942,
     "user": {
      "displayName": "Mukesh Kumar",
      "photoUrl": "https://lh3.googleusercontent.com/a-/AOh14GjlcDlZf8Lr8SWM0ugfq17HC9TF79sbME_lLaRW=s64",
      "userId": "12802686450045644565"
     },
     "user_tz": -330
    },
    "id": "P-t6HIYdWQbs",
    "outputId": "5c8a78ff-c517-4223-8ce1-e9844b5e6b8a"
   },
   "outputs": [
    {
     "name": "stdout",
     "output_type": "stream",
     "text": [
      "                    Training Report          \n",
      "              precision    recall  f1-score   support\n",
      "\n",
      "       False       1.00      1.00      1.00       346\n",
      "        True       1.00      1.00      1.00        62\n",
      "\n",
      "    accuracy                           1.00       408\n",
      "   macro avg       1.00      1.00      1.00       408\n",
      "weighted avg       1.00      1.00      1.00       408\n",
      "\n",
      "                    Testing Report           \n",
      "              precision    recall  f1-score   support\n",
      "\n",
      "       False       0.85      1.00      0.92        39\n",
      "        True       0.00      0.00      0.00         7\n",
      "\n",
      "    accuracy                           0.85        46\n",
      "   macro avg       0.42      0.50      0.46        46\n",
      "weighted avg       0.72      0.85      0.78        46\n",
      "\n"
     ]
    }
   ],
   "source": [
    "rfc_report_train = classification_report(y_train, y_train_pred_count)\n",
    "rfc_report_test = classification_report(y_test, y_test_pred_count)\n",
    "print('                    Training Report          ')\n",
    "print(rfc_report_train)\n",
    "print('                    Testing Report           ')\n",
    "print(rfc_report_test)"
   ]
  },
  {
   "cell_type": "markdown",
   "metadata": {
    "id": "_WtpaZdhS9uP"
   },
   "source": [
    "**Observation:**\n",
    "\n",
    "- **Accuracy, Precision, Recall & f1-score** for **training data is high** as **compared to testing data** which is a **sign of overfitting**.\n",
    "- The **Precision, Recall & f1-score for postive class is zero** for **positive class**. It is **due to** the **class imbalance problem**.\n",
    "- To **overcome** this, **we will implement SMOTE in next section**."
   ]
  },
  {
   "cell_type": "markdown",
   "metadata": {
    "id": "6qZ-wSZnS_Jw"
   },
   "source": [
    "<a id = Section82></a>\n",
    "## **8.2 Oversampling Models**"
   ]
  },
  {
   "cell_type": "markdown",
   "metadata": {
    "id": "C7_psj54TH0I"
   },
   "source": [
    "#### **SMOTE Technique & its Implementation**\n",
    "\n",
    "- SMOTE refers to **Synthetic Minority Oversampling Technique**.\n",
    "- It **aims** to **balance class distribution** by **randomly** **increasing minority class** examples **by replicating** them. \n",
    "- It **synthesises** **new minority instances** **between** **existing** minority **instances**. \n",
    "- **It generates the virtual training records by linear interpolation for the minority class.** "
   ]
  },
  {
   "cell_type": "markdown",
   "metadata": {
    "id": "yf0TfGcITL_O"
   },
   "source": [
    "**Before Implimenting SMOTE**"
   ]
  },
  {
   "cell_type": "code",
   "execution_count": null,
   "metadata": {
    "colab": {
     "base_uri": "https://localhost:8080/"
    },
    "executionInfo": {
     "elapsed": 15132,
     "status": "ok",
     "timestamp": 1591010442148,
     "user": {
      "displayName": "Mukesh Kumar",
      "photoUrl": "https://lh3.googleusercontent.com/a-/AOh14GjlcDlZf8Lr8SWM0ugfq17HC9TF79sbME_lLaRW=s64",
      "userId": "12802686450045644565"
     },
     "user_tz": -330
    },
    "id": "220IFknmTLvW",
    "outputId": "c37a0208-e592-4218-cb38-668658ad7bf9"
   },
   "outputs": [
    {
     "name": "stdout",
     "output_type": "stream",
     "text": [
      "Training Data Shape: (408, 14) (408,)\n",
      "Testing Data Shape: (46, 14) (46,)\n"
     ]
    }
   ],
   "source": [
    "print('Training Data Shape:', X_train.shape, y_train.shape)\n",
    "print('Testing Data Shape:', X_test.shape, y_test.shape)"
   ]
  },
  {
   "cell_type": "markdown",
   "metadata": {
    "id": "egaQz0YoTOiJ"
   },
   "source": [
    "**Performing SMOTE Operation**"
   ]
  },
  {
   "cell_type": "code",
   "execution_count": null,
   "metadata": {
    "id": "0GR_tmU5TRCp"
   },
   "outputs": [],
   "source": [
    "# Have some patience, may take some time\n",
    "\n",
    "sm = SMOTE(random_state = 42, ratio = 1)\n",
    "X1, y1 = sm.fit_sample(X, y)\n",
    "\n",
    "X_new = pd.DataFrame(data = X1, columns = X.columns)\n",
    "\n",
    "X_train, X_test, y_train, y_test = train_test_split(X_new, y1, test_size = 0.2, random_state = 42, stratify = y1)"
   ]
  },
  {
   "cell_type": "markdown",
   "metadata": {
    "id": "NFvhFP0uThpq"
   },
   "source": [
    "**After Implimenting SMOTE**"
   ]
  },
  {
   "cell_type": "code",
   "execution_count": null,
   "metadata": {
    "colab": {
     "base_uri": "https://localhost:8080/"
    },
    "executionInfo": {
     "elapsed": 15069,
     "status": "ok",
     "timestamp": 1591010442150,
     "user": {
      "displayName": "Mukesh Kumar",
      "photoUrl": "https://lh3.googleusercontent.com/a-/AOh14GjlcDlZf8Lr8SWM0ugfq17HC9TF79sbME_lLaRW=s64",
      "userId": "12802686450045644565"
     },
     "user_tz": -330
    },
    "id": "hrfdpGDxTZbi",
    "outputId": "19545d4b-d39d-4175-a054-672891e33177"
   },
   "outputs": [
    {
     "name": "stdout",
     "output_type": "stream",
     "text": [
      "Training Data Shape: (616, 14) (616,)\n",
      "Testing Data Shape: (154, 14) (154,)\n"
     ]
    }
   ],
   "source": [
    "print('Training Data Shape:', X_train.shape, y_train.shape)\n",
    "print('Testing Data Shape:', X_test.shape, y_test.shape)"
   ]
  },
  {
   "cell_type": "markdown",
   "metadata": {
    "id": "6ti_84f2VvsC"
   },
   "source": [
    "<a id = Section821></a>\n",
    "### **8.2.1 Random Forest Classifier**"
   ]
  },
  {
   "cell_type": "code",
   "execution_count": null,
   "metadata": {
    "id": "sn9T-hVXWm71"
   },
   "outputs": [],
   "source": [
    "rfc = RandomForestClassifier(random_state = 42)\n",
    "rfc.fit(X_train, y_train)\n",
    "\n",
    "y_train_pred_count = rfc.predict(X_train)\n",
    "y_test_pred_count = rfc.predict(X_test)\n",
    "\n",
    "y_train_pred_proba = rfc.predict_proba(X_train)\n",
    "y_test_pred_proba = rfc.predict_proba(X_test)\n"
   ]
  },
  {
   "cell_type": "code",
   "execution_count": null,
   "metadata": {
    "colab": {
     "base_uri": "https://localhost:8080/",
     "height": 357
    },
    "executionInfo": {
     "elapsed": 17157,
     "status": "ok",
     "timestamp": 1591010444470,
     "user": {
      "displayName": "Mukesh Kumar",
      "photoUrl": "https://lh3.googleusercontent.com/a-/AOh14GjlcDlZf8Lr8SWM0ugfq17HC9TF79sbME_lLaRW=s64",
      "userId": "12802686450045644565"
     },
     "user_tz": -330
    },
    "id": "KB2OXClvWm75",
    "outputId": "62fce508-6edb-4de5-e341-ff65c4d731f3"
   },
   "outputs": [
    {
     "name": "stdout",
     "output_type": "stream",
     "text": [
      "                    Training Report          \n",
      "              precision    recall  f1-score   support\n",
      "\n",
      "       False       1.00      1.00      1.00       308\n",
      "        True       1.00      1.00      1.00       308\n",
      "\n",
      "    accuracy                           1.00       616\n",
      "   macro avg       1.00      1.00      1.00       616\n",
      "weighted avg       1.00      1.00      1.00       616\n",
      "\n",
      "                    Testing Report           \n",
      "              precision    recall  f1-score   support\n",
      "\n",
      "       False       0.90      0.95      0.92        77\n",
      "        True       0.95      0.90      0.92        77\n",
      "\n",
      "    accuracy                           0.92       154\n",
      "   macro avg       0.92      0.92      0.92       154\n",
      "weighted avg       0.92      0.92      0.92       154\n",
      "\n"
     ]
    }
   ],
   "source": [
    "rfc_report_train = classification_report(y_train, y_train_pred_count)\n",
    "rfc_report_test = classification_report(y_test, y_test_pred_count)\n",
    "print('                    Training Report          ')\n",
    "print(rfc_report_train)\n",
    "print('                    Testing Report           ')\n",
    "print(rfc_report_test)"
   ]
  },
  {
   "cell_type": "markdown",
   "metadata": {
    "id": "qohUBNgLAxrI"
   },
   "source": [
    "**Observation:**\n",
    "\n",
    "- **Accuracy** for **training data is high** as **compared to testing data** and **much better than previous models**.\n",
    "- **Similar is the case with Precision and recall** for training data and testing data.\n",
    "- But we can see **overfitting**. We want **generalize results** i.e. same results on test data as that of training data.\n",
    "- In the **next section** we will **tune this model** because it outperformed Logisitic Regression."
   ]
  },
  {
   "cell_type": "markdown",
   "metadata": {
    "id": "q-LTnh9Z-8Cg"
   },
   "source": [
    "<a id = Section83></a>\n",
    "## **8.3 Fine Tuning of Model**\n",
    "\n",
    "- In previous section we saw **Random Forest working better than rest of the models**. So we **will** **focus** on **fine tuning of Random Forest** in this section.\n",
    "- **Tuning** the model **takes** **extensive work**, so we will be **working** out **with few parameters instead** of **large combinations**.\n",
    "- Now that we know that **Random Forest performed better** **than any other model**, we **will fine tune** it.\n",
    "- For that we will **implement Grid Search CV** to **find optimal setting** for the model.\n",
    "- **Note:** **We want generalize results** i.e. approx. same precision and recall on test data as that of train data."
   ]
  },
  {
   "cell_type": "code",
   "execution_count": null,
   "metadata": {
    "id": "OTYCWlM7-7pS"
   },
   "outputs": [],
   "source": [
    "parameter_grid = [{'n_estimators':[100, 200, 300, 400, 500], \n",
    "                   'criterion':['gini', 'entropy'], \n",
    "                   'max_depth' : [x for x in range(2, 12)], \n",
    "                   'bootstrap':[True, False]}]"
   ]
  },
  {
   "cell_type": "code",
   "execution_count": null,
   "metadata": {
    "id": "N-jenm2u82N_"
   },
   "outputs": [],
   "source": [
    "# Have some patience, may take some time :)\n",
    "rfc = RandomForestClassifier(random_state = 42)\n",
    "grid_search = GridSearchCV(estimator = rfc, param_grid = parameter_grid, scoring = 'f1', n_jobs = -1, cv = 10, return_train_score = True)\n",
    "grid_search.fit(X_train, y_train)"
   ]
  },
  {
   "cell_type": "code",
   "execution_count": null,
   "metadata": {
    "colab": {
     "base_uri": "https://localhost:8080/",
     "height": 153
    },
    "executionInfo": {
     "elapsed": 859805,
     "status": "ok",
     "timestamp": 1591011287214,
     "user": {
      "displayName": "Mukesh Kumar",
      "photoUrl": "https://lh3.googleusercontent.com/a-/AOh14GjlcDlZf8Lr8SWM0ugfq17HC9TF79sbME_lLaRW=s64",
      "userId": "12802686450045644565"
     },
     "user_tz": -330
    },
    "id": "oTQ96bZa-_hJ",
    "outputId": "42241b55-127e-4ee3-935f-ea390db5d12c"
   },
   "outputs": [
    {
     "data": {
      "text/plain": [
       "RandomForestClassifier(bootstrap=True, ccp_alpha=0.0, class_weight=None,\n",
       "                       criterion='gini', max_depth=11, max_features='auto',\n",
       "                       max_leaf_nodes=None, max_samples=None,\n",
       "                       min_impurity_decrease=0.0, min_impurity_split=None,\n",
       "                       min_samples_leaf=1, min_samples_split=2,\n",
       "                       min_weight_fraction_leaf=0.0, n_estimators=300,\n",
       "                       n_jobs=None, oob_score=False, random_state=42, verbose=0,\n",
       "                       warm_start=False)"
      ]
     },
     "execution_count": 287,
     "metadata": {
      "tags": []
     },
     "output_type": "execute_result"
    }
   ],
   "source": [
    "grid_search.best_estimator_"
   ]
  },
  {
   "cell_type": "code",
   "execution_count": null,
   "metadata": {
    "colab": {
     "base_uri": "https://localhost:8080/",
     "height": 34
    },
    "executionInfo": {
     "elapsed": 859778,
     "status": "ok",
     "timestamp": 1591011287219,
     "user": {
      "displayName": "Mukesh Kumar",
      "photoUrl": "https://lh3.googleusercontent.com/a-/AOh14GjlcDlZf8Lr8SWM0ugfq17HC9TF79sbME_lLaRW=s64",
      "userId": "12802686450045644565"
     },
     "user_tz": -330
    },
    "id": "IZA0UHt4_D2d",
    "outputId": "0dd14606-6432-400a-c4ab-bf86a4d37e7e"
   },
   "outputs": [
    {
     "data": {
      "text/plain": [
       "{'bootstrap': True, 'criterion': 'gini', 'max_depth': 11, 'n_estimators': 300}"
      ]
     },
     "execution_count": 288,
     "metadata": {
      "tags": []
     },
     "output_type": "execute_result"
    }
   ],
   "source": [
    "grid_search.best_params_"
   ]
  },
  {
   "cell_type": "markdown",
   "metadata": {
    "id": "vmXXzDYD_HAe"
   },
   "source": [
    "<a id = Section84></a>\n",
    "## **8.4 Final Model**"
   ]
  },
  {
   "cell_type": "code",
   "execution_count": null,
   "metadata": {
    "id": "E-6FDRyI_E6x"
   },
   "outputs": [],
   "source": [
    "rfc = grid_search.best_estimator_\n",
    "rfc.fit(X_train, y_train)\n",
    "\n",
    "y_train_pred_count = rfc.predict(X_train)\n",
    "y_test_pred_count = rfc.predict(X_test)\n",
    "\n",
    "y_train_pred_proba = rfc.predict_proba(X_train)\n",
    "y_test_pred_proba = rfc.predict_proba(X_test)\n"
   ]
  },
  {
   "cell_type": "code",
   "execution_count": null,
   "metadata": {
    "colab": {
     "base_uri": "https://localhost:8080/",
     "height": 357
    },
    "executionInfo": {
     "elapsed": 860742,
     "status": "ok",
     "timestamp": 1591011288267,
     "user": {
      "displayName": "Mukesh Kumar",
      "photoUrl": "https://lh3.googleusercontent.com/a-/AOh14GjlcDlZf8Lr8SWM0ugfq17HC9TF79sbME_lLaRW=s64",
      "userId": "12802686450045644565"
     },
     "user_tz": -330
    },
    "id": "SUqX8hoC_KTS",
    "outputId": "9825d605-7fc8-4720-de6a-6ef1e8136814"
   },
   "outputs": [
    {
     "name": "stdout",
     "output_type": "stream",
     "text": [
      "                    Training Report          \n",
      "              precision    recall  f1-score   support\n",
      "\n",
      "       False       0.99      0.99      0.99       308\n",
      "        True       0.99      0.99      0.99       308\n",
      "\n",
      "    accuracy                           0.99       616\n",
      "   macro avg       0.99      0.99      0.99       616\n",
      "weighted avg       0.99      0.99      0.99       616\n",
      "\n",
      "                    Testing Report           \n",
      "              precision    recall  f1-score   support\n",
      "\n",
      "       False       0.94      0.94      0.94        77\n",
      "        True       0.94      0.94      0.94        77\n",
      "\n",
      "    accuracy                           0.94       154\n",
      "   macro avg       0.94      0.94      0.94       154\n",
      "weighted avg       0.94      0.94      0.94       154\n",
      "\n"
     ]
    }
   ],
   "source": [
    "rfc_report_train = classification_report(y_train, y_train_pred_count)\n",
    "rfc_report_test = classification_report(y_test, y_test_pred_count)\n",
    "print('                    Training Report          ')\n",
    "print(rfc_report_train)\n",
    "print('                    Testing Report           ')\n",
    "print(rfc_report_test)"
   ]
  },
  {
   "cell_type": "markdown",
   "metadata": {
    "id": "X2a2jYQYBQAP"
   },
   "source": [
    "**Observation:**\n",
    "\n",
    "- The **accuracy** of **training data** has **reduced** while for **testing data** it has **improved**.\n",
    "- The **precision, recall and f1-score** for **training data and testing data** has **reached balanced** state."
   ]
  },
  {
   "cell_type": "markdown",
   "metadata": {
    "id": "SDFjHI8f_f6y"
   },
   "source": [
    "<a id = Section9></a>\n",
    "\n",
    "---\n",
    "# **9. Conclusion**\n",
    "---"
   ]
  },
  {
   "cell_type": "markdown",
   "metadata": {
    "id": "fe4iBv8R_g0M"
   },
   "source": [
    "- We **studied in depth about the data**, its **characteristics** and its **distribution**.\n",
    "\n",
    "- We **explored various questions** **related** to the **health** of the patients and their **survival**.\n",
    "\n",
    "- We **investigated in depth about the features** which to **retain** and which to **discard** (MIUpto6 and Asthma).\n",
    "\n",
    "- Indeed we **peformed feature selection using Random Forest** because it is fast, accurate and reliable.\n",
    "  \n",
    "- We **performed model development** using **Logistic Regression and Random Forest**.\n",
    "\n",
    "- Then at **final stage Random Forest outperformed the logisitc model** because of **low error**.\n",
    "\n",
    "- Later **after tuning with some parameter combinations we finalized Random Forest** as our final model.\n",
    "\n",
    "- Now this **model** will **help** us in **saving** not only a lot of **resources** (money, human resources etc.) but also help us in **abstaining** the **delay** in **identification** of **survival** of the patients."
   ]
  }
 ],
 "metadata": {
  "colab": {
   "provenance": []
  },
  "kernelspec": {
   "display_name": "Python 3 (ipykernel)",
   "language": "python",
   "name": "python3"
  },
  "language_info": {
   "codemirror_mode": {
    "name": "ipython",
    "version": 3
   },
   "file_extension": ".py",
   "mimetype": "text/x-python",
   "name": "python",
   "nbconvert_exporter": "python",
   "pygments_lexer": "ipython3",
   "version": "3.10.9"
  },
  "widgets": {
   "application/vnd.jupyter.widget-state+json": {
    "003b69590f924aba8889ee68b0ad2ce3": {
     "model_module": "@jupyter-widgets/base",
     "model_module_version": "1.2.0",
     "model_name": "LayoutModel",
     "state": {
      "_model_module": "@jupyter-widgets/base",
      "_model_module_version": "1.2.0",
      "_model_name": "LayoutModel",
      "_view_count": null,
      "_view_module": "@jupyter-widgets/base",
      "_view_module_version": "1.2.0",
      "_view_name": "LayoutView",
      "align_content": null,
      "align_items": null,
      "align_self": null,
      "border": null,
      "bottom": null,
      "display": null,
      "flex": null,
      "flex_flow": null,
      "grid_area": null,
      "grid_auto_columns": null,
      "grid_auto_flow": null,
      "grid_auto_rows": null,
      "grid_column": null,
      "grid_gap": null,
      "grid_row": null,
      "grid_template_areas": null,
      "grid_template_columns": null,
      "grid_template_rows": null,
      "height": null,
      "justify_content": null,
      "justify_items": null,
      "left": null,
      "margin": null,
      "max_height": null,
      "max_width": null,
      "min_height": null,
      "min_width": null,
      "object_fit": null,
      "object_position": null,
      "order": null,
      "overflow": null,
      "overflow_x": null,
      "overflow_y": null,
      "padding": null,
      "right": null,
      "top": null,
      "visibility": null,
      "width": null
     }
    },
    "01d7df987fcb42dc89c7c9d702e1040b": {
     "model_module": "@jupyter-widgets/base",
     "model_module_version": "1.2.0",
     "model_name": "LayoutModel",
     "state": {
      "_model_module": "@jupyter-widgets/base",
      "_model_module_version": "1.2.0",
      "_model_name": "LayoutModel",
      "_view_count": null,
      "_view_module": "@jupyter-widgets/base",
      "_view_module_version": "1.2.0",
      "_view_name": "LayoutView",
      "align_content": null,
      "align_items": null,
      "align_self": null,
      "border": null,
      "bottom": null,
      "display": null,
      "flex": null,
      "flex_flow": null,
      "grid_area": null,
      "grid_auto_columns": null,
      "grid_auto_flow": null,
      "grid_auto_rows": null,
      "grid_column": null,
      "grid_gap": null,
      "grid_row": null,
      "grid_template_areas": null,
      "grid_template_columns": null,
      "grid_template_rows": null,
      "height": null,
      "justify_content": null,
      "justify_items": null,
      "left": null,
      "margin": null,
      "max_height": null,
      "max_width": null,
      "min_height": null,
      "min_width": null,
      "object_fit": null,
      "object_position": null,
      "order": null,
      "overflow": null,
      "overflow_x": null,
      "overflow_y": null,
      "padding": null,
      "right": null,
      "top": null,
      "visibility": null,
      "width": null
     }
    },
    "061ab25014e04cadb47604123f3f9244": {
     "model_module": "@jupyter-widgets/controls",
     "model_module_version": "1.5.0",
     "model_name": "HTMLModel",
     "state": {
      "_dom_classes": [],
      "_model_module": "@jupyter-widgets/controls",
      "_model_module_version": "1.5.0",
      "_model_name": "HTMLModel",
      "_view_count": null,
      "_view_module": "@jupyter-widgets/controls",
      "_view_module_version": "1.5.0",
      "_view_name": "HTMLView",
      "description": "",
      "description_tooltip": null,
      "layout": "IPY_MODEL_c8e80cdbe2844b019cd581adaab14d5e",
      "placeholder": "​",
      "style": "IPY_MODEL_2adbba9512484a7d9687a7167c3dcaed",
      "value": " 1/1 [00:05&lt;00:00,  5.55s/it]"
     }
    },
    "072ba8d435924e4a835e4bc2ea15d37f": {
     "model_module": "@jupyter-widgets/controls",
     "model_module_version": "1.5.0",
     "model_name": "FloatProgressModel",
     "state": {
      "_dom_classes": [],
      "_model_module": "@jupyter-widgets/controls",
      "_model_module_version": "1.5.0",
      "_model_name": "FloatProgressModel",
      "_view_count": null,
      "_view_module": "@jupyter-widgets/controls",
      "_view_module_version": "1.5.0",
      "_view_name": "ProgressView",
      "bar_style": "success",
      "description": "",
      "description_tooltip": null,
      "layout": "IPY_MODEL_2c2b9371ef054af8b041933330777e96",
      "max": 1,
      "min": 0,
      "orientation": "horizontal",
      "style": "IPY_MODEL_890c09b39d40473e902fb170ef5baf27",
      "value": 1
     }
    },
    "082b68e8e80148c793e7f3d86a48a0ba": {
     "model_module": "@jupyter-widgets/controls",
     "model_module_version": "1.5.0",
     "model_name": "ProgressStyleModel",
     "state": {
      "_model_module": "@jupyter-widgets/controls",
      "_model_module_version": "1.5.0",
      "_model_name": "ProgressStyleModel",
      "_view_count": null,
      "_view_module": "@jupyter-widgets/base",
      "_view_module_version": "1.2.0",
      "_view_name": "StyleView",
      "bar_color": null,
      "description_width": ""
     }
    },
    "084e56a4f1b44a06947b742870cd7815": {
     "model_module": "@jupyter-widgets/controls",
     "model_module_version": "1.5.0",
     "model_name": "HBoxModel",
     "state": {
      "_dom_classes": [],
      "_model_module": "@jupyter-widgets/controls",
      "_model_module_version": "1.5.0",
      "_model_name": "HBoxModel",
      "_view_count": null,
      "_view_module": "@jupyter-widgets/controls",
      "_view_module_version": "1.5.0",
      "_view_name": "HBoxView",
      "box_style": "",
      "children": [
       "IPY_MODEL_9751e5f179d343b08e51e56b92e5bb8e",
       "IPY_MODEL_072ba8d435924e4a835e4bc2ea15d37f",
       "IPY_MODEL_0dcd6f4dba4d4c5fb8b926f5240af724"
      ],
      "layout": "IPY_MODEL_27e6f1383adc46dbbf52bd0477905a75"
     }
    },
    "0dcd6f4dba4d4c5fb8b926f5240af724": {
     "model_module": "@jupyter-widgets/controls",
     "model_module_version": "1.5.0",
     "model_name": "HTMLModel",
     "state": {
      "_dom_classes": [],
      "_model_module": "@jupyter-widgets/controls",
      "_model_module_version": "1.5.0",
      "_model_name": "HTMLModel",
      "_view_count": null,
      "_view_module": "@jupyter-widgets/controls",
      "_view_module_version": "1.5.0",
      "_view_name": "HTMLView",
      "description": "",
      "description_tooltip": null,
      "layout": "IPY_MODEL_62a554c1d77f4281861edcca0d5e0b5f",
      "placeholder": "​",
      "style": "IPY_MODEL_3e3e56ded9fc4981b47023196ba80648",
      "value": " 1/1 [00:00&lt;00:00, 20.23it/s]"
     }
    },
    "0f21638b725943829bed8e9c100ba85a": {
     "model_module": "@jupyter-widgets/base",
     "model_module_version": "1.2.0",
     "model_name": "LayoutModel",
     "state": {
      "_model_module": "@jupyter-widgets/base",
      "_model_module_version": "1.2.0",
      "_model_name": "LayoutModel",
      "_view_count": null,
      "_view_module": "@jupyter-widgets/base",
      "_view_module_version": "1.2.0",
      "_view_name": "LayoutView",
      "align_content": null,
      "align_items": null,
      "align_self": null,
      "border": null,
      "bottom": null,
      "display": null,
      "flex": null,
      "flex_flow": null,
      "grid_area": null,
      "grid_auto_columns": null,
      "grid_auto_flow": null,
      "grid_auto_rows": null,
      "grid_column": null,
      "grid_gap": null,
      "grid_row": null,
      "grid_template_areas": null,
      "grid_template_columns": null,
      "grid_template_rows": null,
      "height": null,
      "justify_content": null,
      "justify_items": null,
      "left": null,
      "margin": null,
      "max_height": null,
      "max_width": null,
      "min_height": null,
      "min_width": null,
      "object_fit": null,
      "object_position": null,
      "order": null,
      "overflow": null,
      "overflow_x": null,
      "overflow_y": null,
      "padding": null,
      "right": null,
      "top": null,
      "visibility": null,
      "width": null
     }
    },
    "13ea74d70071485091eae19a37f6efbd": {
     "model_module": "@jupyter-widgets/controls",
     "model_module_version": "1.5.0",
     "model_name": "HTMLModel",
     "state": {
      "_dom_classes": [],
      "_model_module": "@jupyter-widgets/controls",
      "_model_module_version": "1.5.0",
      "_model_name": "HTMLModel",
      "_view_count": null,
      "_view_module": "@jupyter-widgets/controls",
      "_view_module_version": "1.5.0",
      "_view_name": "HTMLView",
      "description": "",
      "description_tooltip": null,
      "layout": "IPY_MODEL_a3353ad016f342d1902f8227a34931da",
      "placeholder": "​",
      "style": "IPY_MODEL_a878782a69294ccb843b3740c4ccb137",
      "value": " 41/41 [00:05&lt;00:00,  5.20it/s, Completed]"
     }
    },
    "1472d665cd0742c4a4d16162e33b6076": {
     "model_module": "@jupyter-widgets/controls",
     "model_module_version": "1.5.0",
     "model_name": "ProgressStyleModel",
     "state": {
      "_model_module": "@jupyter-widgets/controls",
      "_model_module_version": "1.5.0",
      "_model_name": "ProgressStyleModel",
      "_view_count": null,
      "_view_module": "@jupyter-widgets/base",
      "_view_module_version": "1.2.0",
      "_view_name": "StyleView",
      "bar_color": null,
      "description_width": ""
     }
    },
    "14a17fe7af5d4c0d8217e56fabc8cfda": {
     "model_module": "@jupyter-widgets/controls",
     "model_module_version": "1.5.0",
     "model_name": "HTMLModel",
     "state": {
      "_dom_classes": [],
      "_model_module": "@jupyter-widgets/controls",
      "_model_module_version": "1.5.0",
      "_model_name": "HTMLModel",
      "_view_count": null,
      "_view_module": "@jupyter-widgets/controls",
      "_view_module_version": "1.5.0",
      "_view_name": "HTMLView",
      "description": "",
      "description_tooltip": null,
      "layout": "IPY_MODEL_a5a85c0f937e4fcea4fdc21620eaaa23",
      "placeholder": "​",
      "style": "IPY_MODEL_5978ea46772548909cf5dca9216612ea",
      "value": "Export report to file: 100%"
     }
    },
    "14c2c94f7dfa4a47a97cad7c17784b21": {
     "model_module": "@jupyter-widgets/base",
     "model_module_version": "1.2.0",
     "model_name": "LayoutModel",
     "state": {
      "_model_module": "@jupyter-widgets/base",
      "_model_module_version": "1.2.0",
      "_model_name": "LayoutModel",
      "_view_count": null,
      "_view_module": "@jupyter-widgets/base",
      "_view_module_version": "1.2.0",
      "_view_name": "LayoutView",
      "align_content": null,
      "align_items": null,
      "align_self": null,
      "border": null,
      "bottom": null,
      "display": null,
      "flex": null,
      "flex_flow": null,
      "grid_area": null,
      "grid_auto_columns": null,
      "grid_auto_flow": null,
      "grid_auto_rows": null,
      "grid_column": null,
      "grid_gap": null,
      "grid_row": null,
      "grid_template_areas": null,
      "grid_template_columns": null,
      "grid_template_rows": null,
      "height": null,
      "justify_content": null,
      "justify_items": null,
      "left": null,
      "margin": null,
      "max_height": null,
      "max_width": null,
      "min_height": null,
      "min_width": null,
      "object_fit": null,
      "object_position": null,
      "order": null,
      "overflow": null,
      "overflow_x": null,
      "overflow_y": null,
      "padding": null,
      "right": null,
      "top": null,
      "visibility": null,
      "width": null
     }
    },
    "16eacd715a0c4c6eb23215733b71f892": {
     "model_module": "@jupyter-widgets/controls",
     "model_module_version": "1.5.0",
     "model_name": "DescriptionStyleModel",
     "state": {
      "_model_module": "@jupyter-widgets/controls",
      "_model_module_version": "1.5.0",
      "_model_name": "DescriptionStyleModel",
      "_view_count": null,
      "_view_module": "@jupyter-widgets/base",
      "_view_module_version": "1.2.0",
      "_view_name": "StyleView",
      "description_width": ""
     }
    },
    "1bad04048c4d4fc2a9d3d6ddc36777d1": {
     "model_module": "@jupyter-widgets/controls",
     "model_module_version": "1.5.0",
     "model_name": "DescriptionStyleModel",
     "state": {
      "_model_module": "@jupyter-widgets/controls",
      "_model_module_version": "1.5.0",
      "_model_name": "DescriptionStyleModel",
      "_view_count": null,
      "_view_module": "@jupyter-widgets/base",
      "_view_module_version": "1.2.0",
      "_view_name": "StyleView",
      "description_width": ""
     }
    },
    "1c9e32d4b3334d978c638bd3d9c3867a": {
     "model_module": "@jupyter-widgets/controls",
     "model_module_version": "1.5.0",
     "model_name": "FloatProgressModel",
     "state": {
      "_dom_classes": [],
      "_model_module": "@jupyter-widgets/controls",
      "_model_module_version": "1.5.0",
      "_model_name": "FloatProgressModel",
      "_view_count": null,
      "_view_module": "@jupyter-widgets/controls",
      "_view_module_version": "1.5.0",
      "_view_name": "ProgressView",
      "bar_style": "success",
      "description": "",
      "description_tooltip": null,
      "layout": "IPY_MODEL_2f874cd9c3bb4707a2d87e94f037d514",
      "max": 1,
      "min": 0,
      "orientation": "horizontal",
      "style": "IPY_MODEL_6bb72b8e023d47b487335c0e45e5d8a1",
      "value": 1
     }
    },
    "1e5aff41551945da9bb88d657e8df278": {
     "model_module": "@jupyter-widgets/base",
     "model_module_version": "1.2.0",
     "model_name": "LayoutModel",
     "state": {
      "_model_module": "@jupyter-widgets/base",
      "_model_module_version": "1.2.0",
      "_model_name": "LayoutModel",
      "_view_count": null,
      "_view_module": "@jupyter-widgets/base",
      "_view_module_version": "1.2.0",
      "_view_name": "LayoutView",
      "align_content": null,
      "align_items": null,
      "align_self": null,
      "border": null,
      "bottom": null,
      "display": null,
      "flex": null,
      "flex_flow": null,
      "grid_area": null,
      "grid_auto_columns": null,
      "grid_auto_flow": null,
      "grid_auto_rows": null,
      "grid_column": null,
      "grid_gap": null,
      "grid_row": null,
      "grid_template_areas": null,
      "grid_template_columns": null,
      "grid_template_rows": null,
      "height": null,
      "justify_content": null,
      "justify_items": null,
      "left": null,
      "margin": null,
      "max_height": null,
      "max_width": null,
      "min_height": null,
      "min_width": null,
      "object_fit": null,
      "object_position": null,
      "order": null,
      "overflow": null,
      "overflow_x": null,
      "overflow_y": null,
      "padding": null,
      "right": null,
      "top": null,
      "visibility": null,
      "width": null
     }
    },
    "1eb7808fe886480c80aea6a56f661fcc": {
     "model_module": "@jupyter-widgets/controls",
     "model_module_version": "1.5.0",
     "model_name": "HTMLModel",
     "state": {
      "_dom_classes": [],
      "_model_module": "@jupyter-widgets/controls",
      "_model_module_version": "1.5.0",
      "_model_name": "HTMLModel",
      "_view_count": null,
      "_view_module": "@jupyter-widgets/controls",
      "_view_module_version": "1.5.0",
      "_view_name": "HTMLView",
      "description": "",
      "description_tooltip": null,
      "layout": "IPY_MODEL_ddadb89049be40d298efbbecbf7127ae",
      "placeholder": "​",
      "style": "IPY_MODEL_e75963ac73704bb0864f087f1ff0edd8",
      "value": "Generate report structure: 100%"
     }
    },
    "21a245bae0a34bf6a51086e3d1c45678": {
     "model_module": "@jupyter-widgets/controls",
     "model_module_version": "1.5.0",
     "model_name": "HTMLModel",
     "state": {
      "_dom_classes": [],
      "_model_module": "@jupyter-widgets/controls",
      "_model_module_version": "1.5.0",
      "_model_name": "HTMLModel",
      "_view_count": null,
      "_view_module": "@jupyter-widgets/controls",
      "_view_module_version": "1.5.0",
      "_view_name": "HTMLView",
      "description": "",
      "description_tooltip": null,
      "layout": "IPY_MODEL_9f0420d573884700904d3a1404f74349",
      "placeholder": "​",
      "style": "IPY_MODEL_eb68f8fcc1c0468889b68ced8e940db0",
      "value": "Render HTML: 100%"
     }
    },
    "224deea5f32b47f9a57b95fdafa502bb": {
     "model_module": "@jupyter-widgets/base",
     "model_module_version": "1.2.0",
     "model_name": "LayoutModel",
     "state": {
      "_model_module": "@jupyter-widgets/base",
      "_model_module_version": "1.2.0",
      "_model_name": "LayoutModel",
      "_view_count": null,
      "_view_module": "@jupyter-widgets/base",
      "_view_module_version": "1.2.0",
      "_view_name": "LayoutView",
      "align_content": null,
      "align_items": null,
      "align_self": null,
      "border": null,
      "bottom": null,
      "display": null,
      "flex": null,
      "flex_flow": null,
      "grid_area": null,
      "grid_auto_columns": null,
      "grid_auto_flow": null,
      "grid_auto_rows": null,
      "grid_column": null,
      "grid_gap": null,
      "grid_row": null,
      "grid_template_areas": null,
      "grid_template_columns": null,
      "grid_template_rows": null,
      "height": null,
      "justify_content": null,
      "justify_items": null,
      "left": null,
      "margin": null,
      "max_height": null,
      "max_width": null,
      "min_height": null,
      "min_width": null,
      "object_fit": null,
      "object_position": null,
      "order": null,
      "overflow": null,
      "overflow_x": null,
      "overflow_y": null,
      "padding": null,
      "right": null,
      "top": null,
      "visibility": null,
      "width": null
     }
    },
    "26efccfdc32f43ceba8c5b1a132810c2": {
     "model_module": "@jupyter-widgets/controls",
     "model_module_version": "1.5.0",
     "model_name": "HBoxModel",
     "state": {
      "_dom_classes": [],
      "_model_module": "@jupyter-widgets/controls",
      "_model_module_version": "1.5.0",
      "_model_name": "HBoxModel",
      "_view_count": null,
      "_view_module": "@jupyter-widgets/controls",
      "_view_module_version": "1.5.0",
      "_view_name": "HBoxView",
      "box_style": "",
      "children": [
       "IPY_MODEL_bed28aa0222b462a86f6fc99832043ba",
       "IPY_MODEL_1c9e32d4b3334d978c638bd3d9c3867a",
       "IPY_MODEL_aff1513ce2144369a57455de05c2afac"
      ],
      "layout": "IPY_MODEL_01d7df987fcb42dc89c7c9d702e1040b"
     }
    },
    "27e6f1383adc46dbbf52bd0477905a75": {
     "model_module": "@jupyter-widgets/base",
     "model_module_version": "1.2.0",
     "model_name": "LayoutModel",
     "state": {
      "_model_module": "@jupyter-widgets/base",
      "_model_module_version": "1.2.0",
      "_model_name": "LayoutModel",
      "_view_count": null,
      "_view_module": "@jupyter-widgets/base",
      "_view_module_version": "1.2.0",
      "_view_name": "LayoutView",
      "align_content": null,
      "align_items": null,
      "align_self": null,
      "border": null,
      "bottom": null,
      "display": null,
      "flex": null,
      "flex_flow": null,
      "grid_area": null,
      "grid_auto_columns": null,
      "grid_auto_flow": null,
      "grid_auto_rows": null,
      "grid_column": null,
      "grid_gap": null,
      "grid_row": null,
      "grid_template_areas": null,
      "grid_template_columns": null,
      "grid_template_rows": null,
      "height": null,
      "justify_content": null,
      "justify_items": null,
      "left": null,
      "margin": null,
      "max_height": null,
      "max_width": null,
      "min_height": null,
      "min_width": null,
      "object_fit": null,
      "object_position": null,
      "order": null,
      "overflow": null,
      "overflow_x": null,
      "overflow_y": null,
      "padding": null,
      "right": null,
      "top": null,
      "visibility": null,
      "width": null
     }
    },
    "28471168f6534cf08af821255711f4fd": {
     "model_module": "@jupyter-widgets/controls",
     "model_module_version": "1.5.0",
     "model_name": "HBoxModel",
     "state": {
      "_dom_classes": [],
      "_model_module": "@jupyter-widgets/controls",
      "_model_module_version": "1.5.0",
      "_model_name": "HBoxModel",
      "_view_count": null,
      "_view_module": "@jupyter-widgets/controls",
      "_view_module_version": "1.5.0",
      "_view_name": "HBoxView",
      "box_style": "",
      "children": [
       "IPY_MODEL_21a245bae0a34bf6a51086e3d1c45678",
       "IPY_MODEL_e1728690e16d417899ff2d8b88747178",
       "IPY_MODEL_d998543acf2549938bf94f97e697b10e"
      ],
      "layout": "IPY_MODEL_d4d360395c3e4366853b9a087dede52b"
     }
    },
    "29154f1d491a4004bdb39322987ea4b1": {
     "model_module": "@jupyter-widgets/controls",
     "model_module_version": "1.5.0",
     "model_name": "DescriptionStyleModel",
     "state": {
      "_model_module": "@jupyter-widgets/controls",
      "_model_module_version": "1.5.0",
      "_model_name": "DescriptionStyleModel",
      "_view_count": null,
      "_view_module": "@jupyter-widgets/base",
      "_view_module_version": "1.2.0",
      "_view_name": "StyleView",
      "description_width": ""
     }
    },
    "2adbba9512484a7d9687a7167c3dcaed": {
     "model_module": "@jupyter-widgets/controls",
     "model_module_version": "1.5.0",
     "model_name": "DescriptionStyleModel",
     "state": {
      "_model_module": "@jupyter-widgets/controls",
      "_model_module_version": "1.5.0",
      "_model_name": "DescriptionStyleModel",
      "_view_count": null,
      "_view_module": "@jupyter-widgets/base",
      "_view_module_version": "1.2.0",
      "_view_name": "StyleView",
      "description_width": ""
     }
    },
    "2c2b9371ef054af8b041933330777e96": {
     "model_module": "@jupyter-widgets/base",
     "model_module_version": "1.2.0",
     "model_name": "LayoutModel",
     "state": {
      "_model_module": "@jupyter-widgets/base",
      "_model_module_version": "1.2.0",
      "_model_name": "LayoutModel",
      "_view_count": null,
      "_view_module": "@jupyter-widgets/base",
      "_view_module_version": "1.2.0",
      "_view_name": "LayoutView",
      "align_content": null,
      "align_items": null,
      "align_self": null,
      "border": null,
      "bottom": null,
      "display": null,
      "flex": null,
      "flex_flow": null,
      "grid_area": null,
      "grid_auto_columns": null,
      "grid_auto_flow": null,
      "grid_auto_rows": null,
      "grid_column": null,
      "grid_gap": null,
      "grid_row": null,
      "grid_template_areas": null,
      "grid_template_columns": null,
      "grid_template_rows": null,
      "height": null,
      "justify_content": null,
      "justify_items": null,
      "left": null,
      "margin": null,
      "max_height": null,
      "max_width": null,
      "min_height": null,
      "min_width": null,
      "object_fit": null,
      "object_position": null,
      "order": null,
      "overflow": null,
      "overflow_x": null,
      "overflow_y": null,
      "padding": null,
      "right": null,
      "top": null,
      "visibility": null,
      "width": null
     }
    },
    "2c8429b01b914cc0b46c7a9317f54430": {
     "model_module": "@jupyter-widgets/controls",
     "model_module_version": "1.5.0",
     "model_name": "HBoxModel",
     "state": {
      "_dom_classes": [],
      "_model_module": "@jupyter-widgets/controls",
      "_model_module_version": "1.5.0",
      "_model_name": "HBoxModel",
      "_view_count": null,
      "_view_module": "@jupyter-widgets/controls",
      "_view_module_version": "1.5.0",
      "_view_name": "HBoxView",
      "box_style": "",
      "children": [
       "IPY_MODEL_ab75c353f33346dea32a5c1d393c3f19",
       "IPY_MODEL_7ebb8faf4fb341c9a309a6a975b7df20",
       "IPY_MODEL_13ea74d70071485091eae19a37f6efbd"
      ],
      "layout": "IPY_MODEL_d59321482bc347fab77b72a980d9aeb2"
     }
    },
    "2f874cd9c3bb4707a2d87e94f037d514": {
     "model_module": "@jupyter-widgets/base",
     "model_module_version": "1.2.0",
     "model_name": "LayoutModel",
     "state": {
      "_model_module": "@jupyter-widgets/base",
      "_model_module_version": "1.2.0",
      "_model_name": "LayoutModel",
      "_view_count": null,
      "_view_module": "@jupyter-widgets/base",
      "_view_module_version": "1.2.0",
      "_view_name": "LayoutView",
      "align_content": null,
      "align_items": null,
      "align_self": null,
      "border": null,
      "bottom": null,
      "display": null,
      "flex": null,
      "flex_flow": null,
      "grid_area": null,
      "grid_auto_columns": null,
      "grid_auto_flow": null,
      "grid_auto_rows": null,
      "grid_column": null,
      "grid_gap": null,
      "grid_row": null,
      "grid_template_areas": null,
      "grid_template_columns": null,
      "grid_template_rows": null,
      "height": null,
      "justify_content": null,
      "justify_items": null,
      "left": null,
      "margin": null,
      "max_height": null,
      "max_width": null,
      "min_height": null,
      "min_width": null,
      "object_fit": null,
      "object_position": null,
      "order": null,
      "overflow": null,
      "overflow_x": null,
      "overflow_y": null,
      "padding": null,
      "right": null,
      "top": null,
      "visibility": null,
      "width": null
     }
    },
    "3016155d25ec41b9ae0e08fc6e7e0d2a": {
     "model_module": "@jupyter-widgets/controls",
     "model_module_version": "1.5.0",
     "model_name": "DescriptionStyleModel",
     "state": {
      "_model_module": "@jupyter-widgets/controls",
      "_model_module_version": "1.5.0",
      "_model_name": "DescriptionStyleModel",
      "_view_count": null,
      "_view_module": "@jupyter-widgets/base",
      "_view_module_version": "1.2.0",
      "_view_name": "StyleView",
      "description_width": ""
     }
    },
    "30c9581b4cc549339929eb74876a99d9": {
     "model_module": "@jupyter-widgets/base",
     "model_module_version": "1.2.0",
     "model_name": "LayoutModel",
     "state": {
      "_model_module": "@jupyter-widgets/base",
      "_model_module_version": "1.2.0",
      "_model_name": "LayoutModel",
      "_view_count": null,
      "_view_module": "@jupyter-widgets/base",
      "_view_module_version": "1.2.0",
      "_view_name": "LayoutView",
      "align_content": null,
      "align_items": null,
      "align_self": null,
      "border": null,
      "bottom": null,
      "display": null,
      "flex": null,
      "flex_flow": null,
      "grid_area": null,
      "grid_auto_columns": null,
      "grid_auto_flow": null,
      "grid_auto_rows": null,
      "grid_column": null,
      "grid_gap": null,
      "grid_row": null,
      "grid_template_areas": null,
      "grid_template_columns": null,
      "grid_template_rows": null,
      "height": null,
      "justify_content": null,
      "justify_items": null,
      "left": null,
      "margin": null,
      "max_height": null,
      "max_width": null,
      "min_height": null,
      "min_width": null,
      "object_fit": null,
      "object_position": null,
      "order": null,
      "overflow": null,
      "overflow_x": null,
      "overflow_y": null,
      "padding": null,
      "right": null,
      "top": null,
      "visibility": null,
      "width": null
     }
    },
    "335210859fd443eea0f8e974bc7674ee": {
     "model_module": "@jupyter-widgets/base",
     "model_module_version": "1.2.0",
     "model_name": "LayoutModel",
     "state": {
      "_model_module": "@jupyter-widgets/base",
      "_model_module_version": "1.2.0",
      "_model_name": "LayoutModel",
      "_view_count": null,
      "_view_module": "@jupyter-widgets/base",
      "_view_module_version": "1.2.0",
      "_view_name": "LayoutView",
      "align_content": null,
      "align_items": null,
      "align_self": null,
      "border": null,
      "bottom": null,
      "display": null,
      "flex": null,
      "flex_flow": null,
      "grid_area": null,
      "grid_auto_columns": null,
      "grid_auto_flow": null,
      "grid_auto_rows": null,
      "grid_column": null,
      "grid_gap": null,
      "grid_row": null,
      "grid_template_areas": null,
      "grid_template_columns": null,
      "grid_template_rows": null,
      "height": null,
      "justify_content": null,
      "justify_items": null,
      "left": null,
      "margin": null,
      "max_height": null,
      "max_width": null,
      "min_height": null,
      "min_width": null,
      "object_fit": null,
      "object_position": null,
      "order": null,
      "overflow": null,
      "overflow_x": null,
      "overflow_y": null,
      "padding": null,
      "right": null,
      "top": null,
      "visibility": null,
      "width": null
     }
    },
    "35ac38a14ca549368b91a596ab5c238b": {
     "model_module": "@jupyter-widgets/base",
     "model_module_version": "1.2.0",
     "model_name": "LayoutModel",
     "state": {
      "_model_module": "@jupyter-widgets/base",
      "_model_module_version": "1.2.0",
      "_model_name": "LayoutModel",
      "_view_count": null,
      "_view_module": "@jupyter-widgets/base",
      "_view_module_version": "1.2.0",
      "_view_name": "LayoutView",
      "align_content": null,
      "align_items": null,
      "align_self": null,
      "border": null,
      "bottom": null,
      "display": null,
      "flex": null,
      "flex_flow": null,
      "grid_area": null,
      "grid_auto_columns": null,
      "grid_auto_flow": null,
      "grid_auto_rows": null,
      "grid_column": null,
      "grid_gap": null,
      "grid_row": null,
      "grid_template_areas": null,
      "grid_template_columns": null,
      "grid_template_rows": null,
      "height": null,
      "justify_content": null,
      "justify_items": null,
      "left": null,
      "margin": null,
      "max_height": null,
      "max_width": null,
      "min_height": null,
      "min_width": null,
      "object_fit": null,
      "object_position": null,
      "order": null,
      "overflow": null,
      "overflow_x": null,
      "overflow_y": null,
      "padding": null,
      "right": null,
      "top": null,
      "visibility": null,
      "width": null
     }
    },
    "35e2ed8e072546a2931bb513a6ef8f66": {
     "model_module": "@jupyter-widgets/controls",
     "model_module_version": "1.5.0",
     "model_name": "HBoxModel",
     "state": {
      "_dom_classes": [],
      "_model_module": "@jupyter-widgets/controls",
      "_model_module_version": "1.5.0",
      "_model_name": "HBoxModel",
      "_view_count": null,
      "_view_module": "@jupyter-widgets/controls",
      "_view_module_version": "1.5.0",
      "_view_name": "HBoxView",
      "box_style": "",
      "children": [
       "IPY_MODEL_9caf2a9972e74bb1831256e8f25c33ca",
       "IPY_MODEL_429269868e26493195c745272afe0eb6",
       "IPY_MODEL_061ab25014e04cadb47604123f3f9244"
      ],
      "layout": "IPY_MODEL_cb3876f1b1e342a78a746b40831c6f71"
     }
    },
    "3abbd4e9a07d4c09a9f2c1303090f74a": {
     "model_module": "@jupyter-widgets/controls",
     "model_module_version": "1.5.0",
     "model_name": "HTMLModel",
     "state": {
      "_dom_classes": [],
      "_model_module": "@jupyter-widgets/controls",
      "_model_module_version": "1.5.0",
      "_model_name": "HTMLModel",
      "_view_count": null,
      "_view_module": "@jupyter-widgets/controls",
      "_view_module_version": "1.5.0",
      "_view_name": "HTMLView",
      "description": "",
      "description_tooltip": null,
      "layout": "IPY_MODEL_ed8f644f3e4d4321944fee32476b7a8e",
      "placeholder": "​",
      "style": "IPY_MODEL_16eacd715a0c4c6eb23215733b71f892",
      "value": " 40/40 [00:05&lt;00:00,  6.27it/s, Completed]"
     }
    },
    "3e3e56ded9fc4981b47023196ba80648": {
     "model_module": "@jupyter-widgets/controls",
     "model_module_version": "1.5.0",
     "model_name": "DescriptionStyleModel",
     "state": {
      "_model_module": "@jupyter-widgets/controls",
      "_model_module_version": "1.5.0",
      "_model_name": "DescriptionStyleModel",
      "_view_count": null,
      "_view_module": "@jupyter-widgets/base",
      "_view_module_version": "1.2.0",
      "_view_name": "StyleView",
      "description_width": ""
     }
    },
    "3f257ca6686948f8b81776dfe8d35bb2": {
     "model_module": "@jupyter-widgets/base",
     "model_module_version": "1.2.0",
     "model_name": "LayoutModel",
     "state": {
      "_model_module": "@jupyter-widgets/base",
      "_model_module_version": "1.2.0",
      "_model_name": "LayoutModel",
      "_view_count": null,
      "_view_module": "@jupyter-widgets/base",
      "_view_module_version": "1.2.0",
      "_view_name": "LayoutView",
      "align_content": null,
      "align_items": null,
      "align_self": null,
      "border": null,
      "bottom": null,
      "display": null,
      "flex": null,
      "flex_flow": null,
      "grid_area": null,
      "grid_auto_columns": null,
      "grid_auto_flow": null,
      "grid_auto_rows": null,
      "grid_column": null,
      "grid_gap": null,
      "grid_row": null,
      "grid_template_areas": null,
      "grid_template_columns": null,
      "grid_template_rows": null,
      "height": null,
      "justify_content": null,
      "justify_items": null,
      "left": null,
      "margin": null,
      "max_height": null,
      "max_width": null,
      "min_height": null,
      "min_width": null,
      "object_fit": null,
      "object_position": null,
      "order": null,
      "overflow": null,
      "overflow_x": null,
      "overflow_y": null,
      "padding": null,
      "right": null,
      "top": null,
      "visibility": null,
      "width": null
     }
    },
    "3f645f983d5b4c2ca778b137b4815e03": {
     "model_module": "@jupyter-widgets/controls",
     "model_module_version": "1.5.0",
     "model_name": "HBoxModel",
     "state": {
      "_dom_classes": [],
      "_model_module": "@jupyter-widgets/controls",
      "_model_module_version": "1.5.0",
      "_model_name": "HBoxModel",
      "_view_count": null,
      "_view_module": "@jupyter-widgets/controls",
      "_view_module_version": "1.5.0",
      "_view_name": "HBoxView",
      "box_style": "",
      "children": [
       "IPY_MODEL_14a17fe7af5d4c0d8217e56fabc8cfda",
       "IPY_MODEL_7c4cc04c20854f5b9c5713474e8104ba",
       "IPY_MODEL_6a27757744474f89a2f272872fd3e63a"
      ],
      "layout": "IPY_MODEL_003b69590f924aba8889ee68b0ad2ce3"
     }
    },
    "429269868e26493195c745272afe0eb6": {
     "model_module": "@jupyter-widgets/controls",
     "model_module_version": "1.5.0",
     "model_name": "FloatProgressModel",
     "state": {
      "_dom_classes": [],
      "_model_module": "@jupyter-widgets/controls",
      "_model_module_version": "1.5.0",
      "_model_name": "FloatProgressModel",
      "_view_count": null,
      "_view_module": "@jupyter-widgets/controls",
      "_view_module_version": "1.5.0",
      "_view_name": "ProgressView",
      "bar_style": "success",
      "description": "",
      "description_tooltip": null,
      "layout": "IPY_MODEL_30c9581b4cc549339929eb74876a99d9",
      "max": 1,
      "min": 0,
      "orientation": "horizontal",
      "style": "IPY_MODEL_47f9ac53901f4573802ad45fe97701f6",
      "value": 1
     }
    },
    "437b26643dba4b3d9d20a84da7d95fa9": {
     "model_module": "@jupyter-widgets/base",
     "model_module_version": "1.2.0",
     "model_name": "LayoutModel",
     "state": {
      "_model_module": "@jupyter-widgets/base",
      "_model_module_version": "1.2.0",
      "_model_name": "LayoutModel",
      "_view_count": null,
      "_view_module": "@jupyter-widgets/base",
      "_view_module_version": "1.2.0",
      "_view_name": "LayoutView",
      "align_content": null,
      "align_items": null,
      "align_self": null,
      "border": null,
      "bottom": null,
      "display": null,
      "flex": null,
      "flex_flow": null,
      "grid_area": null,
      "grid_auto_columns": null,
      "grid_auto_flow": null,
      "grid_auto_rows": null,
      "grid_column": null,
      "grid_gap": null,
      "grid_row": null,
      "grid_template_areas": null,
      "grid_template_columns": null,
      "grid_template_rows": null,
      "height": null,
      "justify_content": null,
      "justify_items": null,
      "left": null,
      "margin": null,
      "max_height": null,
      "max_width": null,
      "min_height": null,
      "min_width": null,
      "object_fit": null,
      "object_position": null,
      "order": null,
      "overflow": null,
      "overflow_x": null,
      "overflow_y": null,
      "padding": null,
      "right": null,
      "top": null,
      "visibility": null,
      "width": null
     }
    },
    "45e27eab2357461c94675f6743fa5287": {
     "model_module": "@jupyter-widgets/controls",
     "model_module_version": "1.5.0",
     "model_name": "ProgressStyleModel",
     "state": {
      "_model_module": "@jupyter-widgets/controls",
      "_model_module_version": "1.5.0",
      "_model_name": "ProgressStyleModel",
      "_view_count": null,
      "_view_module": "@jupyter-widgets/base",
      "_view_module_version": "1.2.0",
      "_view_name": "StyleView",
      "bar_color": null,
      "description_width": ""
     }
    },
    "46d6553d007e49b4bc17bb5e725a4196": {
     "model_module": "@jupyter-widgets/controls",
     "model_module_version": "1.5.0",
     "model_name": "ProgressStyleModel",
     "state": {
      "_model_module": "@jupyter-widgets/controls",
      "_model_module_version": "1.5.0",
      "_model_name": "ProgressStyleModel",
      "_view_count": null,
      "_view_module": "@jupyter-widgets/base",
      "_view_module_version": "1.2.0",
      "_view_name": "StyleView",
      "bar_color": null,
      "description_width": ""
     }
    },
    "47f9ac53901f4573802ad45fe97701f6": {
     "model_module": "@jupyter-widgets/controls",
     "model_module_version": "1.5.0",
     "model_name": "ProgressStyleModel",
     "state": {
      "_model_module": "@jupyter-widgets/controls",
      "_model_module_version": "1.5.0",
      "_model_name": "ProgressStyleModel",
      "_view_count": null,
      "_view_module": "@jupyter-widgets/base",
      "_view_module_version": "1.2.0",
      "_view_name": "StyleView",
      "bar_color": null,
      "description_width": ""
     }
    },
    "5978ea46772548909cf5dca9216612ea": {
     "model_module": "@jupyter-widgets/controls",
     "model_module_version": "1.5.0",
     "model_name": "DescriptionStyleModel",
     "state": {
      "_model_module": "@jupyter-widgets/controls",
      "_model_module_version": "1.5.0",
      "_model_name": "DescriptionStyleModel",
      "_view_count": null,
      "_view_module": "@jupyter-widgets/base",
      "_view_module_version": "1.2.0",
      "_view_name": "StyleView",
      "description_width": ""
     }
    },
    "62a554c1d77f4281861edcca0d5e0b5f": {
     "model_module": "@jupyter-widgets/base",
     "model_module_version": "1.2.0",
     "model_name": "LayoutModel",
     "state": {
      "_model_module": "@jupyter-widgets/base",
      "_model_module_version": "1.2.0",
      "_model_name": "LayoutModel",
      "_view_count": null,
      "_view_module": "@jupyter-widgets/base",
      "_view_module_version": "1.2.0",
      "_view_name": "LayoutView",
      "align_content": null,
      "align_items": null,
      "align_self": null,
      "border": null,
      "bottom": null,
      "display": null,
      "flex": null,
      "flex_flow": null,
      "grid_area": null,
      "grid_auto_columns": null,
      "grid_auto_flow": null,
      "grid_auto_rows": null,
      "grid_column": null,
      "grid_gap": null,
      "grid_row": null,
      "grid_template_areas": null,
      "grid_template_columns": null,
      "grid_template_rows": null,
      "height": null,
      "justify_content": null,
      "justify_items": null,
      "left": null,
      "margin": null,
      "max_height": null,
      "max_width": null,
      "min_height": null,
      "min_width": null,
      "object_fit": null,
      "object_position": null,
      "order": null,
      "overflow": null,
      "overflow_x": null,
      "overflow_y": null,
      "padding": null,
      "right": null,
      "top": null,
      "visibility": null,
      "width": null
     }
    },
    "63ab190af0e24e19b1b653be488eb9a9": {
     "model_module": "@jupyter-widgets/base",
     "model_module_version": "1.2.0",
     "model_name": "LayoutModel",
     "state": {
      "_model_module": "@jupyter-widgets/base",
      "_model_module_version": "1.2.0",
      "_model_name": "LayoutModel",
      "_view_count": null,
      "_view_module": "@jupyter-widgets/base",
      "_view_module_version": "1.2.0",
      "_view_name": "LayoutView",
      "align_content": null,
      "align_items": null,
      "align_self": null,
      "border": null,
      "bottom": null,
      "display": null,
      "flex": null,
      "flex_flow": null,
      "grid_area": null,
      "grid_auto_columns": null,
      "grid_auto_flow": null,
      "grid_auto_rows": null,
      "grid_column": null,
      "grid_gap": null,
      "grid_row": null,
      "grid_template_areas": null,
      "grid_template_columns": null,
      "grid_template_rows": null,
      "height": null,
      "justify_content": null,
      "justify_items": null,
      "left": null,
      "margin": null,
      "max_height": null,
      "max_width": null,
      "min_height": null,
      "min_width": null,
      "object_fit": null,
      "object_position": null,
      "order": null,
      "overflow": null,
      "overflow_x": null,
      "overflow_y": null,
      "padding": null,
      "right": null,
      "top": null,
      "visibility": null,
      "width": null
     }
    },
    "66ffdd088ebb43e495413dbea3f2c97d": {
     "model_module": "@jupyter-widgets/controls",
     "model_module_version": "1.5.0",
     "model_name": "DescriptionStyleModel",
     "state": {
      "_model_module": "@jupyter-widgets/controls",
      "_model_module_version": "1.5.0",
      "_model_name": "DescriptionStyleModel",
      "_view_count": null,
      "_view_module": "@jupyter-widgets/base",
      "_view_module_version": "1.2.0",
      "_view_name": "StyleView",
      "description_width": ""
     }
    },
    "6a27757744474f89a2f272872fd3e63a": {
     "model_module": "@jupyter-widgets/controls",
     "model_module_version": "1.5.0",
     "model_name": "HTMLModel",
     "state": {
      "_dom_classes": [],
      "_model_module": "@jupyter-widgets/controls",
      "_model_module_version": "1.5.0",
      "_model_name": "HTMLModel",
      "_view_count": null,
      "_view_module": "@jupyter-widgets/controls",
      "_view_module_version": "1.5.0",
      "_view_name": "HTMLView",
      "description": "",
      "description_tooltip": null,
      "layout": "IPY_MODEL_0f21638b725943829bed8e9c100ba85a",
      "placeholder": "​",
      "style": "IPY_MODEL_b9532b04ea20499da4ea979b88d0309b",
      "value": " 1/1 [00:00&lt;00:00, 20.44it/s]"
     }
    },
    "6b19ba7106154cab81e8e4aade7e010a": {
     "model_module": "@jupyter-widgets/controls",
     "model_module_version": "1.5.0",
     "model_name": "FloatProgressModel",
     "state": {
      "_dom_classes": [],
      "_model_module": "@jupyter-widgets/controls",
      "_model_module_version": "1.5.0",
      "_model_name": "FloatProgressModel",
      "_view_count": null,
      "_view_module": "@jupyter-widgets/controls",
      "_view_module_version": "1.5.0",
      "_view_name": "ProgressView",
      "bar_style": "success",
      "description": "",
      "description_tooltip": null,
      "layout": "IPY_MODEL_3f257ca6686948f8b81776dfe8d35bb2",
      "max": 1,
      "min": 0,
      "orientation": "horizontal",
      "style": "IPY_MODEL_082b68e8e80148c793e7f3d86a48a0ba",
      "value": 1
     }
    },
    "6bb72b8e023d47b487335c0e45e5d8a1": {
     "model_module": "@jupyter-widgets/controls",
     "model_module_version": "1.5.0",
     "model_name": "ProgressStyleModel",
     "state": {
      "_model_module": "@jupyter-widgets/controls",
      "_model_module_version": "1.5.0",
      "_model_name": "ProgressStyleModel",
      "_view_count": null,
      "_view_module": "@jupyter-widgets/base",
      "_view_module_version": "1.2.0",
      "_view_name": "StyleView",
      "bar_color": null,
      "description_width": ""
     }
    },
    "778faea23852404b8cd335f5707dbb21": {
     "model_module": "@jupyter-widgets/controls",
     "model_module_version": "1.5.0",
     "model_name": "HTMLModel",
     "state": {
      "_dom_classes": [],
      "_model_module": "@jupyter-widgets/controls",
      "_model_module_version": "1.5.0",
      "_model_name": "HTMLModel",
      "_view_count": null,
      "_view_module": "@jupyter-widgets/controls",
      "_view_module_version": "1.5.0",
      "_view_name": "HTMLView",
      "description": "",
      "description_tooltip": null,
      "layout": "IPY_MODEL_224deea5f32b47f9a57b95fdafa502bb",
      "placeholder": "​",
      "style": "IPY_MODEL_29154f1d491a4004bdb39322987ea4b1",
      "value": " 1/1 [00:05&lt;00:00,  5.42s/it]"
     }
    },
    "7963eab267d5405193579ca3adde2cf6": {
     "model_module": "@jupyter-widgets/controls",
     "model_module_version": "1.5.0",
     "model_name": "FloatProgressModel",
     "state": {
      "_dom_classes": [],
      "_model_module": "@jupyter-widgets/controls",
      "_model_module_version": "1.5.0",
      "_model_name": "FloatProgressModel",
      "_view_count": null,
      "_view_module": "@jupyter-widgets/controls",
      "_view_module_version": "1.5.0",
      "_view_name": "ProgressView",
      "bar_style": "success",
      "description": "",
      "description_tooltip": null,
      "layout": "IPY_MODEL_335210859fd443eea0f8e974bc7674ee",
      "max": 5,
      "min": 0,
      "orientation": "horizontal",
      "style": "IPY_MODEL_f402955b4a5e48d79f983293b077cdc8",
      "value": 5
     }
    },
    "7c4cc04c20854f5b9c5713474e8104ba": {
     "model_module": "@jupyter-widgets/controls",
     "model_module_version": "1.5.0",
     "model_name": "FloatProgressModel",
     "state": {
      "_dom_classes": [],
      "_model_module": "@jupyter-widgets/controls",
      "_model_module_version": "1.5.0",
      "_model_name": "FloatProgressModel",
      "_view_count": null,
      "_view_module": "@jupyter-widgets/controls",
      "_view_module_version": "1.5.0",
      "_view_name": "ProgressView",
      "bar_style": "success",
      "description": "",
      "description_tooltip": null,
      "layout": "IPY_MODEL_1e5aff41551945da9bb88d657e8df278",
      "max": 1,
      "min": 0,
      "orientation": "horizontal",
      "style": "IPY_MODEL_45e27eab2357461c94675f6743fa5287",
      "value": 1
     }
    },
    "7ebb8faf4fb341c9a309a6a975b7df20": {
     "model_module": "@jupyter-widgets/controls",
     "model_module_version": "1.5.0",
     "model_name": "FloatProgressModel",
     "state": {
      "_dom_classes": [],
      "_model_module": "@jupyter-widgets/controls",
      "_model_module_version": "1.5.0",
      "_model_name": "FloatProgressModel",
      "_view_count": null,
      "_view_module": "@jupyter-widgets/controls",
      "_view_module_version": "1.5.0",
      "_view_name": "ProgressView",
      "bar_style": "success",
      "description": "",
      "description_tooltip": null,
      "layout": "IPY_MODEL_14c2c94f7dfa4a47a97cad7c17784b21",
      "max": 5,
      "min": 0,
      "orientation": "horizontal",
      "style": "IPY_MODEL_1472d665cd0742c4a4d16162e33b6076",
      "value": 5
     }
    },
    "890c09b39d40473e902fb170ef5baf27": {
     "model_module": "@jupyter-widgets/controls",
     "model_module_version": "1.5.0",
     "model_name": "ProgressStyleModel",
     "state": {
      "_model_module": "@jupyter-widgets/controls",
      "_model_module_version": "1.5.0",
      "_model_name": "ProgressStyleModel",
      "_view_count": null,
      "_view_module": "@jupyter-widgets/base",
      "_view_module_version": "1.2.0",
      "_view_name": "StyleView",
      "bar_color": null,
      "description_width": ""
     }
    },
    "9436a102bd124670a1870a9fe5ae7944": {
     "model_module": "@jupyter-widgets/controls",
     "model_module_version": "1.5.0",
     "model_name": "HBoxModel",
     "state": {
      "_dom_classes": [],
      "_model_module": "@jupyter-widgets/controls",
      "_model_module_version": "1.5.0",
      "_model_name": "HBoxModel",
      "_view_count": null,
      "_view_module": "@jupyter-widgets/controls",
      "_view_module_version": "1.5.0",
      "_view_name": "HBoxView",
      "box_style": "",
      "children": [
       "IPY_MODEL_f5b5f602ae7644ea97c52a1c10544dee",
       "IPY_MODEL_7963eab267d5405193579ca3adde2cf6",
       "IPY_MODEL_3abbd4e9a07d4c09a9f2c1303090f74a"
      ],
      "layout": "IPY_MODEL_35ac38a14ca549368b91a596ab5c238b"
     }
    },
    "962092d49f424c789064220c961d2377": {
     "model_module": "@jupyter-widgets/controls",
     "model_module_version": "1.5.0",
     "model_name": "DescriptionStyleModel",
     "state": {
      "_model_module": "@jupyter-widgets/controls",
      "_model_module_version": "1.5.0",
      "_model_name": "DescriptionStyleModel",
      "_view_count": null,
      "_view_module": "@jupyter-widgets/base",
      "_view_module_version": "1.2.0",
      "_view_name": "StyleView",
      "description_width": ""
     }
    },
    "9751e5f179d343b08e51e56b92e5bb8e": {
     "model_module": "@jupyter-widgets/controls",
     "model_module_version": "1.5.0",
     "model_name": "HTMLModel",
     "state": {
      "_dom_classes": [],
      "_model_module": "@jupyter-widgets/controls",
      "_model_module_version": "1.5.0",
      "_model_name": "HTMLModel",
      "_view_count": null,
      "_view_module": "@jupyter-widgets/controls",
      "_view_module_version": "1.5.0",
      "_view_name": "HTMLView",
      "description": "",
      "description_tooltip": null,
      "layout": "IPY_MODEL_cb21838b15d340b78a4019174db4af80",
      "placeholder": "​",
      "style": "IPY_MODEL_3016155d25ec41b9ae0e08fc6e7e0d2a",
      "value": "Export report to file: 100%"
     }
    },
    "9caf2a9972e74bb1831256e8f25c33ca": {
     "model_module": "@jupyter-widgets/controls",
     "model_module_version": "1.5.0",
     "model_name": "HTMLModel",
     "state": {
      "_dom_classes": [],
      "_model_module": "@jupyter-widgets/controls",
      "_model_module_version": "1.5.0",
      "_model_name": "HTMLModel",
      "_view_count": null,
      "_view_module": "@jupyter-widgets/controls",
      "_view_module_version": "1.5.0",
      "_view_name": "HTMLView",
      "description": "",
      "description_tooltip": null,
      "layout": "IPY_MODEL_b46d182bbf144c12a69ac4c4aa1b931f",
      "placeholder": "​",
      "style": "IPY_MODEL_d09b05af16074ce3bfde6183bb01b883",
      "value": "Generate report structure: 100%"
     }
    },
    "9daa3c8daf4144ce86d40782208e5849": {
     "model_module": "@jupyter-widgets/controls",
     "model_module_version": "1.5.0",
     "model_name": "HBoxModel",
     "state": {
      "_dom_classes": [],
      "_model_module": "@jupyter-widgets/controls",
      "_model_module_version": "1.5.0",
      "_model_name": "HBoxModel",
      "_view_count": null,
      "_view_module": "@jupyter-widgets/controls",
      "_view_module_version": "1.5.0",
      "_view_name": "HBoxView",
      "box_style": "",
      "children": [
       "IPY_MODEL_1eb7808fe886480c80aea6a56f661fcc",
       "IPY_MODEL_6b19ba7106154cab81e8e4aade7e010a",
       "IPY_MODEL_778faea23852404b8cd335f5707dbb21"
      ],
      "layout": "IPY_MODEL_adb662a756254e568aa4becc41767c61"
     }
    },
    "9f0420d573884700904d3a1404f74349": {
     "model_module": "@jupyter-widgets/base",
     "model_module_version": "1.2.0",
     "model_name": "LayoutModel",
     "state": {
      "_model_module": "@jupyter-widgets/base",
      "_model_module_version": "1.2.0",
      "_model_name": "LayoutModel",
      "_view_count": null,
      "_view_module": "@jupyter-widgets/base",
      "_view_module_version": "1.2.0",
      "_view_name": "LayoutView",
      "align_content": null,
      "align_items": null,
      "align_self": null,
      "border": null,
      "bottom": null,
      "display": null,
      "flex": null,
      "flex_flow": null,
      "grid_area": null,
      "grid_auto_columns": null,
      "grid_auto_flow": null,
      "grid_auto_rows": null,
      "grid_column": null,
      "grid_gap": null,
      "grid_row": null,
      "grid_template_areas": null,
      "grid_template_columns": null,
      "grid_template_rows": null,
      "height": null,
      "justify_content": null,
      "justify_items": null,
      "left": null,
      "margin": null,
      "max_height": null,
      "max_width": null,
      "min_height": null,
      "min_width": null,
      "object_fit": null,
      "object_position": null,
      "order": null,
      "overflow": null,
      "overflow_x": null,
      "overflow_y": null,
      "padding": null,
      "right": null,
      "top": null,
      "visibility": null,
      "width": null
     }
    },
    "a3353ad016f342d1902f8227a34931da": {
     "model_module": "@jupyter-widgets/base",
     "model_module_version": "1.2.0",
     "model_name": "LayoutModel",
     "state": {
      "_model_module": "@jupyter-widgets/base",
      "_model_module_version": "1.2.0",
      "_model_name": "LayoutModel",
      "_view_count": null,
      "_view_module": "@jupyter-widgets/base",
      "_view_module_version": "1.2.0",
      "_view_name": "LayoutView",
      "align_content": null,
      "align_items": null,
      "align_self": null,
      "border": null,
      "bottom": null,
      "display": null,
      "flex": null,
      "flex_flow": null,
      "grid_area": null,
      "grid_auto_columns": null,
      "grid_auto_flow": null,
      "grid_auto_rows": null,
      "grid_column": null,
      "grid_gap": null,
      "grid_row": null,
      "grid_template_areas": null,
      "grid_template_columns": null,
      "grid_template_rows": null,
      "height": null,
      "justify_content": null,
      "justify_items": null,
      "left": null,
      "margin": null,
      "max_height": null,
      "max_width": null,
      "min_height": null,
      "min_width": null,
      "object_fit": null,
      "object_position": null,
      "order": null,
      "overflow": null,
      "overflow_x": null,
      "overflow_y": null,
      "padding": null,
      "right": null,
      "top": null,
      "visibility": null,
      "width": null
     }
    },
    "a4eaf60d582743d68f1a4a0cb4170a82": {
     "model_module": "@jupyter-widgets/base",
     "model_module_version": "1.2.0",
     "model_name": "LayoutModel",
     "state": {
      "_model_module": "@jupyter-widgets/base",
      "_model_module_version": "1.2.0",
      "_model_name": "LayoutModel",
      "_view_count": null,
      "_view_module": "@jupyter-widgets/base",
      "_view_module_version": "1.2.0",
      "_view_name": "LayoutView",
      "align_content": null,
      "align_items": null,
      "align_self": null,
      "border": null,
      "bottom": null,
      "display": null,
      "flex": null,
      "flex_flow": null,
      "grid_area": null,
      "grid_auto_columns": null,
      "grid_auto_flow": null,
      "grid_auto_rows": null,
      "grid_column": null,
      "grid_gap": null,
      "grid_row": null,
      "grid_template_areas": null,
      "grid_template_columns": null,
      "grid_template_rows": null,
      "height": null,
      "justify_content": null,
      "justify_items": null,
      "left": null,
      "margin": null,
      "max_height": null,
      "max_width": null,
      "min_height": null,
      "min_width": null,
      "object_fit": null,
      "object_position": null,
      "order": null,
      "overflow": null,
      "overflow_x": null,
      "overflow_y": null,
      "padding": null,
      "right": null,
      "top": null,
      "visibility": null,
      "width": null
     }
    },
    "a5a85c0f937e4fcea4fdc21620eaaa23": {
     "model_module": "@jupyter-widgets/base",
     "model_module_version": "1.2.0",
     "model_name": "LayoutModel",
     "state": {
      "_model_module": "@jupyter-widgets/base",
      "_model_module_version": "1.2.0",
      "_model_name": "LayoutModel",
      "_view_count": null,
      "_view_module": "@jupyter-widgets/base",
      "_view_module_version": "1.2.0",
      "_view_name": "LayoutView",
      "align_content": null,
      "align_items": null,
      "align_self": null,
      "border": null,
      "bottom": null,
      "display": null,
      "flex": null,
      "flex_flow": null,
      "grid_area": null,
      "grid_auto_columns": null,
      "grid_auto_flow": null,
      "grid_auto_rows": null,
      "grid_column": null,
      "grid_gap": null,
      "grid_row": null,
      "grid_template_areas": null,
      "grid_template_columns": null,
      "grid_template_rows": null,
      "height": null,
      "justify_content": null,
      "justify_items": null,
      "left": null,
      "margin": null,
      "max_height": null,
      "max_width": null,
      "min_height": null,
      "min_width": null,
      "object_fit": null,
      "object_position": null,
      "order": null,
      "overflow": null,
      "overflow_x": null,
      "overflow_y": null,
      "padding": null,
      "right": null,
      "top": null,
      "visibility": null,
      "width": null
     }
    },
    "a5bdf91b7bcd4e72b74cb2978c33eedb": {
     "model_module": "@jupyter-widgets/base",
     "model_module_version": "1.2.0",
     "model_name": "LayoutModel",
     "state": {
      "_model_module": "@jupyter-widgets/base",
      "_model_module_version": "1.2.0",
      "_model_name": "LayoutModel",
      "_view_count": null,
      "_view_module": "@jupyter-widgets/base",
      "_view_module_version": "1.2.0",
      "_view_name": "LayoutView",
      "align_content": null,
      "align_items": null,
      "align_self": null,
      "border": null,
      "bottom": null,
      "display": null,
      "flex": null,
      "flex_flow": null,
      "grid_area": null,
      "grid_auto_columns": null,
      "grid_auto_flow": null,
      "grid_auto_rows": null,
      "grid_column": null,
      "grid_gap": null,
      "grid_row": null,
      "grid_template_areas": null,
      "grid_template_columns": null,
      "grid_template_rows": null,
      "height": null,
      "justify_content": null,
      "justify_items": null,
      "left": null,
      "margin": null,
      "max_height": null,
      "max_width": null,
      "min_height": null,
      "min_width": null,
      "object_fit": null,
      "object_position": null,
      "order": null,
      "overflow": null,
      "overflow_x": null,
      "overflow_y": null,
      "padding": null,
      "right": null,
      "top": null,
      "visibility": null,
      "width": null
     }
    },
    "a878782a69294ccb843b3740c4ccb137": {
     "model_module": "@jupyter-widgets/controls",
     "model_module_version": "1.5.0",
     "model_name": "DescriptionStyleModel",
     "state": {
      "_model_module": "@jupyter-widgets/controls",
      "_model_module_version": "1.5.0",
      "_model_name": "DescriptionStyleModel",
      "_view_count": null,
      "_view_module": "@jupyter-widgets/base",
      "_view_module_version": "1.2.0",
      "_view_name": "StyleView",
      "description_width": ""
     }
    },
    "ab75c353f33346dea32a5c1d393c3f19": {
     "model_module": "@jupyter-widgets/controls",
     "model_module_version": "1.5.0",
     "model_name": "HTMLModel",
     "state": {
      "_dom_classes": [],
      "_model_module": "@jupyter-widgets/controls",
      "_model_module_version": "1.5.0",
      "_model_name": "HTMLModel",
      "_view_count": null,
      "_view_module": "@jupyter-widgets/controls",
      "_view_module_version": "1.5.0",
      "_view_name": "HTMLView",
      "description": "",
      "description_tooltip": null,
      "layout": "IPY_MODEL_a4eaf60d582743d68f1a4a0cb4170a82",
      "placeholder": "​",
      "style": "IPY_MODEL_1bad04048c4d4fc2a9d3d6ddc36777d1",
      "value": "Summarize dataset: 100%"
     }
    },
    "adb662a756254e568aa4becc41767c61": {
     "model_module": "@jupyter-widgets/base",
     "model_module_version": "1.2.0",
     "model_name": "LayoutModel",
     "state": {
      "_model_module": "@jupyter-widgets/base",
      "_model_module_version": "1.2.0",
      "_model_name": "LayoutModel",
      "_view_count": null,
      "_view_module": "@jupyter-widgets/base",
      "_view_module_version": "1.2.0",
      "_view_name": "LayoutView",
      "align_content": null,
      "align_items": null,
      "align_self": null,
      "border": null,
      "bottom": null,
      "display": null,
      "flex": null,
      "flex_flow": null,
      "grid_area": null,
      "grid_auto_columns": null,
      "grid_auto_flow": null,
      "grid_auto_rows": null,
      "grid_column": null,
      "grid_gap": null,
      "grid_row": null,
      "grid_template_areas": null,
      "grid_template_columns": null,
      "grid_template_rows": null,
      "height": null,
      "justify_content": null,
      "justify_items": null,
      "left": null,
      "margin": null,
      "max_height": null,
      "max_width": null,
      "min_height": null,
      "min_width": null,
      "object_fit": null,
      "object_position": null,
      "order": null,
      "overflow": null,
      "overflow_x": null,
      "overflow_y": null,
      "padding": null,
      "right": null,
      "top": null,
      "visibility": null,
      "width": null
     }
    },
    "af7d71fe2c1e458f8fcb36235c291632": {
     "model_module": "@jupyter-widgets/base",
     "model_module_version": "1.2.0",
     "model_name": "LayoutModel",
     "state": {
      "_model_module": "@jupyter-widgets/base",
      "_model_module_version": "1.2.0",
      "_model_name": "LayoutModel",
      "_view_count": null,
      "_view_module": "@jupyter-widgets/base",
      "_view_module_version": "1.2.0",
      "_view_name": "LayoutView",
      "align_content": null,
      "align_items": null,
      "align_self": null,
      "border": null,
      "bottom": null,
      "display": null,
      "flex": null,
      "flex_flow": null,
      "grid_area": null,
      "grid_auto_columns": null,
      "grid_auto_flow": null,
      "grid_auto_rows": null,
      "grid_column": null,
      "grid_gap": null,
      "grid_row": null,
      "grid_template_areas": null,
      "grid_template_columns": null,
      "grid_template_rows": null,
      "height": null,
      "justify_content": null,
      "justify_items": null,
      "left": null,
      "margin": null,
      "max_height": null,
      "max_width": null,
      "min_height": null,
      "min_width": null,
      "object_fit": null,
      "object_position": null,
      "order": null,
      "overflow": null,
      "overflow_x": null,
      "overflow_y": null,
      "padding": null,
      "right": null,
      "top": null,
      "visibility": null,
      "width": null
     }
    },
    "aff1513ce2144369a57455de05c2afac": {
     "model_module": "@jupyter-widgets/controls",
     "model_module_version": "1.5.0",
     "model_name": "HTMLModel",
     "state": {
      "_dom_classes": [],
      "_model_module": "@jupyter-widgets/controls",
      "_model_module_version": "1.5.0",
      "_model_name": "HTMLModel",
      "_view_count": null,
      "_view_module": "@jupyter-widgets/controls",
      "_view_module_version": "1.5.0",
      "_view_name": "HTMLView",
      "description": "",
      "description_tooltip": null,
      "layout": "IPY_MODEL_a5bdf91b7bcd4e72b74cb2978c33eedb",
      "placeholder": "​",
      "style": "IPY_MODEL_ba883481002a43a692ddab0046363792",
      "value": " 1/1 [00:01&lt;00:00,  1.17s/it]"
     }
    },
    "b46d182bbf144c12a69ac4c4aa1b931f": {
     "model_module": "@jupyter-widgets/base",
     "model_module_version": "1.2.0",
     "model_name": "LayoutModel",
     "state": {
      "_model_module": "@jupyter-widgets/base",
      "_model_module_version": "1.2.0",
      "_model_name": "LayoutModel",
      "_view_count": null,
      "_view_module": "@jupyter-widgets/base",
      "_view_module_version": "1.2.0",
      "_view_name": "LayoutView",
      "align_content": null,
      "align_items": null,
      "align_self": null,
      "border": null,
      "bottom": null,
      "display": null,
      "flex": null,
      "flex_flow": null,
      "grid_area": null,
      "grid_auto_columns": null,
      "grid_auto_flow": null,
      "grid_auto_rows": null,
      "grid_column": null,
      "grid_gap": null,
      "grid_row": null,
      "grid_template_areas": null,
      "grid_template_columns": null,
      "grid_template_rows": null,
      "height": null,
      "justify_content": null,
      "justify_items": null,
      "left": null,
      "margin": null,
      "max_height": null,
      "max_width": null,
      "min_height": null,
      "min_width": null,
      "object_fit": null,
      "object_position": null,
      "order": null,
      "overflow": null,
      "overflow_x": null,
      "overflow_y": null,
      "padding": null,
      "right": null,
      "top": null,
      "visibility": null,
      "width": null
     }
    },
    "b9532b04ea20499da4ea979b88d0309b": {
     "model_module": "@jupyter-widgets/controls",
     "model_module_version": "1.5.0",
     "model_name": "DescriptionStyleModel",
     "state": {
      "_model_module": "@jupyter-widgets/controls",
      "_model_module_version": "1.5.0",
      "_model_name": "DescriptionStyleModel",
      "_view_count": null,
      "_view_module": "@jupyter-widgets/base",
      "_view_module_version": "1.2.0",
      "_view_name": "StyleView",
      "description_width": ""
     }
    },
    "ba883481002a43a692ddab0046363792": {
     "model_module": "@jupyter-widgets/controls",
     "model_module_version": "1.5.0",
     "model_name": "DescriptionStyleModel",
     "state": {
      "_model_module": "@jupyter-widgets/controls",
      "_model_module_version": "1.5.0",
      "_model_name": "DescriptionStyleModel",
      "_view_count": null,
      "_view_module": "@jupyter-widgets/base",
      "_view_module_version": "1.2.0",
      "_view_name": "StyleView",
      "description_width": ""
     }
    },
    "bed28aa0222b462a86f6fc99832043ba": {
     "model_module": "@jupyter-widgets/controls",
     "model_module_version": "1.5.0",
     "model_name": "HTMLModel",
     "state": {
      "_dom_classes": [],
      "_model_module": "@jupyter-widgets/controls",
      "_model_module_version": "1.5.0",
      "_model_name": "HTMLModel",
      "_view_count": null,
      "_view_module": "@jupyter-widgets/controls",
      "_view_module_version": "1.5.0",
      "_view_name": "HTMLView",
      "description": "",
      "description_tooltip": null,
      "layout": "IPY_MODEL_af7d71fe2c1e458f8fcb36235c291632",
      "placeholder": "​",
      "style": "IPY_MODEL_962092d49f424c789064220c961d2377",
      "value": "Render HTML: 100%"
     }
    },
    "c8e80cdbe2844b019cd581adaab14d5e": {
     "model_module": "@jupyter-widgets/base",
     "model_module_version": "1.2.0",
     "model_name": "LayoutModel",
     "state": {
      "_model_module": "@jupyter-widgets/base",
      "_model_module_version": "1.2.0",
      "_model_name": "LayoutModel",
      "_view_count": null,
      "_view_module": "@jupyter-widgets/base",
      "_view_module_version": "1.2.0",
      "_view_name": "LayoutView",
      "align_content": null,
      "align_items": null,
      "align_self": null,
      "border": null,
      "bottom": null,
      "display": null,
      "flex": null,
      "flex_flow": null,
      "grid_area": null,
      "grid_auto_columns": null,
      "grid_auto_flow": null,
      "grid_auto_rows": null,
      "grid_column": null,
      "grid_gap": null,
      "grid_row": null,
      "grid_template_areas": null,
      "grid_template_columns": null,
      "grid_template_rows": null,
      "height": null,
      "justify_content": null,
      "justify_items": null,
      "left": null,
      "margin": null,
      "max_height": null,
      "max_width": null,
      "min_height": null,
      "min_width": null,
      "object_fit": null,
      "object_position": null,
      "order": null,
      "overflow": null,
      "overflow_x": null,
      "overflow_y": null,
      "padding": null,
      "right": null,
      "top": null,
      "visibility": null,
      "width": null
     }
    },
    "cb21838b15d340b78a4019174db4af80": {
     "model_module": "@jupyter-widgets/base",
     "model_module_version": "1.2.0",
     "model_name": "LayoutModel",
     "state": {
      "_model_module": "@jupyter-widgets/base",
      "_model_module_version": "1.2.0",
      "_model_name": "LayoutModel",
      "_view_count": null,
      "_view_module": "@jupyter-widgets/base",
      "_view_module_version": "1.2.0",
      "_view_name": "LayoutView",
      "align_content": null,
      "align_items": null,
      "align_self": null,
      "border": null,
      "bottom": null,
      "display": null,
      "flex": null,
      "flex_flow": null,
      "grid_area": null,
      "grid_auto_columns": null,
      "grid_auto_flow": null,
      "grid_auto_rows": null,
      "grid_column": null,
      "grid_gap": null,
      "grid_row": null,
      "grid_template_areas": null,
      "grid_template_columns": null,
      "grid_template_rows": null,
      "height": null,
      "justify_content": null,
      "justify_items": null,
      "left": null,
      "margin": null,
      "max_height": null,
      "max_width": null,
      "min_height": null,
      "min_width": null,
      "object_fit": null,
      "object_position": null,
      "order": null,
      "overflow": null,
      "overflow_x": null,
      "overflow_y": null,
      "padding": null,
      "right": null,
      "top": null,
      "visibility": null,
      "width": null
     }
    },
    "cb3876f1b1e342a78a746b40831c6f71": {
     "model_module": "@jupyter-widgets/base",
     "model_module_version": "1.2.0",
     "model_name": "LayoutModel",
     "state": {
      "_model_module": "@jupyter-widgets/base",
      "_model_module_version": "1.2.0",
      "_model_name": "LayoutModel",
      "_view_count": null,
      "_view_module": "@jupyter-widgets/base",
      "_view_module_version": "1.2.0",
      "_view_name": "LayoutView",
      "align_content": null,
      "align_items": null,
      "align_self": null,
      "border": null,
      "bottom": null,
      "display": null,
      "flex": null,
      "flex_flow": null,
      "grid_area": null,
      "grid_auto_columns": null,
      "grid_auto_flow": null,
      "grid_auto_rows": null,
      "grid_column": null,
      "grid_gap": null,
      "grid_row": null,
      "grid_template_areas": null,
      "grid_template_columns": null,
      "grid_template_rows": null,
      "height": null,
      "justify_content": null,
      "justify_items": null,
      "left": null,
      "margin": null,
      "max_height": null,
      "max_width": null,
      "min_height": null,
      "min_width": null,
      "object_fit": null,
      "object_position": null,
      "order": null,
      "overflow": null,
      "overflow_x": null,
      "overflow_y": null,
      "padding": null,
      "right": null,
      "top": null,
      "visibility": null,
      "width": null
     }
    },
    "d09b05af16074ce3bfde6183bb01b883": {
     "model_module": "@jupyter-widgets/controls",
     "model_module_version": "1.5.0",
     "model_name": "DescriptionStyleModel",
     "state": {
      "_model_module": "@jupyter-widgets/controls",
      "_model_module_version": "1.5.0",
      "_model_name": "DescriptionStyleModel",
      "_view_count": null,
      "_view_module": "@jupyter-widgets/base",
      "_view_module_version": "1.2.0",
      "_view_name": "StyleView",
      "description_width": ""
     }
    },
    "d4d360395c3e4366853b9a087dede52b": {
     "model_module": "@jupyter-widgets/base",
     "model_module_version": "1.2.0",
     "model_name": "LayoutModel",
     "state": {
      "_model_module": "@jupyter-widgets/base",
      "_model_module_version": "1.2.0",
      "_model_name": "LayoutModel",
      "_view_count": null,
      "_view_module": "@jupyter-widgets/base",
      "_view_module_version": "1.2.0",
      "_view_name": "LayoutView",
      "align_content": null,
      "align_items": null,
      "align_self": null,
      "border": null,
      "bottom": null,
      "display": null,
      "flex": null,
      "flex_flow": null,
      "grid_area": null,
      "grid_auto_columns": null,
      "grid_auto_flow": null,
      "grid_auto_rows": null,
      "grid_column": null,
      "grid_gap": null,
      "grid_row": null,
      "grid_template_areas": null,
      "grid_template_columns": null,
      "grid_template_rows": null,
      "height": null,
      "justify_content": null,
      "justify_items": null,
      "left": null,
      "margin": null,
      "max_height": null,
      "max_width": null,
      "min_height": null,
      "min_width": null,
      "object_fit": null,
      "object_position": null,
      "order": null,
      "overflow": null,
      "overflow_x": null,
      "overflow_y": null,
      "padding": null,
      "right": null,
      "top": null,
      "visibility": null,
      "width": null
     }
    },
    "d59321482bc347fab77b72a980d9aeb2": {
     "model_module": "@jupyter-widgets/base",
     "model_module_version": "1.2.0",
     "model_name": "LayoutModel",
     "state": {
      "_model_module": "@jupyter-widgets/base",
      "_model_module_version": "1.2.0",
      "_model_name": "LayoutModel",
      "_view_count": null,
      "_view_module": "@jupyter-widgets/base",
      "_view_module_version": "1.2.0",
      "_view_name": "LayoutView",
      "align_content": null,
      "align_items": null,
      "align_self": null,
      "border": null,
      "bottom": null,
      "display": null,
      "flex": null,
      "flex_flow": null,
      "grid_area": null,
      "grid_auto_columns": null,
      "grid_auto_flow": null,
      "grid_auto_rows": null,
      "grid_column": null,
      "grid_gap": null,
      "grid_row": null,
      "grid_template_areas": null,
      "grid_template_columns": null,
      "grid_template_rows": null,
      "height": null,
      "justify_content": null,
      "justify_items": null,
      "left": null,
      "margin": null,
      "max_height": null,
      "max_width": null,
      "min_height": null,
      "min_width": null,
      "object_fit": null,
      "object_position": null,
      "order": null,
      "overflow": null,
      "overflow_x": null,
      "overflow_y": null,
      "padding": null,
      "right": null,
      "top": null,
      "visibility": null,
      "width": null
     }
    },
    "d998543acf2549938bf94f97e697b10e": {
     "model_module": "@jupyter-widgets/controls",
     "model_module_version": "1.5.0",
     "model_name": "HTMLModel",
     "state": {
      "_dom_classes": [],
      "_model_module": "@jupyter-widgets/controls",
      "_model_module_version": "1.5.0",
      "_model_name": "HTMLModel",
      "_view_count": null,
      "_view_module": "@jupyter-widgets/controls",
      "_view_module_version": "1.5.0",
      "_view_name": "HTMLView",
      "description": "",
      "description_tooltip": null,
      "layout": "IPY_MODEL_deef84629f984c01b3afe757d0373b92",
      "placeholder": "​",
      "style": "IPY_MODEL_66ffdd088ebb43e495413dbea3f2c97d",
      "value": " 1/1 [00:00&lt;00:00,  1.14it/s]"
     }
    },
    "ddadb89049be40d298efbbecbf7127ae": {
     "model_module": "@jupyter-widgets/base",
     "model_module_version": "1.2.0",
     "model_name": "LayoutModel",
     "state": {
      "_model_module": "@jupyter-widgets/base",
      "_model_module_version": "1.2.0",
      "_model_name": "LayoutModel",
      "_view_count": null,
      "_view_module": "@jupyter-widgets/base",
      "_view_module_version": "1.2.0",
      "_view_name": "LayoutView",
      "align_content": null,
      "align_items": null,
      "align_self": null,
      "border": null,
      "bottom": null,
      "display": null,
      "flex": null,
      "flex_flow": null,
      "grid_area": null,
      "grid_auto_columns": null,
      "grid_auto_flow": null,
      "grid_auto_rows": null,
      "grid_column": null,
      "grid_gap": null,
      "grid_row": null,
      "grid_template_areas": null,
      "grid_template_columns": null,
      "grid_template_rows": null,
      "height": null,
      "justify_content": null,
      "justify_items": null,
      "left": null,
      "margin": null,
      "max_height": null,
      "max_width": null,
      "min_height": null,
      "min_width": null,
      "object_fit": null,
      "object_position": null,
      "order": null,
      "overflow": null,
      "overflow_x": null,
      "overflow_y": null,
      "padding": null,
      "right": null,
      "top": null,
      "visibility": null,
      "width": null
     }
    },
    "deef84629f984c01b3afe757d0373b92": {
     "model_module": "@jupyter-widgets/base",
     "model_module_version": "1.2.0",
     "model_name": "LayoutModel",
     "state": {
      "_model_module": "@jupyter-widgets/base",
      "_model_module_version": "1.2.0",
      "_model_name": "LayoutModel",
      "_view_count": null,
      "_view_module": "@jupyter-widgets/base",
      "_view_module_version": "1.2.0",
      "_view_name": "LayoutView",
      "align_content": null,
      "align_items": null,
      "align_self": null,
      "border": null,
      "bottom": null,
      "display": null,
      "flex": null,
      "flex_flow": null,
      "grid_area": null,
      "grid_auto_columns": null,
      "grid_auto_flow": null,
      "grid_auto_rows": null,
      "grid_column": null,
      "grid_gap": null,
      "grid_row": null,
      "grid_template_areas": null,
      "grid_template_columns": null,
      "grid_template_rows": null,
      "height": null,
      "justify_content": null,
      "justify_items": null,
      "left": null,
      "margin": null,
      "max_height": null,
      "max_width": null,
      "min_height": null,
      "min_width": null,
      "object_fit": null,
      "object_position": null,
      "order": null,
      "overflow": null,
      "overflow_x": null,
      "overflow_y": null,
      "padding": null,
      "right": null,
      "top": null,
      "visibility": null,
      "width": null
     }
    },
    "e1728690e16d417899ff2d8b88747178": {
     "model_module": "@jupyter-widgets/controls",
     "model_module_version": "1.5.0",
     "model_name": "FloatProgressModel",
     "state": {
      "_dom_classes": [],
      "_model_module": "@jupyter-widgets/controls",
      "_model_module_version": "1.5.0",
      "_model_name": "FloatProgressModel",
      "_view_count": null,
      "_view_module": "@jupyter-widgets/controls",
      "_view_module_version": "1.5.0",
      "_view_name": "ProgressView",
      "bar_style": "success",
      "description": "",
      "description_tooltip": null,
      "layout": "IPY_MODEL_437b26643dba4b3d9d20a84da7d95fa9",
      "max": 1,
      "min": 0,
      "orientation": "horizontal",
      "style": "IPY_MODEL_46d6553d007e49b4bc17bb5e725a4196",
      "value": 1
     }
    },
    "e566e68585834d359c1e8fe2485a33d5": {
     "model_module": "@jupyter-widgets/controls",
     "model_module_version": "1.5.0",
     "model_name": "DescriptionStyleModel",
     "state": {
      "_model_module": "@jupyter-widgets/controls",
      "_model_module_version": "1.5.0",
      "_model_name": "DescriptionStyleModel",
      "_view_count": null,
      "_view_module": "@jupyter-widgets/base",
      "_view_module_version": "1.2.0",
      "_view_name": "StyleView",
      "description_width": ""
     }
    },
    "e75963ac73704bb0864f087f1ff0edd8": {
     "model_module": "@jupyter-widgets/controls",
     "model_module_version": "1.5.0",
     "model_name": "DescriptionStyleModel",
     "state": {
      "_model_module": "@jupyter-widgets/controls",
      "_model_module_version": "1.5.0",
      "_model_name": "DescriptionStyleModel",
      "_view_count": null,
      "_view_module": "@jupyter-widgets/base",
      "_view_module_version": "1.2.0",
      "_view_name": "StyleView",
      "description_width": ""
     }
    },
    "eb68f8fcc1c0468889b68ced8e940db0": {
     "model_module": "@jupyter-widgets/controls",
     "model_module_version": "1.5.0",
     "model_name": "DescriptionStyleModel",
     "state": {
      "_model_module": "@jupyter-widgets/controls",
      "_model_module_version": "1.5.0",
      "_model_name": "DescriptionStyleModel",
      "_view_count": null,
      "_view_module": "@jupyter-widgets/base",
      "_view_module_version": "1.2.0",
      "_view_name": "StyleView",
      "description_width": ""
     }
    },
    "ed8f644f3e4d4321944fee32476b7a8e": {
     "model_module": "@jupyter-widgets/base",
     "model_module_version": "1.2.0",
     "model_name": "LayoutModel",
     "state": {
      "_model_module": "@jupyter-widgets/base",
      "_model_module_version": "1.2.0",
      "_model_name": "LayoutModel",
      "_view_count": null,
      "_view_module": "@jupyter-widgets/base",
      "_view_module_version": "1.2.0",
      "_view_name": "LayoutView",
      "align_content": null,
      "align_items": null,
      "align_self": null,
      "border": null,
      "bottom": null,
      "display": null,
      "flex": null,
      "flex_flow": null,
      "grid_area": null,
      "grid_auto_columns": null,
      "grid_auto_flow": null,
      "grid_auto_rows": null,
      "grid_column": null,
      "grid_gap": null,
      "grid_row": null,
      "grid_template_areas": null,
      "grid_template_columns": null,
      "grid_template_rows": null,
      "height": null,
      "justify_content": null,
      "justify_items": null,
      "left": null,
      "margin": null,
      "max_height": null,
      "max_width": null,
      "min_height": null,
      "min_width": null,
      "object_fit": null,
      "object_position": null,
      "order": null,
      "overflow": null,
      "overflow_x": null,
      "overflow_y": null,
      "padding": null,
      "right": null,
      "top": null,
      "visibility": null,
      "width": null
     }
    },
    "f402955b4a5e48d79f983293b077cdc8": {
     "model_module": "@jupyter-widgets/controls",
     "model_module_version": "1.5.0",
     "model_name": "ProgressStyleModel",
     "state": {
      "_model_module": "@jupyter-widgets/controls",
      "_model_module_version": "1.5.0",
      "_model_name": "ProgressStyleModel",
      "_view_count": null,
      "_view_module": "@jupyter-widgets/base",
      "_view_module_version": "1.2.0",
      "_view_name": "StyleView",
      "bar_color": null,
      "description_width": ""
     }
    },
    "f5b5f602ae7644ea97c52a1c10544dee": {
     "model_module": "@jupyter-widgets/controls",
     "model_module_version": "1.5.0",
     "model_name": "HTMLModel",
     "state": {
      "_dom_classes": [],
      "_model_module": "@jupyter-widgets/controls",
      "_model_module_version": "1.5.0",
      "_model_name": "HTMLModel",
      "_view_count": null,
      "_view_module": "@jupyter-widgets/controls",
      "_view_module_version": "1.5.0",
      "_view_name": "HTMLView",
      "description": "",
      "description_tooltip": null,
      "layout": "IPY_MODEL_63ab190af0e24e19b1b653be488eb9a9",
      "placeholder": "​",
      "style": "IPY_MODEL_e566e68585834d359c1e8fe2485a33d5",
      "value": "Summarize dataset: 100%"
     }
    }
   }
  }
 },
 "nbformat": 4,
 "nbformat_minor": 1
}
